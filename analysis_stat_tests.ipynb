{
 "cells": [
  {
   "attachments": {},
   "cell_type": "markdown",
   "metadata": {},
   "source": [
    "\n",
    "# Analysis Notebook\n",
    "\n",
    "This notebook can be used to calculate statistical metrics for the data produced. \n",
    "*** "
   ]
  },
  {
   "attachments": {},
   "cell_type": "markdown",
   "metadata": {},
   "source": [
    "## 0. Setup <a class=\"anchor\" id=\"0\"></a>\n",
    "This section imports all files and sets up the notebook."
   ]
  },
  {
   "cell_type": "code",
   "execution_count": 104,
   "metadata": {},
   "outputs": [],
   "source": [
    "# Import all pacakges\n",
    "import os\n",
    "import pandas as pd\n",
    "import numpy as np\n",
    "from scipy import stats\n"
   ]
  },
  {
   "cell_type": "code",
   "execution_count": 105,
   "metadata": {},
   "outputs": [
    {
     "name": "stdout",
     "output_type": "stream",
     "text": [
      "Using results: ['Adaptive', 'Random']\n"
     ]
    }
   ],
   "source": [
    "# Choose which results to use\n",
    "results_to_use = [\"Adaptive\", \"Random\"]  # If this is empty, all files in the folder will be used\n",
    "WARMUP_EPOCHS = 0 # Number of epochs to ignore.\n",
    "sim_colours = ['blue', 'green', 'red', 'orange', 'purple', 'brown', 'pink', 'gray', 'olive', 'cyan']\n",
    "\n",
    "\n",
    "all_results = os.listdir('results/')\n",
    "\n",
    "if results_to_use == [\"\"]:\n",
    "    results_to_use = all_results\n",
    "# remove DS_Store from the list\n",
    "if '.DS_Store' in results_to_use:\n",
    "    results_to_use.remove('.DS_Store')\n",
    "    \n",
    "print(\"Using results: \" + str(results_to_use))\n"
   ]
  },
  {
   "cell_type": "code",
   "execution_count": 106,
   "metadata": {},
   "outputs": [],
   "source": [
    "# Create a dictionary. Each key is a set of results. \n",
    "\n",
    "all_sim_results = {}\n",
    "\n",
    "for sim in results_to_use:\n",
    "    all_sim_results[sim] = {}\n",
    "    all_sim_results[sim]['configuration'] = pd.read_csv(\n",
    "        'results/' + sim + '/configuration.txt', header=None, delimiter=\":\")\n",
    "    types_of_results = []\n",
    "    # Get all the filenames in the folder, excluding the extension\n",
    "    for file in os.listdir('results/' + sim + '/exported_data/'):\n",
    "        if file.endswith(\".npy\"):\n",
    "            types_of_results.append(file[:-4])\n",
    "    # Create a dictionary for each type of result\n",
    "    for result in types_of_results:\n",
    "        all_sim_results[sim][result] = np.load(\n",
    "            'results/' + sim + '/exported_data/' + result + '.npy')"
   ]
  },
  {
   "cell_type": "code",
   "execution_count": 107,
   "metadata": {},
   "outputs": [
    {
     "name": "stdout",
     "output_type": "stream",
     "text": [
      "Results: Adaptive\n",
      "                                    0                    1\n",
      "0                             command                  run\n",
      "1                       num_of_epochs                10000\n",
      "2                  num_of_simulations                  100\n",
      "3                           grid_size                    3\n",
      "4                      queue_capacity                   10\n",
      "5                     congestion_rate                 0.07\n",
      "6                       with_hotspots                 True\n",
      "7                           wage_time                   10\n",
      "8                      credit_balance                    5\n",
      "9           shared_auction_parameters                 None\n",
      "10  adaptive_auction_action_selection   e_greedy_exp_decay\n",
      "11               bid_calculation_rule               linear\n",
      "12       adaptive_auction_update_rule        simple_bandit\n",
      "13             auction_episode_length                   10\n",
      "14   action_selection_hyperparameters                 None\n",
      "15    adaptive_auction_discretization                   25\n",
      "16             only_winning_bid_moves                 None\n",
      "17           intersection_reward_type    mixed_metric_rank\n",
      "18                  inact_rank_weight                  0.5\n",
      "19                    bid_rank_weight                  0.5\n",
      "20                       all_cars_bid                 True\n",
      "21               shared_bid_generator                 None\n",
      "22                 bidders_proportion      [1, 0, 0, 0, 1]\n",
      "23       bidders_urgency_distribution             gaussian\n",
      "24                     results_folder     results/Adaptive\n",
      "25                         print_grid                 None\n",
      "26                         sweep_mode                 None\n",
      "27                            low_dpi                 None\n",
      "Results: Random\n",
      "                                    0                   1\n",
      "0                             command                 run\n",
      "1                       num_of_epochs               10000\n",
      "2                  num_of_simulations                 100\n",
      "3                           grid_size                   3\n",
      "4                      queue_capacity                  10\n",
      "5                     congestion_rate                0.07\n",
      "6                       with_hotspots                True\n",
      "7                           wage_time                  10\n",
      "8                      credit_balance                   5\n",
      "9           shared_auction_parameters                None\n",
      "10  adaptive_auction_action_selection              random\n",
      "11               bid_calculation_rule              linear\n",
      "12       adaptive_auction_update_rule       simple_bandit\n",
      "13             auction_episode_length                  10\n",
      "14   action_selection_hyperparameters                None\n",
      "15    adaptive_auction_discretization                  25\n",
      "16             only_winning_bid_moves                None\n",
      "17           intersection_reward_type   mixed_metric_rank\n",
      "18                  inact_rank_weight                 0.5\n",
      "19                    bid_rank_weight                 0.5\n",
      "20                       all_cars_bid                True\n",
      "21               shared_bid_generator                None\n",
      "22                 bidders_proportion     [1, 0, 0, 0, 1]\n",
      "23       bidders_urgency_distribution            gaussian\n",
      "24                     results_folder      results/Random\n",
      "25                         print_grid                None\n",
      "26                         sweep_mode                None\n",
      "27                            low_dpi                None\n"
     ]
    }
   ],
   "source": [
    "# Show all the all_sim_results in the notebook\n",
    "for set_of_results in results_to_use:\n",
    "    print(\"Results: \" + set_of_results)\n",
    "    print(all_sim_results[set_of_results]['configuration'])"
   ]
  },
  {
   "attachments": {},
   "cell_type": "markdown",
   "metadata": {},
   "source": [
    "## 1. Average Total Number of Trips  <a class=\"anchor\" id=\"1\"></a>\n",
    "\n",
    "This t-test compares the average total number of trips between the two experiments, for all sims."
   ]
  },
  {
   "cell_type": "code",
   "execution_count": 108,
   "metadata": {},
   "outputs": [
    {
     "name": "stdout",
     "output_type": "stream",
     "text": [
      "TtestResult(statistic=5.652413265893216, pvalue=5.4610305922159177e-08, df=198.0)\n",
      "The average number of trips for the first two simulations are: 26645.57 and 26498.03\n",
      "the standard deviation of number of trips for the first two simulations are: 187.71687484080914 and 179.48021924435014\n",
      "in latex: $(M= 26645.57 , SD= 187.717 )$ $(M= 26498.03 , SD= 179.48 )$\n",
      "in latex: t( 198.0 )= 5.652 , p= 0.0\n"
     ]
    }
   ],
   "source": [
    "all_average_number_of_trips = []\n",
    "for sim in results_to_use:\n",
    "    all_average_number_of_trips.append(\n",
    "        all_sim_results[sim]['stat_num_of_trips_per_simulation'])\n",
    "\n",
    "results = stats.ttest_ind(all_average_number_of_trips[0], all_average_number_of_trips[1])\n",
    "print(results)\n",
    "#present the results nicely\n",
    "print(\"The average number of trips for the first two simulations are: \" + str(np.mean(all_average_number_of_trips[0])) + \" and \" + str(np.mean(all_average_number_of_trips[1])))\n",
    "print(\"the standard deviation of number of trips for the first two simulations are: \" + str(np.std(all_average_number_of_trips[0])) + \" and \" + str(np.std(all_average_number_of_trips[1])))\n",
    "mean_1 = round(np.mean(all_average_number_of_trips[0]),3)\n",
    "mean_2 = round(np.mean(all_average_number_of_trips[1]),3)\n",
    "std_1 = round(np.std(all_average_number_of_trips[0]),3)\n",
    "std_2 = round(np.std(all_average_number_of_trips[1]),3)\n",
    "print(\"in latex:\",\"$(M=\",mean_1,\", SD=\",std_1,\")$\",\"$(M=\",mean_2,\", SD=\",std_2,\")$\")\n",
    "print(\"in latex:\", \"t(\", results.df, \")=\", round(results[0], 3), \", p=\", round(results[1], 3))\n",
    "\n"
   ]
  },
  {
   "attachments": {},
   "cell_type": "markdown",
   "metadata": {},
   "source": [
    "## 2. Average Congestion of Central Intersection\n",
    "\n",
    "This t-test is between the 2 experiments, for all sims. It does not process individual epochs"
   ]
  },
  {
   "cell_type": "code",
   "execution_count": 109,
   "metadata": {},
   "outputs": [
    {
     "name": "stdout",
     "output_type": "stream",
     "text": [
      "TtestResult(statistic=-8.383781226532703, pvalue=9.470361555500823e-15, df=198.0)\n",
      "The average congestion for the first two simulations are: 0.37817357499999993 and 0.38611989999999985\n",
      "The p-value is: 9.470361555500823e-15\n",
      "The difference is significant\n",
      "in latex: $(M= 0.378 ,\\ SD= 0.008 )$ $(M= 0.386 ,\\ SD= 0.006 )$\n",
      "in latex: $t( 198.0 )= -8.384 , p= 0.0 $\n"
     ]
    }
   ],
   "source": [
    "average_congestion_per_intersection = []\n",
    "for exp in results_to_use:\n",
    "    average_congestion_per_intersection.append(\n",
    "        all_sim_results[exp]['stat_average_congestion_per_intersection'])\n",
    "\n",
    "results = stats.ttest_ind(average_congestion_per_intersection[0][:,1,1], average_congestion_per_intersection[1][:,1,1])\n",
    "print(results)\n",
    "print(\"The average congestion for the first two simulations are: \" + str(np.mean(average_congestion_per_intersection[0][:,1,1])) + \" and \" + str(np.mean(average_congestion_per_intersection[1][:,1,1])))\n",
    "print(\"The p-value is: \" + str(results[1]))\n",
    "if results[1] < 0.05:\n",
    "    print(\"The difference is significant\")\n",
    "else:\n",
    "    print(\"The difference is not significant\")\n",
    "    \n",
    "mean_1 = round(np.mean(average_congestion_per_intersection[0][:,1,1]),3)\n",
    "mean_2 = round(np.mean(average_congestion_per_intersection[1][:,1,1]),3)\n",
    "std_1 = round(np.std(average_congestion_per_intersection[0][:,1,1]),3)\n",
    "std_2 = round(np.std(average_congestion_per_intersection[1][:,1,1]),3)\n",
    "print(\"in latex:\",\"$(M=\",mean_1,\",\\ SD=\",std_1,\")$\",\"$(M=\",mean_2,\",\\ SD=\",std_2,\")$\")\n",
    "print(\"in latex:\", \"$t(\", results.df, \")=\", round(results[0], 3), \", p=\", round(results[1], 3), \"$\")"
   ]
  },
  {
   "attachments": {},
   "cell_type": "markdown",
   "metadata": {},
   "source": [
    "## 3. Average Time Waited <a id=\"3\"></a>\n",
    "\n",
    "agent, intersection and grid based"
   ]
  },
  {
   "cell_type": "code",
   "execution_count": 110,
   "metadata": {},
   "outputs": [
    {
     "name": "stdout",
     "output_type": "stream",
     "text": [
      "TtestResult(statistic=-66.34205938495288, pvalue=3.3587674002994525e-137, df=198.0)\n",
      "The average time waited for the first two simulations are: 0.23138099999999998 and 0.27220061111111105\n",
      "The p-value is: 3.3587674002994525e-137\n",
      "in latex: $(M= 0.231 ,\\ SD= 0.005 )$ $(M= 0.272 ,\\ SD= 0.004 )$\n",
      "in latex: $t( 198.0 )= -66.342 , p= 0.0 $\n",
      "TtestResult(statistic=-64.46715881788059, pvalue=7.635159006413398e-135, df=198.0)\n",
      "The max time waited for the first two simulations are: 0.5864358888888889 and 0.6891041111111111\n",
      "The p-value is: 7.635159006413398e-135\n",
      "in latex: $(M= 0.586 ,\\ SD= 0.012 )$ $(M= 0.689 ,\\ SD= 0.01 )$\n",
      "in latex: $t( 198.0 )= -64.467 ,\\ p= 0.0 $\n"
     ]
    }
   ],
   "source": [
    "######Agent based######\n",
    "# Average time\n",
    "average_time_agent = []\n",
    "for exp in results_to_use:\n",
    "    average_time_agent.append(\n",
    "        all_sim_results[exp]['stat_average_time_waited_per_simulation_agent'])\n",
    "    \n",
    "results = stats.ttest_ind(average_time_agent[0], average_time_agent[1])\n",
    "print(results)\n",
    "print(\"The average time waited for the first two simulations are: \" + str(np.mean(average_time_agent[0])) + \" and \" + str(np.mean(average_time_agent[1])))\n",
    "print(\"The p-value is: \" + str(results[1]))\n",
    "mean_1 = round(np.mean(average_time_agent[0]),3)\n",
    "mean_2 = round(np.mean(average_time_agent[1]),3)\n",
    "std_1 = round(np.std(average_time_agent[0]),3)\n",
    "std_2 = round(np.std(average_time_agent[1]),3)\n",
    "print(\"in latex:\",\"$(M=\",mean_1,\",\\ SD=\",std_1,\")$\",\"$(M=\",mean_2,\",\\ SD=\",std_2,\")$\")\n",
    "print(\"in latex:\", \"$t(\", results.df, \")=\", round(results[0], 3), \", p=\", round(results[1], 3), \"$\")\n",
    "\n",
    "# Max time\n",
    "max_time_agent = []\n",
    "for exp in results_to_use:\n",
    "    max_time_agent.append(\n",
    "        all_sim_results[exp]['stat_max_time_waited_per_simulation_agent'])\n",
    "    \n",
    "results = stats.ttest_ind(max_time_agent[0], max_time_agent[1])\n",
    "print(results)\n",
    "print(\"The max time waited for the first two simulations are: \" + str(np.mean(max_time_agent[0])) + \" and \" + str(np.mean(max_time_agent[1])))\n",
    "print(\"The p-value is: \" + str(results[1]))\n",
    "mean_1 = round(np.mean(max_time_agent[0]),3)\n",
    "mean_2 = round(np.mean(max_time_agent[1]),3)\n",
    "std_1 = round(np.std(max_time_agent[0]),3)\n",
    "std_2 = round(np.std(max_time_agent[1]),3)\n",
    "print(\"in latex:\",\"$(M=\",mean_1,\",\\ SD=\",std_1,\")$\",\"$(M=\",mean_2,\",\\ SD=\",std_2,\")$\")\n",
    "print(\"in latex:\", \"$t(\", results.df, \")=\", round(results[0], 3), \",\\ p=\", round(results[1], 3), \"$\")"
   ]
  },
  {
   "cell_type": "code",
   "execution_count": 111,
   "metadata": {},
   "outputs": [
    {
     "name": "stdout",
     "output_type": "stream",
     "text": [
      "\\item [{[ 0 , 0 ]}]:  Adaptive $(M= 0.024 ,\\ SD= 0.002 )$ , Zero $(M= 0.024 ,\\ SD= 0.002 ),\\ t( 198 )= 0.36 ,\\ p= 0.722 $\n",
      "\\item [{[ 0 , 1 ]}]:  Adaptive $(M= 0.185 ,\\ SD= 0.02 )$ , Zero $(M= 0.182 ,\\ SD= 0.016 ),\\ t( 198 )= 1.14 ,\\ p= 0.255 $\n",
      "\\item [{[ 0 , 2 ]}]:  Adaptive $(M= 0.025 ,\\ SD= 0.002 )$ , Zero $(M= 0.024 ,\\ SD= 0.002 ),\\ t( 198 )= 2.98 ,\\ p= 0.003 $\n",
      "\\item [{[ 1 , 0 ]}]:  Adaptive $(M= 0.18 ,\\ SD= 0.02 )$ , Zero $(M= 0.181 ,\\ SD= 0.017 ),\\ t( 198 )= -0.42 ,\\ p= 0.677 $\n",
      "\\item [{[ 1 , 1 ]}]:  Adaptive $(M= 1.198 ,\\ SD= 0.057 )$ , Zero $(M= 1.566 ,\\ SD= 0.034 ),\\ t( 198 )= -55.42 ,\\ p= 0.0 $\n",
      "\\item [{[ 1 , 2 ]}]:  Adaptive $(M= 0.223 ,\\ SD= 0.027 )$ , Zero $(M= 0.223 ,\\ SD= 0.018 ),\\ t( 198 )= -0.03 ,\\ p= 0.979 $\n",
      "\\item [{[ 2 , 0 ]}]:  Adaptive $(M= 0.025 ,\\ SD= 0.002 )$ , Zero $(M= 0.024 ,\\ SD= 0.002 ),\\ t( 198 )= 1.86 ,\\ p= 0.064 $\n",
      "\\item [{[ 2 , 1 ]}]:  Adaptive $(M= 0.2 ,\\ SD= 0.018 )$ , Zero $(M= 0.204 ,\\ SD= 0.017 ),\\ t( 198 )= -1.49 ,\\ p= 0.138 $\n",
      "\\item [{[ 2 , 2 ]}]:  Adaptive $(M= 0.024 ,\\ SD= 0.002 )$ , Zero $(M= 0.023 ,\\ SD= 0.002 ),\\ t( 198 )= 2.59 ,\\ p= 0.01 $\n"
     ]
    }
   ],
   "source": [
    "######Intersection based - Average Time######\n",
    "\n",
    "average_time_intersection = []\n",
    "for exp in results_to_use:\n",
    "    average_time_intersection.append(\n",
    "        all_sim_results[exp]['stat_average_time_waited_per_intersection'])\n",
    "    \n",
    "for i in range(len(average_time_intersection[0][0])):\n",
    "    for j in range(len(average_time_intersection[0][0])):\n",
    "        # print(\"Intersection [\", i, \"][\", j, \"]\")\n",
    "        results = stats.ttest_ind(average_time_intersection[0][:,i,j], average_time_intersection[1][:,i,j])\n",
    "        # print(results)\n",
    "        # print(\"The average time waited for the first two simulations are: \" + str(np.mean(average_time_intersection[0][:,i,j])) + \" and \" + str(np.mean(average_time_intersection[1][:,i,j])))\n",
    "        # print(\"The p-value is: \" + str(results[1]))\n",
    "        mean_1 = round(np.mean(average_time_intersection[0][:,i,j]),3)\n",
    "        mean_2 = round(np.mean(average_time_intersection[1][:,i,j]),3)\n",
    "        std_1 = round(np.std(average_time_intersection[0][:,i,j]),3)\n",
    "        std_2 = round(np.std(average_time_intersection[1][:,i,j]),3)\n",
    "        print(\"\\item [{[\", i, \",\", j, \"]}]: \", \"Adaptive $(M=\",mean_1,\",\\ SD=\",std_1,\")$\",\", Zero $(M=\",mean_2,\",\\ SD=\",std_2,\"),\\ t(\", int(results.df), \")=\", round(results[0], 2), \",\\ p=\", round(results[1], 3), \"$\")\n",
    "        # \\item [{[0, 0]}]: Adaptive $(M= 0.027 ,\\ SD= 0.005 )$ , Random $(M= 0.024 ,\\ SD= 0.004 ),$\\newline$\\ t( 198 )= 5.81 ,\\ p<.001 $\n"
   ]
  },
  {
   "cell_type": "code",
   "execution_count": 112,
   "metadata": {},
   "outputs": [
    {
     "name": "stdout",
     "output_type": "stream",
     "text": [
      "\\item [{[ 0 , 0 ]}]:  Adaptive $(M= 0.086 ,\\ SD= 0.007 )$ , Zero $(M= 0.086 ,\\ SD= 0.006 ),\\ t( 198 )= 0.36 ,\\ p= 0.719 $\n",
      "\\item [{[ 0 , 1 ]}]:  Adaptive $(M= 0.543 ,\\ SD= 0.049 )$ , Zero $(M= 0.535 ,\\ SD= 0.04 ),\\ t( 198 )= 1.38 ,\\ p= 0.17 $\n",
      "\\item [{[ 0 , 2 ]}]:  Adaptive $(M= 0.089 ,\\ SD= 0.007 )$ , Zero $(M= 0.086 ,\\ SD= 0.006 ),\\ t( 198 )= 3.29 ,\\ p= 0.001 $\n",
      "\\item [{[ 1 , 0 ]}]:  Adaptive $(M= 0.531 ,\\ SD= 0.05 )$ , Zero $(M= 0.533 ,\\ SD= 0.042 ),\\ t( 198 )= -0.28 ,\\ p= 0.778 $\n",
      "\\item [{[ 1 , 1 ]}]:  Adaptive $(M= 2.632 ,\\ SD= 0.135 )$ , Zero $(M= 3.564 ,\\ SD= 0.086 ),\\ t( 198 )= -58.13 ,\\ p= 0.0 $\n",
      "\\item [{[ 1 , 2 ]}]:  Adaptive $(M= 0.637 ,\\ SD= 0.071 )$ , Zero $(M= 0.635 ,\\ SD= 0.045 ),\\ t( 198 )= 0.24 ,\\ p= 0.813 $\n",
      "\\item [{[ 2 , 0 ]}]:  Adaptive $(M= 0.089 ,\\ SD= 0.005 )$ , Zero $(M= 0.088 ,\\ SD= 0.007 ),\\ t( 198 )= 1.89 ,\\ p= 0.061 $\n",
      "\\item [{[ 2 , 1 ]}]:  Adaptive $(M= 0.584 ,\\ SD= 0.048 )$ , Zero $(M= 0.592 ,\\ SD= 0.043 ),\\ t( 198 )= -1.22 ,\\ p= 0.224 $\n",
      "\\item [{[ 2 , 2 ]}]:  Adaptive $(M= 0.086 ,\\ SD= 0.007 )$ , Zero $(M= 0.083 ,\\ SD= 0.006 ),\\ t( 198 )= 2.93 ,\\ p= 0.004 $\n"
     ]
    }
   ],
   "source": [
    "######Intersection based - Max Time######\n",
    "\n",
    "max_time_intersection = []\n",
    "for exp in results_to_use:\n",
    "    max_time_intersection.append(\n",
    "        all_sim_results[exp]['stat_max_time_waited_per_intersection'])\n",
    "    \n",
    "for i in range(len(max_time_intersection[0][0])):\n",
    "    for j in range(len(max_time_intersection[0][0])):\n",
    "        results = stats.ttest_ind(max_time_intersection[0][:,i,j], max_time_intersection[1][:,i,j])\n",
    "        mean_1 = round(np.mean(max_time_intersection[0][:,i,j]),3)\n",
    "        mean_2 = round(np.mean(max_time_intersection[1][:,i,j]),3)\n",
    "        std_1 = round(np.std(max_time_intersection[0][:,i,j]),3)\n",
    "        std_2 = round(np.std(max_time_intersection[1][:,i,j]),3)\n",
    "        print(\"\\item [{[\", i, \",\", j, \"]}]: \", \"Adaptive $(M=\",mean_1,\",\\ SD=\",std_1,\")$\",\", Zero $(M=\",mean_2,\",\\ SD=\",std_2,\"),\\ t(\", int(results.df), \")=\", round(results[0], 2), \",\\ p=\", round(results[1], 3), \"$\")"
   ]
  },
  {
   "cell_type": "code",
   "execution_count": 113,
   "metadata": {},
   "outputs": [],
   "source": [
    "# ###### Grid based###### DEPRECATED/NOT USED\n",
    "\n",
    "# # Average time\n",
    "# print(\"AVERAGE TIME WAITED\")\n",
    "# average_time_grid = []\n",
    "# for exp in results_to_use:\n",
    "#     average_time_grid.append(\n",
    "#         all_sim_results[exp]['stat_average_time_waited_grid'])\n",
    "\n",
    "# means_1 = []\n",
    "# for i in range(len(average_time_grid[0])):\n",
    "#     means_1.append(np.mean(average_time_grid[0][i]))\n",
    "# means_2 = []\n",
    "# for i in range(len(average_time_grid[1])):\n",
    "#     means_2.append(np.mean(average_time_grid[1][i]))\n",
    "\n",
    "# print(np.mean(average_time_grid[0], axis=0))\n",
    "# # print(\"mean = \", np.mean(np.mean(average_time_grid[0], axis=0)))\n",
    "# # print(\"std = \", np.std(np.mean(average_time_grid[0], axis=0)))\n",
    "\n",
    "# results = stats.ttest_ind(means_1, means_2)\n",
    "# print(results)\n",
    "# print(\"The average time waited for the first two simulations are: \" +\n",
    "#       str(np.mean(means_1)) + \" and \" + str(np.mean(means_2)))\n",
    "# print(\"The p-value is: \" + str(results[1]))\n",
    "# mean_1 = round(np.mean(means_1), 3)\n",
    "# mean_2 = round(np.mean(means_2), 3)\n",
    "# std_1 = round(np.std(means_1), 3)\n",
    "# std_2 = round(np.std(means_2), 3)\n",
    "# print(\"in latex:\", \"$(M=\", mean_1, \",\\ SD=\", std_1, \")$\",\n",
    "#       \"$(M=\", mean_2, \",\\ SD=\", std_2, \")$\")\n",
    "# print(\"in latex:\", \"$t(\", results.df, \")=\", round(\n",
    "#     results[0], 3), \", p=\", round(results[1], 3), \"$\")\n",
    "\n",
    "# # Max time\n",
    "# print(\"MAX TIME WAITED\")\n",
    "# max_time_grid = []\n",
    "# for exp in results_to_use:\n",
    "#     max_time_grid.append(\n",
    "#         all_sim_results[exp]['stat_max_time_waited_grid'])\n",
    "\n",
    "# means_1 = []\n",
    "# for i in range(len(max_time_grid[0])):\n",
    "#     means_1.append(np.mean(max_time_grid[0][i]))\n",
    "# means_2 = []\n",
    "# for i in range(len(max_time_grid[1])):\n",
    "#     means_2.append(np.mean(max_time_grid[1][i]))\n",
    "\n",
    "\n",
    "# results = stats.ttest_ind(means_1, means_2)\n",
    "# print(results)\n",
    "# print(\"The max time waited for the first two simulations are: \" +\n",
    "#       str(np.mean(means_1)) + \" and \" + str(np.mean(means_2)))\n",
    "# print(\"The p-value is: \" + str(results[1]))\n",
    "# mean_1 = round(np.mean(means_1), 3)\n",
    "# mean_2 = round(np.mean(means_2), 3)\n",
    "# std_1 = round(np.std(means_1), 3)\n",
    "# std_2 = round(np.std(means_2), 3)\n",
    "# print(\"in latex:\", \"$(M=\", mean_1, \",\\ SD=\", std_1, \")$\",\n",
    "#       \"$(M=\", mean_2, \",\\ SD=\", std_2, \")$\")\n",
    "# print(\"in latex:\", \"$t(\", results.df, \")=\", round(\n",
    "#     results[0], 3), \", p=\", round(results[1], 3), \"$\")"
   ]
  },
  {
   "cell_type": "markdown",
   "metadata": {},
   "source": [
    "## 4. Gini coefficient <a id=\"4\"></a>"
   ]
  },
  {
   "cell_type": "code",
   "execution_count": 114,
   "metadata": {},
   "outputs": [
    {
     "name": "stdout",
     "output_type": "stream",
     "text": [
      "TtestResult(statistic=11.724338842983359, pvalue=1.8841780908713807e-24, df=198.0)\n",
      "The average gini of time waited for the first two simulations are: 0.13611684867377347 and 0.13208587337373903\n",
      "The p-value is: 1.8841780908713807e-24\n",
      "in latex: $(M= 0.136 ,\\ SD= 0.003 )$ $(M= 0.132 ,\\ SD= 0.002 )$\n",
      "in latex: $t( 198.0 )= 11.724 , p= 0.0 $\n"
     ]
    }
   ],
   "source": [
    "# Average Time Waited.\n",
    "#Averaged over epochs and intersections: the gini of each intersection, and average of all the ginis per epoch.\n",
    "all_ginis_time_waited = []\n",
    "for sim in results_to_use:\n",
    "    all_ginis_time_waited.append(\n",
    "        all_sim_results[sim]['stat_time_waited_gini'])\n",
    "\n",
    "results = stats.ttest_ind(all_ginis_time_waited[0], all_ginis_time_waited[1])\n",
    "print(results)\n",
    "# Present the results nicely\n",
    "print(\"The average gini of time waited for the first two simulations are: \" + str(np.mean(all_ginis_time_waited[0])) + \" and \" + str(np.mean(all_ginis_time_waited[1])))\n",
    "print(\"The p-value is: \" + str(results[1]))\n",
    "mean_1 = round(np.mean(all_ginis_time_waited[0]),3)\n",
    "mean_2 = round(np.mean(all_ginis_time_waited[1]),3)\n",
    "std_1 = round(np.std(all_ginis_time_waited[0]),3)\n",
    "std_2 = round(np.std(all_ginis_time_waited[1]),3)\n",
    "print(\"in latex:\",\"$(M=\",mean_1,\",\\ SD=\",std_1,\")$\",\"$(M=\",mean_2,\",\\ SD=\",std_2,\")$\")\n",
    "print(\"in latex:\", \"$t(\", results.df, \")=\", round(results[0], 3), \", p=\", round(results[1], 3), \"$\")\n",
    "\n"
   ]
  },
  {
   "cell_type": "code",
   "execution_count": 115,
   "metadata": {},
   "outputs": [
    {
     "name": "stdout",
     "output_type": "stream",
     "text": [
      "TtestResult(statistic=11.724338842983359, pvalue=1.8841780908713807e-24, df=198.0)\n",
      "The average gini of satisfaction for the first two simulations are: 0.416427199608096 and 0.42382260423539814\n",
      "The p-value is: 1.8841780908713807e-24\n",
      "in latex: $(M= 0.416 ,\\ SD= 0.002 )$ $(M= 0.424 ,\\ SD= 0.002 )$\n",
      "in latex: $t( 198.0 )= 11.724 , p= 0.0 $\n"
     ]
    }
   ],
   "source": [
    "# Average Satisfaction.\n",
    "#Averaged over epochs and intersections: the gini of each intersection, and average of all the ginis per epoch.\n",
    "all_ginis_satisfaction = []\n",
    "for sim in results_to_use:\n",
    "    all_ginis_satisfaction.append(\n",
    "        all_sim_results[sim]['stat_satisfaction_gini'])\n",
    "\n",
    "results = stats.ttest_ind(all_ginis_time_waited[0], all_ginis_time_waited[1])\n",
    "print(results)\n",
    "#present the results nicely\n",
    "print(\"The average gini of satisfaction for the first two simulations are: \" + str(np.mean(all_ginis_satisfaction[0])) + \" and \" + str(np.mean(all_ginis_satisfaction[1])))\n",
    "print(\"The p-value is: \" + str(results[1]))\n",
    "mean_1 = round(np.mean(all_ginis_satisfaction[0]),3)\n",
    "mean_2 = round(np.mean(all_ginis_satisfaction[1]),3)\n",
    "std_1 = round(np.std(all_ginis_satisfaction[0]),3)\n",
    "std_2 = round(np.std(all_ginis_satisfaction[1]),3)\n",
    "print(\"in latex:\",\"$(M=\",mean_1,\",\\ SD=\",std_1,\")$\",\"$(M=\",mean_2,\",\\ SD=\",std_2,\")$\")\n",
    "print(\"in latex:\", \"$t(\", results.df, \")=\", round(results[0], 3), \", p=\", round(results[1], 3), \"$\")\n",
    "\n"
   ]
  },
  {
   "cell_type": "markdown",
   "metadata": {},
   "source": [
    "## 5. Trip Satisfaction <a id=\"5\"></a>"
   ]
  },
  {
   "cell_type": "code",
   "execution_count": 116,
   "metadata": {},
   "outputs": [
    {
     "name": "stdout",
     "output_type": "stream",
     "text": [
      "TtestResult(statistic=7.855875627496529, pvalue=2.472216705568414e-13, df=198.0)\n",
      "The average satisfaction for the first two simulations are: 0.16730737462014328 and 0.16635187668329274\n",
      "The p-value is: 2.472216705568414e-13\n",
      "in latex: $(M= 0.167 ,\\ SD= 0.001 )$ $(M= 0.166 ,\\ SD= 0.001 )$\n",
      "in latex: $t( 198.0 )= 7.856 , p= 0.0 $\n"
     ]
    }
   ],
   "source": [
    "all_satisfactions = []\n",
    "for sim in results_to_use:\n",
    "    all_satisfactions.append(\n",
    "        all_sim_results[sim]['stat_satisfaction_mean'])\n",
    "\n",
    "results = stats.ttest_ind(all_satisfactions[0], all_satisfactions[1])\n",
    "print(results)\n",
    "#present the results nicely\n",
    "print(\"The average satisfaction for the first two simulations are: \" + str(np.mean(all_satisfactions[0])) + \" and \" + str(np.mean(all_satisfactions[1])))\n",
    "print(\"The p-value is: \" + str(results[1]))\n",
    "mean_1 = round(np.mean(all_satisfactions[0]),3)\n",
    "mean_2 = round(np.mean(all_satisfactions[1]),3)\n",
    "std_1 = round(np.std(all_satisfactions[0]),3)\n",
    "std_2 = round(np.std(all_satisfactions[1]),3)\n",
    "print(\"in latex:\",\"$(M=\",mean_1,\",\\ SD=\",std_1,\")$\",\"$(M=\",mean_2,\",\\ SD=\",std_2,\")$\")\n",
    "print(\"in latex:\", \"$t(\", results.df, \")=\", round(results[0], 3), \", p=\", round(results[1], 3), \"$\")\n"
   ]
  },
  {
   "cell_type": "markdown",
   "metadata": {},
   "source": [
    "## 6. Auction Reward <a id=\"5\"></a>"
   ]
  },
  {
   "cell_type": "code",
   "execution_count": 117,
   "metadata": {},
   "outputs": [
    {
     "name": "stdout",
     "output_type": "stream",
     "text": [
      "Intersection [ 0 ][ 0 ]\n",
      "TtestResult(statistic=1.26675229369833, pvalue=0.20673195066741323, df=198.0)\n",
      "The average auction reward for the first two simulations are: 0.05584549999999999 and 0.055218833333333335\n",
      "The p-value is: 0.20673195066741323\n",
      "Intersection [ 0 ][ 1 ]\n",
      "TtestResult(statistic=4.555973912544793, pvalue=9.107443621394974e-06, df=198.0)\n",
      "The average auction reward for the first two simulations are: 0.24500391666666663 and 0.23798366666666668\n",
      "The p-value is: 9.107443621394974e-06\n",
      "Intersection [ 0 ][ 2 ]\n",
      "TtestResult(statistic=3.744308202810813, pvalue=0.0002370712228415897, df=198.0)\n",
      "The average auction reward for the first two simulations are: 0.057355166666666665 and 0.0555785\n",
      "The p-value is: 0.0002370712228415897\n",
      "Intersection [ 1 ][ 0 ]\n",
      "TtestResult(statistic=4.362035436248009, pvalue=2.071620072202795e-05, df=198.0)\n",
      "The average auction reward for the first two simulations are: 0.24614458333333328 and 0.23951475\n",
      "The p-value is: 2.071620072202795e-05\n",
      "Intersection [ 1 ][ 1 ]\n",
      "TtestResult(statistic=8.721090478711613, pvalue=1.1206408249049904e-15, df=198.0)\n",
      "The average auction reward for the first two simulations are: 0.7485832499999999 and 0.7409965\n",
      "The p-value is: 1.1206408249049904e-15\n",
      "Intersection [ 1 ][ 2 ]\n",
      "TtestResult(statistic=6.0261314787079, pvalue=8.064345233779594e-09, df=198.0)\n",
      "The average auction reward for the first two simulations are: 0.26917674999999996 and 0.26041408333333327\n",
      "The p-value is: 8.064345233779594e-09\n",
      "Intersection [ 2 ][ 0 ]\n",
      "TtestResult(statistic=2.367517607185318, pvalue=0.018871749675226614, df=198.0)\n",
      "The average auction reward for the first two simulations are: 0.057981583333333336 and 0.05678266666666667\n",
      "The p-value is: 0.018871749675226614\n",
      "Intersection [ 2 ][ 1 ]\n",
      "TtestResult(statistic=4.4652740791679335, pvalue=1.3419544106563222e-05, df=198.0)\n",
      "The average auction reward for the first two simulations are: 0.2663460833333333 and 0.2598468333333333\n",
      "The p-value is: 1.3419544106563222e-05\n",
      "Intersection [ 2 ][ 2 ]\n",
      "TtestResult(statistic=3.8029160272814524, pvalue=0.00019041379778501308, df=198.0)\n",
      "The average auction reward for the first two simulations are: 0.055425583333333334 and 0.05364700000000001\n",
      "The p-value is: 0.00019041379778501308\n"
     ]
    }
   ],
   "source": [
    "######Intersection based - Average Auction Reward######\n",
    "\n",
    "average_reward_intersection = []\n",
    "for exp in results_to_use:\n",
    "    average_reward_intersection.append(\n",
    "        all_sim_results[exp]['stat_average_auction_reward_per_intersection'])\n",
    "    \n",
    "for i in range(len(average_reward_intersection[0][0])):\n",
    "    for j in range(len(average_reward_intersection[0][0])):\n",
    "        print(\"Intersection [\", i, \"][\", j, \"]\")\n",
    "        results = stats.ttest_ind(average_reward_intersection[0][:,i,j], average_reward_intersection[1][:,i,j])\n",
    "        print(results)\n",
    "        print(\"The average auction reward for the first two simulations are: \" + str(np.mean(average_reward_intersection[0][:,i,j])) + \" and \" + str(np.mean(average_reward_intersection[1][:,i,j])))\n",
    "        print(\"The p-value is: \" + str(results[1]))"
   ]
  }
 ],
 "metadata": {
  "kernelspec": {
   "display_name": "cars",
   "language": "python",
   "name": "python3"
  },
  "language_info": {
   "codemirror_mode": {
    "name": "ipython",
    "version": 3
   },
   "file_extension": ".py",
   "mimetype": "text/x-python",
   "name": "python",
   "nbconvert_exporter": "python",
   "pygments_lexer": "ipython3",
   "version": "3.9.16"
  },
  "orig_nbformat": 4
 },
 "nbformat": 4,
 "nbformat_minor": 2
}
