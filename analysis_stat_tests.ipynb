{
 "cells": [
  {
   "attachments": {},
   "cell_type": "markdown",
   "metadata": {},
   "source": [
    "\n",
    "# Analysis Notebook\n",
    "\n",
    "This notebook can be used to calculate statistical metrics for the data produced. \n",
    "*** "
   ]
  },
  {
   "attachments": {},
   "cell_type": "markdown",
   "metadata": {},
   "source": [
    "## 0. Setup <a class=\"anchor\" id=\"0\"></a>\n",
    "This section imports all files and sets up the notebook."
   ]
  },
  {
   "cell_type": "code",
   "execution_count": 169,
   "metadata": {},
   "outputs": [],
   "source": [
    "# Import all pacakges\n",
    "import os\n",
    "import pandas as pd\n",
    "import numpy as np\n",
    "import matplotlib.pyplot as plt\n"
   ]
  },
  {
   "cell_type": "code",
   "execution_count": 170,
   "metadata": {},
   "outputs": [
    {
     "name": "stdout",
     "output_type": "stream",
     "text": [
      "Using results: ['random', 'adaptive']\n"
     ]
    }
   ],
   "source": [
    "# Choose which results to use\n",
    "results_to_use = [\"\"]  # If this is empty, all files in the folder will be used\n",
    "WARMUP_EPOCHS = 0 # Number of epochs to ignore.\n",
    "sim_colours = ['blue', 'green', 'red', 'orange', 'purple', 'brown', 'pink', 'gray', 'olive', 'cyan']\n",
    "\n",
    "\n",
    "all_results = os.listdir('results/')\n",
    "\n",
    "if results_to_use == [\"\"]:\n",
    "    results_to_use = all_results\n",
    "# remove DS_Store from the list\n",
    "if '.DS_Store' in results_to_use:\n",
    "    results_to_use.remove('.DS_Store')\n",
    "    \n",
    "print(\"Using results: \" + str(results_to_use))\n"
   ]
  },
  {
   "cell_type": "code",
   "execution_count": 171,
   "metadata": {},
   "outputs": [],
   "source": [
    "# Create a dictionary. Each key is a set of results. \n",
    "\n",
    "all_sim_results = {}\n",
    "\n",
    "for sim in results_to_use:\n",
    "    all_sim_results[sim] = {}\n",
    "    all_sim_results[sim]['configuration'] = pd.read_csv(\n",
    "        'results/' + sim + '/configuration.txt', header=None, delimiter=\":\")\n",
    "    types_of_results = []\n",
    "    # Get all the filenames in the folder, excluding the extension\n",
    "    for file in os.listdir('results/' + sim + '/exported_data/'):\n",
    "        if file.endswith(\".npy\"):\n",
    "            types_of_results.append(file[:-4])\n",
    "    # Create a dictionary for each type of result\n",
    "    for result in types_of_results:\n",
    "        all_sim_results[sim][result] = np.load(\n",
    "            'results/' + sim + '/exported_data/' + result + '.npy')"
   ]
  },
  {
   "cell_type": "code",
   "execution_count": 172,
   "metadata": {},
   "outputs": [
    {
     "name": "stdout",
     "output_type": "stream",
     "text": [
      "Results: random\n",
      "                                    0                   1\n",
      "0                             command                 run\n",
      "1                       num_of_epochs                1000\n",
      "2                  num_of_simulations                  10\n",
      "3                           grid_size                   3\n",
      "4                      queue_capacity                  10\n",
      "5                     congestion_rate                0.07\n",
      "6                       with_hotspots                True\n",
      "7                           wage_time                  10\n",
      "8                      credit_balance                   5\n",
      "9           shared_auction_parameters                None\n",
      "10  adaptive_auction_action_selection              random\n",
      "11               bid_calculation_rule              linear\n",
      "12       adaptive_auction_update_rule       simple_bandit\n",
      "13             auction_episode_length                  10\n",
      "14   action_selection_hyperparameters                None\n",
      "15    adaptive_auction_discretization                  25\n",
      "16             only_winning_bid_moves                None\n",
      "17           intersection_reward_type   mixed_metric_rank\n",
      "18                  inact_rank_weight                 0.5\n",
      "19                    bid_rank_weight                 0.5\n",
      "20                       all_cars_bid                True\n",
      "21               shared_bid_generator                None\n",
      "22                 bidders_proportion     [1, 0, 0, 0, 1]\n",
      "23       bidders_urgency_distribution            gaussian\n",
      "24                     results_folder      results/random\n",
      "25                         print_grid                None\n",
      "26                         sweep_mode                None\n",
      "27                            low_dpi                True\n",
      "Results: adaptive\n",
      "                                    0                    1\n",
      "0                             command                  run\n",
      "1                       num_of_epochs                 1000\n",
      "2                  num_of_simulations                   10\n",
      "3                           grid_size                    3\n",
      "4                      queue_capacity                   10\n",
      "5                     congestion_rate                 0.07\n",
      "6                       with_hotspots                 True\n",
      "7                           wage_time                   10\n",
      "8                      credit_balance                    5\n",
      "9           shared_auction_parameters                 None\n",
      "10  adaptive_auction_action_selection   e_greedy_exp_decay\n",
      "11               bid_calculation_rule               linear\n",
      "12       adaptive_auction_update_rule        simple_bandit\n",
      "13             auction_episode_length                   10\n",
      "14   action_selection_hyperparameters                 None\n",
      "15    adaptive_auction_discretization                   25\n",
      "16             only_winning_bid_moves                 None\n",
      "17           intersection_reward_type    mixed_metric_rank\n",
      "18                  inact_rank_weight                  0.5\n",
      "19                    bid_rank_weight                  0.5\n",
      "20                       all_cars_bid                 True\n",
      "21               shared_bid_generator                 None\n",
      "22                 bidders_proportion      [1, 0, 0, 0, 1]\n",
      "23       bidders_urgency_distribution             gaussian\n",
      "24                     results_folder     results/adaptive\n",
      "25                         print_grid                 None\n",
      "26                         sweep_mode                 None\n",
      "27                            low_dpi                 True\n"
     ]
    }
   ],
   "source": [
    "# Show all the all_sim_results in the notebook\n",
    "for set_of_results in results_to_use:\n",
    "    print(\"Results: \" + set_of_results)\n",
    "    print(all_sim_results[set_of_results]['configuration'])"
   ]
  },
  {
   "attachments": {},
   "cell_type": "markdown",
   "metadata": {},
   "source": [
    "## 1. Average Total Number of Trips  <a class=\"anchor\" id=\"1\"></a>\n",
    "\n",
    "This t-test compares the average total number of trips between the two experiments, for all sims."
   ]
  },
  {
   "cell_type": "code",
   "execution_count": 173,
   "metadata": {},
   "outputs": [
    {
     "name": "stdout",
     "output_type": "stream",
     "text": [
      "TtestResult(statistic=-0.5452943009439454, pvalue=0.5922446263812466, df=18.0)\n",
      "The average number of trips for the first two simulations are: 2485.3 and 2495.5\n",
      "The p-value is: 0.5922446263812466\n",
      "The difference is not significant\n"
     ]
    }
   ],
   "source": [
    "all_average_number_of_trips = []\n",
    "for sim in results_to_use:\n",
    "    all_average_number_of_trips.append(\n",
    "        all_sim_results[sim]['stat_num_of_trips_per_simulation'])\n",
    "\n",
    "results = stats.ttest_ind(all_average_number_of_trips[0], all_average_number_of_trips[1])\n",
    "print(results)\n",
    "#present the results nicely\n",
    "print(\"The average number of trips for the first two simulations are: \" + str(np.mean(all_average_number_of_trips[0])) + \" and \" + str(np.mean(all_average_number_of_trips[1])))\n",
    "print(\"The p-value is: \" + str(results[1]))\n",
    "if results[1] < 0.05:\n",
    "    print(\"The difference is significant\")\n",
    "else:\n",
    "    print(\"The difference is not significant\")\n"
   ]
  },
  {
   "attachments": {},
   "cell_type": "markdown",
   "metadata": {},
   "source": [
    "## 2. Average Congestion of central Intersection\n",
    "\n",
    "This t-test is between the 2 experiments, for all sims. It does not process individual epochs"
   ]
  },
  {
   "cell_type": "code",
   "execution_count": 174,
   "metadata": {},
   "outputs": [
    {
     "name": "stdout",
     "output_type": "stream",
     "text": [
      "TtestResult(statistic=1.6913295535850714, pvalue=0.10801435313223114, df=18.0)\n",
      "The average congestion for the first two simulations are: 0.33702 and 0.3249\n",
      "The p-value is: 0.10801435313223114\n",
      "The difference is not significant\n"
     ]
    }
   ],
   "source": [
    "average_congestion_per_intersection = []\n",
    "for exp in results_to_use:\n",
    "    average_congestion_per_intersection.append(\n",
    "        all_sim_results[exp]['stat_average_congestion_per_intersection'])\n",
    "\n",
    "results = stats.ttest_ind(average_congestion_per_intersection[0][:,1,1], average_congestion_per_intersection[1][:,1,1])\n",
    "print(results)\n",
    "print(\"The average congestion for the first two simulations are: \" + str(np.mean(average_congestion_per_intersection[0][:,1,1])) + \" and \" + str(np.mean(average_congestion_per_intersection[1][:,1,1])))\n",
    "print(\"The p-value is: \" + str(results[1]))\n",
    "if results[1] < 0.05:\n",
    "    print(\"The difference is significant\")\n",
    "else:\n",
    "    print(\"The difference is not significant\")"
   ]
  },
  {
   "attachments": {},
   "cell_type": "markdown",
   "metadata": {},
   "source": [
    "## 3. Average Time Waited <a id=\"3\"></a>\n",
    "\n",
    "agent, intersection and grid based"
   ]
  },
  {
   "cell_type": "code",
   "execution_count": 175,
   "metadata": {},
   "outputs": [
    {
     "name": "stdout",
     "output_type": "stream",
     "text": [
      "TtestResult(statistic=2.023249528344651, pvalue=0.0581565315375937, df=18.0)\n",
      "The average time waited for the first two simulations are: 0.26753611111111114 and 0.2560444444444444\n",
      "The p-value is: 0.0581565315375937\n",
      "TtestResult(statistic=2.2452696182175007, pvalue=0.03755015527388474, df=18.0)\n",
      "The max time waited for the first two simulations are: 0.6867444444444446 and 0.6574444444444444\n",
      "The p-value is: 0.03755015527388474\n"
     ]
    }
   ],
   "source": [
    "######Agent based######\n",
    "# Average time\n",
    "average_time_agent = []\n",
    "for exp in results_to_use:\n",
    "    average_time_agent.append(\n",
    "        all_sim_results[exp]['stat_average_time_waited_per_simulation_agent'])\n",
    "    \n",
    "results = stats.ttest_ind(average_time_agent[0], average_time_agent[1])\n",
    "print(results)\n",
    "print(\"The average time waited for the first two simulations are: \" + str(np.mean(average_time_agent[0])) + \" and \" + str(np.mean(average_time_agent[1])))\n",
    "print(\"The p-value is: \" + str(results[1]))\n",
    "\n",
    "# Max time\n",
    "max_time_agent = []\n",
    "for exp in results_to_use:\n",
    "    max_time_agent.append(\n",
    "        all_sim_results[exp]['stat_max_time_waited_per_simulation_agent'])\n",
    "    \n",
    "results = stats.ttest_ind(max_time_agent[0], max_time_agent[1])\n",
    "print(results)\n",
    "print(\"The max time waited for the first two simulations are: \" + str(np.mean(max_time_agent[0])) + \" and \" + str(np.mean(max_time_agent[1])))\n",
    "print(\"The p-value is: \" + str(results[1]))"
   ]
  },
  {
   "cell_type": "code",
   "execution_count": 176,
   "metadata": {},
   "outputs": [
    {
     "name": "stdout",
     "output_type": "stream",
     "text": [
      "Intersection [ 0 ][ 0 ]\n",
      "TtestResult(statistic=-1.8970504612320969, pvalue=0.07398422302534072, df=18.0)\n",
      "The average time waited for the first two simulations are: 0.019625 and 0.027174999999999998\n",
      "The p-value is: 0.07398422302534072\n",
      "Intersection [ 0 ][ 1 ]\n",
      "TtestResult(statistic=-2.4082145313917778, pvalue=0.026968070487147056, df=18.0)\n",
      "The average time waited for the first two simulations are: 0.149675 and 0.20692500000000003\n",
      "The p-value is: 0.026968070487147056\n",
      "Intersection [ 0 ][ 2 ]\n",
      "TtestResult(statistic=-0.3136148531511767, pvalue=0.7574187859159365, df=18.0)\n",
      "The average time waited for the first two simulations are: 0.0428 and 0.047700000000000006\n",
      "The p-value is: 0.7574187859159365\n",
      "Intersection [ 1 ][ 0 ]\n",
      "TtestResult(statistic=0.46855223284145026, pvalue=0.6450140707051305, df=18.0)\n",
      "The average time waited for the first two simulations are: 0.32175000000000004 and 0.30199999999999994\n",
      "The p-value is: 0.6450140707051305\n",
      "Intersection [ 1 ][ 1 ]\n",
      "TtestResult(statistic=6.000813573756642, pvalue=1.1251208921809402e-05, df=18.0)\n",
      "The average time waited for the first two simulations are: 1.252075 and 1.0294750000000001\n",
      "The p-value is: 1.1251208921809402e-05\n",
      "Intersection [ 1 ][ 2 ]\n",
      "TtestResult(statistic=-1.2964033517706326, pvalue=0.21121174422511815, df=18.0)\n",
      "The average time waited for the first two simulations are: 0.33920000000000006 and 0.397025\n",
      "The p-value is: 0.21121174422511815\n",
      "Intersection [ 2 ][ 0 ]\n",
      "TtestResult(statistic=0.21013635475787568, pvalue=0.8359215188548794, df=18.0)\n",
      "The average time waited for the first two simulations are: 0.038 and 0.03515\n",
      "The p-value is: 0.8359215188548794\n",
      "Intersection [ 2 ][ 1 ]\n",
      "TtestResult(statistic=-0.7645941811973513, pvalue=0.4544210322344274, df=18.0)\n",
      "The average time waited for the first two simulations are: 0.217225 and 0.23349999999999996\n",
      "The p-value is: 0.4544210322344274\n",
      "Intersection [ 2 ][ 2 ]\n",
      "TtestResult(statistic=0.5746993873796261, pvalue=0.572608194993107, df=18.0)\n",
      "The average time waited for the first two simulations are: 0.027475 and 0.02545\n",
      "The p-value is: 0.572608194993107\n"
     ]
    }
   ],
   "source": [
    "######Intersection based - Average Time######\n",
    "\n",
    "average_time_intersection = []\n",
    "for exp in results_to_use:\n",
    "    average_time_intersection.append(\n",
    "        all_sim_results[exp]['stat_average_time_waited_per_intersection'])\n",
    "    \n",
    "for i in range(len(average_time_intersection[0][0])):\n",
    "    for j in range(len(average_time_intersection[0][0])):\n",
    "        print(\"Intersection [\", i, \"][\", j, \"]\")\n",
    "        results = stats.ttest_ind(average_time_intersection[0][:,i,j], average_time_intersection[1][:,i,j])\n",
    "        print(results)\n",
    "        print(\"The average time waited for the first two simulations are: \" + str(np.mean(average_time_intersection[0][:,i,j])) + \" and \" + str(np.mean(average_time_intersection[1][:,i,j])))\n",
    "        print(\"The p-value is: \" + str(results[1]))"
   ]
  },
  {
   "cell_type": "code",
   "execution_count": 177,
   "metadata": {},
   "outputs": [
    {
     "name": "stdout",
     "output_type": "stream",
     "text": [
      "Intersection [ 0 ][ 0 ]\n",
      "TtestResult(statistic=-1.9769712392283159, pvalue=0.06356872643327098, df=18.0)\n",
      "The average time waited for the first two simulations are: 0.0715 and 0.0974\n",
      "The p-value is: 0.06356872643327098\n",
      "Intersection [ 0 ][ 1 ]\n",
      "TtestResult(statistic=-2.572104159826212, pvalue=0.019190888219053712, df=18.0)\n",
      "The average time waited for the first two simulations are: 0.43699999999999994 and 0.5892000000000001\n",
      "The p-value is: 0.019190888219053712\n",
      "Intersection [ 0 ][ 2 ]\n",
      "TtestResult(statistic=-0.25954120432455186, pvalue=0.7981629190290955, df=18.0)\n",
      "The average time waited for the first two simulations are: 0.1354 and 0.14500000000000002\n",
      "The p-value is: 0.7981629190290955\n",
      "Intersection [ 1 ][ 0 ]\n",
      "TtestResult(statistic=0.2516215210495754, pvalue=0.8041839743356436, df=18.0)\n",
      "The average time waited for the first two simulations are: 0.8515 and 0.8262\n",
      "The p-value is: 0.8041839743356436\n",
      "Intersection [ 1 ][ 1 ]\n",
      "TtestResult(statistic=6.488016163444629, pvalue=4.21358731016062e-06, df=18.0)\n",
      "The average time waited for the first two simulations are: 2.9078000000000004 and 2.3693\n",
      "The p-value is: 4.21358731016062e-06\n",
      "Intersection [ 1 ][ 2 ]\n",
      "TtestResult(statistic=-0.7857399033512186, pvalue=0.442240930725572, df=18.0)\n",
      "The average time waited for the first two simulations are: 0.9404 and 1.0229000000000001\n",
      "The p-value is: 0.442240930725572\n",
      "Intersection [ 2 ][ 0 ]\n",
      "TtestResult(statistic=0.4002072887807058, pvalue=0.6937136127784884, df=18.0)\n",
      "The average time waited for the first two simulations are: 0.1272 and 0.1129\n",
      "The p-value is: 0.6937136127784884\n",
      "Intersection [ 2 ][ 1 ]\n",
      "TtestResult(statistic=-0.8707905826700428, pvalue=0.3953340072435564, df=18.0)\n",
      "The average time waited for the first two simulations are: 0.6185 and 0.664\n",
      "The p-value is: 0.3953340072435564\n",
      "Intersection [ 2 ][ 2 ]\n",
      "TtestResult(statistic=0.13197006102902317, pvalue=0.8964719429088985, df=18.0)\n",
      "The average time waited for the first two simulations are: 0.0914 and 0.09009999999999999\n",
      "The p-value is: 0.8964719429088985\n"
     ]
    }
   ],
   "source": [
    "######Intersection based - Max Time######\n",
    "\n",
    "max_time_intersection = []\n",
    "for exp in results_to_use:\n",
    "    max_time_intersection.append(\n",
    "        all_sim_results[exp]['stat_max_time_waited_per_intersection'])\n",
    "    \n",
    "for i in range(len(max_time_intersection[0][0])):\n",
    "    for j in range(len(max_time_intersection[0][0])):\n",
    "        print(\"Intersection [\", i, \"][\", j, \"]\")\n",
    "        results = stats.ttest_ind(max_time_intersection[0][:,i,j], max_time_intersection[1][:,i,j])\n",
    "        print(results)\n",
    "        print(\"The average time waited for the first two simulations are: \" + str(np.mean(max_time_intersection[0][:,i,j])) + \" and \" + str(np.mean(max_time_intersection[1][:,i,j])))\n",
    "        print(\"The p-value is: \" + str(results[1]))"
   ]
  },
  {
   "cell_type": "code",
   "execution_count": 178,
   "metadata": {},
   "outputs": [
    {
     "name": "stdout",
     "output_type": "stream",
     "text": [
      "AVERAGE TIME WAITED\n",
      "TtestResult(statistic=2.0232495283446528, pvalue=0.05815653153759351, df=18.0)\n",
      "The average time waited for the first two simulations are: 0.26753611111111114 and 0.2560444444444444\n",
      "The p-value is: 0.05815653153759351\n",
      "MAX TIME WAITED\n",
      "TtestResult(statistic=2.2452696182175003, pvalue=0.03755015527388476, df=18.0)\n",
      "The max time waited for the first two simulations are: 0.6867444444444446 and 0.6574444444444444\n",
      "The p-value is: 0.03755015527388476\n"
     ]
    }
   ],
   "source": [
    "######Grid based######\n",
    "\n",
    "# Average time\n",
    "print(\"AVERAGE TIME WAITED\")\n",
    "average_time_grid = []\n",
    "for exp in results_to_use:\n",
    "    average_time_grid.append(\n",
    "        all_sim_results[exp]['stat_average_time_waited_grid'])\n",
    "\n",
    "means_1 = []\n",
    "for i in range(len(average_time_grid[0])):\n",
    "    means_1.append(np.mean(average_time_grid[0][i]))\n",
    "means_2 = []\n",
    "for i in range(len(average_time_grid[1])):\n",
    "    means_2.append(np.mean(average_time_grid[1][i]))\n",
    "\n",
    "\n",
    "results = stats.ttest_ind(means_1, means_2)\n",
    "print(results)\n",
    "print(\"The average time waited for the first two simulations are: \" + str(np.mean(means_1)) + \" and \" + str(np.mean(means_2)))\n",
    "print(\"The p-value is: \" + str(results[1]))\n",
    "\n",
    "\n",
    "# Max time\n",
    "print(\"MAX TIME WAITED\")\n",
    "max_time_grid = []\n",
    "for exp in results_to_use:\n",
    "    max_time_grid.append(\n",
    "        all_sim_results[exp]['stat_max_time_waited_grid'])\n",
    "\n",
    "means_1 = []\n",
    "for i in range(len(max_time_grid[0])):\n",
    "    means_1.append(np.mean(max_time_grid[0][i]))\n",
    "means_2 = []\n",
    "for i in range(len(max_time_grid[1])):\n",
    "    means_2.append(np.mean(max_time_grid[1][i]))\n",
    "\n",
    "\n",
    "results = stats.ttest_ind(means_1, means_2)\n",
    "print(results)\n",
    "print(\"The max time waited for the first two simulations are: \" + str(np.mean(means_1)) + \" and \" + str(np.mean(means_2)))\n",
    "print(\"The p-value is: \" + str(results[1]))"
   ]
  },
  {
   "cell_type": "markdown",
   "metadata": {},
   "source": [
    "## 4. Gini coefficient <a id=\"4\"></a>"
   ]
  },
  {
   "cell_type": "code",
   "execution_count": 179,
   "metadata": {},
   "outputs": [
    {
     "name": "stdout",
     "output_type": "stream",
     "text": [
      "TtestResult(statistic=-1.971440403280763, pvalue=0.06424488138991127, df=18.0)\n",
      "The average gini of time waited for the first two simulations are: 0.13040286664715445 and 0.13625529917560644\n",
      "The p-value is: 0.06424488138991127\n",
      "The difference is not significant\n"
     ]
    }
   ],
   "source": [
    "# Average Time Waited.\n",
    "#Averaged over epochs and intersections: the gini of each intersection, and average of all the ginis per epoch.\n",
    "all_ginis_time_waited = []\n",
    "for sim in results_to_use:\n",
    "    all_ginis_time_waited.append(\n",
    "        all_sim_results[sim]['stat_time_waited_gini'])\n",
    "\n",
    "results = stats.ttest_ind(all_ginis_time_waited[0], all_ginis_time_waited[1])\n",
    "print(results)\n",
    "#present the results nicely\n",
    "print(\"The average gini of time waited for the first two simulations are: \" + str(np.mean(all_ginis_time_waited[0])) + \" and \" + str(np.mean(all_ginis_time_waited[1])))\n",
    "print(\"The p-value is: \" + str(results[1]))\n",
    "if results[1] < 0.05:\n",
    "    print(\"The difference is significant\")\n",
    "else:\n",
    "    print(\"The difference is not significant\")\n"
   ]
  },
  {
   "cell_type": "code",
   "execution_count": 180,
   "metadata": {},
   "outputs": [
    {
     "name": "stdout",
     "output_type": "stream",
     "text": [
      "TtestResult(statistic=-1.971440403280763, pvalue=0.06424488138991127, df=18.0)\n",
      "The average gini of satisfaction for the first two simulations are: 0.43637502559342795 and 0.43060879686487585\n",
      "The p-value is: 0.06424488138991127\n",
      "The difference is not significant\n"
     ]
    }
   ],
   "source": [
    "# Average Satisfaction.\n",
    "#Averaged over epochs and intersections: the gini of each intersection, and average of all the ginis per epoch.\n",
    "all_ginis_satisfaction = []\n",
    "for sim in results_to_use:\n",
    "    all_ginis_satisfaction.append(\n",
    "        all_sim_results[sim]['stat_satisfaction_gini'])\n",
    "\n",
    "results = stats.ttest_ind(all_ginis_time_waited[0], all_ginis_time_waited[1])\n",
    "print(results)\n",
    "#present the results nicely\n",
    "print(\"The average gini of satisfaction for the first two simulations are: \" + str(np.mean(all_ginis_satisfaction[0])) + \" and \" + str(np.mean(all_ginis_satisfaction[1])))\n",
    "print(\"The p-value is: \" + str(results[1]))\n",
    "if results[1] < 0.05:\n",
    "    print(\"The difference is significant\")\n",
    "else:\n",
    "    print(\"The difference is not significant\")\n"
   ]
  },
  {
   "cell_type": "markdown",
   "metadata": {},
   "source": [
    "## 5. Trip Satisfaction <a id=\"5\"></a>"
   ]
  },
  {
   "cell_type": "code",
   "execution_count": 181,
   "metadata": {},
   "outputs": [
    {
     "name": "stdout",
     "output_type": "stream",
     "text": [
      "TtestResult(statistic=-0.5380463119818749, pvalue=0.5971358593061851, df=18.0)\n",
      "The average satisfactino for the first two simulations are: 0.15539593185876988 and 0.15611872149685274\n",
      "The p-value is: 0.5971358593061851\n",
      "The difference is not significant\n"
     ]
    }
   ],
   "source": [
    "all_satisfactions = []\n",
    "for sim in results_to_use:\n",
    "    all_satisfactions.append(\n",
    "        all_sim_results[sim]['stat_satisfaction_mean'])\n",
    "\n",
    "results = stats.ttest_ind(all_satisfactions[0], all_satisfactions[1])\n",
    "print(results)\n",
    "#present the results nicely\n",
    "print(\"The average satisfactino for the first two simulations are: \" + str(np.mean(all_satisfactions[0])) + \" and \" + str(np.mean(all_satisfactions[1])))\n",
    "print(\"The p-value is: \" + str(results[1]))\n",
    "if results[1] < 0.05:\n",
    "    print(\"The difference is significant\")\n",
    "else:\n",
    "    print(\"The difference is not significant\")\n"
   ]
  }
 ],
 "metadata": {
  "kernelspec": {
   "display_name": "cars",
   "language": "python",
   "name": "python3"
  },
  "language_info": {
   "codemirror_mode": {
    "name": "ipython",
    "version": 3
   },
   "file_extension": ".py",
   "mimetype": "text/x-python",
   "name": "python",
   "nbconvert_exporter": "python",
   "pygments_lexer": "ipython3",
   "version": "3.9.16"
  },
  "orig_nbformat": 4
 },
 "nbformat": 4,
 "nbformat_minor": 2
}
