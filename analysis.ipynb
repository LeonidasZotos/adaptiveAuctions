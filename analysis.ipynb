{
 "cells": [
  {
   "attachments": {},
   "cell_type": "markdown",
   "metadata": {},
   "source": [
    "\n",
    "# Analysis Notebook\n",
    "\n",
    "This notebook can be used to produce graphs and analyses for the data produced. It defaults to using the latest results, but that can be specified. \n",
    "*** "
   ]
  },
  {
   "attachments": {},
   "cell_type": "markdown",
   "metadata": {},
   "source": [
    "## 0. Setup <a class=\"anchor\" id=\"0\"></a>\n",
    "This section imports all files and sets up the notebook."
   ]
  },
  {
   "cell_type": "code",
   "execution_count": null,
   "metadata": {},
   "outputs": [],
   "source": [
    "# Import all pacakges\n",
    "import os\n",
    "import pandas as pd\n",
    "import numpy as np\n",
    "import matplotlib.pyplot as plt\n"
   ]
  },
  {
   "cell_type": "code",
   "execution_count": null,
   "metadata": {},
   "outputs": [],
   "source": [
    "# Choose which results to use\n",
    "results_to_use = [\"\"]  # If this is empty, the last file in the folder will be used\n",
    "WARMUP_EPOCHS = 30 # Number of epochs to ignore.\n",
    "sim_colours = ['blue', 'green', 'red', 'orange', 'purple', 'brown', 'pink', 'gray', 'olive', 'cyan']\n",
    "\n",
    "\n",
    "all_results = os.listdir('results/')\n",
    "\n",
    "if results_to_use == [\"\"]:\n",
    "    results_to_use = all_results\n",
    "\n",
    "print(\"Using results: \" + str(results_to_use))\n"
   ]
  },
  {
   "cell_type": "code",
   "execution_count": null,
   "metadata": {},
   "outputs": [],
   "source": [
    "# Create a dictionary. Each key is a set of results. \n",
    "\n",
    "all_sim_results = {}\n",
    "\n",
    "for sim in results_to_use:\n",
    "    all_sim_results[sim] = {}\n",
    "    all_sim_results[sim]['configuration'] = pd.read_csv(\n",
    "        'results/' + sim + '/configuration.txt', header=None, delimiter=\":\")\n",
    "    types_of_results = []\n",
    "    # Get all the filenames in the folder, excluding the extension\n",
    "    for file in os.listdir('results/' + sim + '/exported_data/'):\n",
    "        if file.endswith(\".npy\"):\n",
    "            types_of_results.append(file[:-4])\n",
    "    # Create a dictionary for each type of result\n",
    "    for result in types_of_results:\n",
    "        all_sim_results[sim][result] = np.load(\n",
    "            'results/' + sim + '/exported_data/' + result + '.npy')"
   ]
  },
  {
   "cell_type": "code",
   "execution_count": null,
   "metadata": {},
   "outputs": [],
   "source": [
    "# Show all the all_sim_results in the notebook\n",
    "for set_of_results in results_to_use:\n",
    "    print(\"Results: \" + set_of_results)\n",
    "    print(all_sim_results[set_of_results]['configuration'])"
   ]
  },
  {
   "attachments": {},
   "cell_type": "markdown",
   "metadata": {},
   "source": [
    "## 1. Satisfaction per Bidding Type <a class=\"anchor\" id=\"1\"></a>"
   ]
  },
  {
   "cell_type": "code",
   "execution_count": null,
   "metadata": {},
   "outputs": [],
   "source": [
    "plt.clf()\n",
    "average_satisfaction_score_results = []\n",
    "for sim in results_to_use:\n",
    "    average_satisfaction_score_results.append(\n",
    "        all_sim_results[sim]['average_satisfaction_score'])\n",
    "\n",
    "for i, history in enumerate(average_satisfaction_score_results):\n",
    "    plt.plot(list(range(len(history))), history,\n",
    "             'o', ls='none', markersize=1.5, label=results_to_use[i], color = sim_colours[i])\n",
    "# plt.ylim(0, 2)\n",
    "plt.xlabel('Epoch')\n",
    "plt.ylabel('Average satisfaction score')\n",
    "plt.title('Average satisfaction score over time')\n",
    "plt.legend()\n",
    "plt.show()\n"
   ]
  },
  {
   "attachments": {},
   "cell_type": "markdown",
   "metadata": {},
   "source": [
    "## 2. Average Auction Reward per Intersection"
   ]
  },
  {
   "cell_type": "code",
   "execution_count": null,
   "metadata": {},
   "outputs": [],
   "source": [
    "def plot_single_reward_history(average_reward_per_intersection, label, colour, axs):\n",
    "    for i in range(average_reward_per_intersection.shape[0]):\n",
    "        for j in range(average_reward_per_intersection.shape[0]):\n",
    "            axs[i, j].plot(\n",
    "                average_reward_per_intersection[i, j], 'o', markersize=1.5, color=colour, label=label)\n",
    "            axs[i, j].set_title('[' + str(i) + str(j) + ']')\n",
    "            axs[i, j].set_xlabel('Epoch')\n",
    "            axs[i, j].set_ylabel('Average Auction Reward')"
   ]
  },
  {
   "cell_type": "code",
   "execution_count": null,
   "metadata": {},
   "outputs": [],
   "source": [
    "plt.clf()\n",
    "average_reward_per_intersection_history_results = []\n",
    "for sim in results_to_use:\n",
    "    average_reward_per_intersection_history_results.append(\n",
    "        all_sim_results[sim]['average_reward_per_intersection_history'])\n",
    "\n",
    "fig, axs = plt.subplots(\n",
    "    average_reward_per_intersection_history_results[0].shape[0], \n",
    "    average_reward_per_intersection_history_results[0].shape[1], sharex=True, sharey=True, figsize=(10, 10))\n",
    "\n",
    "for i, history in enumerate(average_reward_per_intersection_history_results):\n",
    "    plot_single_reward_history(history, results_to_use[i], sim_colours[i], axs)\n",
    "\n",
    "fig.suptitle('Average Auction Reward per Intersection ', fontsize=20)\n",
    "plt.legend()\n",
    "plt.show()\n"
   ]
  },
  {
   "attachments": {},
   "cell_type": "markdown",
   "metadata": {},
   "source": [
    "## 3. Average Throughput per Intersection <a id=\"3\"></a>"
   ]
  },
  {
   "cell_type": "code",
   "execution_count": null,
   "metadata": {},
   "outputs": [],
   "source": [
    "def plot_throughput_history(throughput_history_per_intersection, label, colour, axs):\n",
    "    for i in range(throughput_history_per_intersection.shape[0]):\n",
    "        for j in range(throughput_history_per_intersection.shape[0]):\n",
    "            axs[i, j].plot(\n",
    "                throughput_history_per_intersection[i, j], 'o', markersize=1.5, color=colour, label=label)\n",
    "            axs[i, j].set_title('[' + str(i) + str(j) + ']')\n",
    "            axs[i, j].set_xlabel('Epoch')\n",
    "            axs[i, j].set_ylabel('Average Throughput')"
   ]
  },
  {
   "cell_type": "code",
   "execution_count": null,
   "metadata": {},
   "outputs": [],
   "source": [
    "plt.clf()\n",
    "average_throughput_per_intersection_history_results = []\n",
    "for sim in results_to_use:\n",
    "    average_throughput_per_intersection_history_results.append(\n",
    "        all_sim_results[sim]['average_throughput_per_intersection'])\n",
    "\n",
    "fig, axs = plt.subplots(\n",
    "    average_throughput_per_intersection_history_results[0].shape[0], \n",
    "    average_throughput_per_intersection_history_results[0].shape[1], sharex=True, sharey=True, figsize=(10, 10))\n",
    "\n",
    "for i, history in enumerate(average_throughput_per_intersection_history_results):\n",
    "    plot_throughput_history(history, results_to_use[i], sim_colours[i], axs)\n",
    "\n",
    "fig.suptitle('Average Throughput per Intersection ', fontsize=20)\n",
    "plt.legend()\n",
    "plt.show()\n"
   ]
  },
  {
   "cell_type": "markdown",
   "metadata": {},
   "source": [
    "## 4. Average Max Time Waited per Intersection <a id=\"4\"></a>"
   ]
  },
  {
   "cell_type": "code",
   "execution_count": null,
   "metadata": {},
   "outputs": [],
   "source": [
    "def plot_max_time_waited_history(max_time_waited_history_per_intersection, label, colour, axs):\n",
    "    for i in range(max_time_waited_history_per_intersection.shape[0]):\n",
    "        for j in range(max_time_waited_history_per_intersection.shape[0]):\n",
    "            axs[i, j].plot(\n",
    "                max_time_waited_history_per_intersection[i, j], 'o', markersize=1.5, color=colour, label=label)\n",
    "            axs[i, j].set_title('[' + str(i) + str(j) + ']')\n",
    "            axs[i, j].set_xlabel('Epoch')\n",
    "            axs[i, j].set_ylabel('Average Max Time Waited')"
   ]
  },
  {
   "cell_type": "code",
   "execution_count": null,
   "metadata": {},
   "outputs": [],
   "source": [
    "plt.clf()\n",
    "average_max_time_waited_per_intersection_history_results = []\n",
    "for sim in results_to_use:\n",
    "    average_max_time_waited_per_intersection_history_results.append(\n",
    "        all_sim_results[sim]['average_max_time_waited_per_intersection_history'])\n",
    "\n",
    "fig, axs = plt.subplots(\n",
    "    average_max_time_waited_per_intersection_history_results[0].shape[0], \n",
    "    average_max_time_waited_per_intersection_history_results[0].shape[1], sharex=True, sharey=True, figsize=(10, 10))\n",
    "\n",
    "for i, history in enumerate(average_max_time_waited_per_intersection_history_results):\n",
    "    plot_max_time_waited_history(history, results_to_use[i], sim_colours[i], axs)\n",
    "\n",
    "fig.suptitle('Average Max Time Waited per Intersection ', fontsize=20)\n",
    "plt.legend()\n",
    "plt.show()\n"
   ]
  },
  {
   "cell_type": "markdown",
   "metadata": {},
   "source": [
    "## 5. Average Gini coefficient per Intersection <a id=\"5\"></a>"
   ]
  },
  {
   "cell_type": "code",
   "execution_count": null,
   "metadata": {},
   "outputs": [],
   "source": [
    "def plot_gini_history(gini_history_per_intersection, label, colour, axs):\n",
    "    for i in range(gini_history_per_intersection.shape[0]):\n",
    "        for j in range(gini_history_per_intersection.shape[0]):\n",
    "            axs[i, j].plot(\n",
    "                gini_history_per_intersection[i, j], 'o', markersize=1.5, color=colour, label=label)\n",
    "            axs[i, j].set_title('[' + str(i) + str(j) + ']')\n",
    "            axs[i, j].set_xlabel('Epoch')\n",
    "            axs[i, j].set_ylabel('Average Gini Coeff')"
   ]
  },
  {
   "cell_type": "code",
   "execution_count": null,
   "metadata": {},
   "outputs": [],
   "source": [
    "plt.clf()\n",
    "average_gini_per_intersection_history_results = []\n",
    "for sim in results_to_use:\n",
    "    average_gini_per_intersection_history_results.append(\n",
    "        all_sim_results[sim]['average_gini_per_intersection_history'])\n",
    "\n",
    "fig, axs = plt.subplots(\n",
    "    average_gini_per_intersection_history_results[0].shape[0], \n",
    "    average_gini_per_intersection_history_results[0].shape[1], sharex=True, sharey=True, figsize=(10, 10))\n",
    "\n",
    "for i, history in enumerate(average_gini_per_intersection_history_results):\n",
    "    plot_gini_history(history, results_to_use[i], sim_colours[i], axs)\n",
    "\n",
    "fig.suptitle('Average Gini per Intersection ', fontsize=20)\n",
    "plt.legend()\n",
    "plt.show()\n"
   ]
  },
  {
   "cell_type": "markdown",
   "metadata": {},
   "source": [
    "## 6. Average Parameter Valuations per Intersection <a id=\"5\"></a>"
   ]
  },
  {
   "cell_type": "code",
   "execution_count": null,
   "metadata": {},
   "outputs": [],
   "source": [
    "def plot_average_valuation_per_parameter_per_intersection(rewards, parameters, counts, label, colour, axs):\n",
    "    for i in range(rewards.shape[0]):\n",
    "        for j in range(rewards.shape[0]):\n",
    "            axs[i, j].scatter(\n",
    "                parameters[:, 0], rewards[i, j, :], s=counts[i, j, :], marker=\"o\", c=colour, label=label)\n",
    "            axs[i, j].set_title('[' + str(i) + str(j) + ']')\n",
    "            axs[i, j].set_xlabel('Delay Boost')\n",
    "            axs[i, j].set_ylabel('Average Reward')"
   ]
  },
  {
   "cell_type": "code",
   "execution_count": null,
   "metadata": {},
   "outputs": [],
   "source": [
    "plt.clf()\n",
    "average_valuations_per_parameter_per_intersection = []\n",
    "parameters_used = []\n",
    "counts_per_paramter = []\n",
    "for sim in results_to_use:\n",
    "    average_valuations_per_parameter_per_intersection.append(\n",
    "        all_sim_results[sim]['average_reward_per_parameter_set_per_intersection_rewards'])\n",
    "    parameters_used.append(\n",
    "        all_sim_results[sim]['average_reward_per_parameter_set_per_intersection_parameters'])\n",
    "    counts_per_paramter.append(\n",
    "        all_sim_results[sim]['average_reward_per_parameter_set_per_intersection_counts'])\n",
    "\n",
    "\n",
    "fig, axs = plt.subplots(\n",
    "    average_valuations_per_parameter_per_intersection[0].shape[0],\n",
    "    average_valuations_per_parameter_per_intersection[0].shape[1], sharex=True, sharey=True, figsize=(10, 10))\n",
    "\n",
    "for i, reward_set in enumerate(average_valuations_per_parameter_per_intersection):\n",
    "    plot_average_valuation_per_parameter_per_intersection(\n",
    "        reward_set, parameters_used[i], counts_per_paramter[i],  results_to_use[i], sim_colours[i], axs)\n",
    "\n",
    "fig.suptitle('Average Valuation per Parameter Set ', fontsize=20)\n",
    "plt.legend()\n",
    "plt.show()\n"
   ]
  }
 ],
 "metadata": {
  "kernelspec": {
   "display_name": "cars",
   "language": "python",
   "name": "python3"
  },
  "language_info": {
   "codemirror_mode": {
    "name": "ipython",
    "version": 3
   },
   "file_extension": ".py",
   "mimetype": "text/x-python",
   "name": "python",
   "nbconvert_exporter": "python",
   "pygments_lexer": "ipython3",
   "version": "3.9.16"
  },
  "orig_nbformat": 4
 },
 "nbformat": 4,
 "nbformat_minor": 2
}
