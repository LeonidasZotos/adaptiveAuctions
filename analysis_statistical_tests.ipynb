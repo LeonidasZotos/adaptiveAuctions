{
 "cells": [
  {
   "attachments": {},
   "cell_type": "markdown",
   "metadata": {},
   "source": [
    "\n",
    "# Analysis Notebook\n",
    "\n",
    "This notebook can be used to calculate statistical metrics for the data produced. \n",
    "*** "
   ]
  },
  {
   "attachments": {},
   "cell_type": "markdown",
   "metadata": {},
   "source": [
    "## 0. Setup <a class=\"anchor\" id=\"0\"></a>\n",
    "This section imports all files and sets up the notebook."
   ]
  },
  {
   "cell_type": "code",
   "execution_count": null,
   "metadata": {},
   "outputs": [],
   "source": [
    "# Import all pacakges\n",
    "import os\n",
    "import pandas as pd\n",
    "import numpy as np\n",
    "from scipy import stats"
   ]
  },
  {
   "cell_type": "code",
   "execution_count": null,
   "metadata": {},
   "outputs": [],
   "source": [
    "# Choose which results to use\n",
    "results_to_use = []  # If this is empty, all files in the folder will be used\n",
    "WARMUP_EPOCHS = 0 # Number of epochs to ignore.\n",
    "sim_colours = ['blue', 'green', 'red', 'orange', 'purple', 'brown', 'pink', 'gray', 'olive', 'cyan']\n",
    "\n",
    "\n",
    "all_results = os.listdir('results/')\n",
    "\n",
    "if results_to_use == [\"\"] or results_to_use == []:\n",
    "    results_to_use = all_results\n",
    "# remove DS_Store from the list\n",
    "if '.DS_Store' in results_to_use:\n",
    "    results_to_use.remove('.DS_Store')\n",
    "    \n",
    "print(\"Using results: \" + str(results_to_use))\n"
   ]
  },
  {
   "cell_type": "code",
   "execution_count": null,
   "metadata": {},
   "outputs": [],
   "source": [
    "# Create a dictionary. Each key is a set of results. \n",
    "\n",
    "all_sim_results = {}\n",
    "\n",
    "for sim in results_to_use:\n",
    "    all_sim_results[sim] = {}\n",
    "    all_sim_results[sim]['configuration'] = pd.read_csv(\n",
    "        'results/' + sim + '/configuration.txt', header=None, delimiter=\":\")\n",
    "    types_of_results = []\n",
    "    # Get all the filenames in the folder, excluding the extension\n",
    "    for file in os.listdir('results/' + sim + '/exported_data/'):\n",
    "        if file.endswith(\".npy\"):\n",
    "            types_of_results.append(file[:-4])\n",
    "    # Create a dictionary for each type of result\n",
    "    for result in types_of_results:\n",
    "        all_sim_results[sim][result] = np.load(\n",
    "            'results/' + sim + '/exported_data/' + result + '.npy')"
   ]
  },
  {
   "cell_type": "code",
   "execution_count": null,
   "metadata": {},
   "outputs": [],
   "source": [
    "# Show all the all_sim_results in the notebook\n",
    "for set_of_results in results_to_use:\n",
    "    print(\"Results: \" + set_of_results)\n",
    "    print(all_sim_results[set_of_results]['configuration'])"
   ]
  },
  {
   "attachments": {},
   "cell_type": "markdown",
   "metadata": {},
   "source": [
    "## 1. Average Total Number of Trips  <a class=\"anchor\" id=\"1\"></a>\n",
    "\n",
    "This t-test compares the average total number of trips between the two experiments, for all sims."
   ]
  },
  {
   "cell_type": "code",
   "execution_count": null,
   "metadata": {},
   "outputs": [],
   "source": [
    "all_average_number_of_trips = []\n",
    "for sim in results_to_use:\n",
    "    all_average_number_of_trips.append(\n",
    "        all_sim_results[sim]['stat_num_of_trips_per_simulation'])\n",
    "\n",
    "results = stats.ttest_ind(all_average_number_of_trips[0], all_average_number_of_trips[1])\n",
    "print(results)\n",
    "#present the results nicely\n",
    "print(\"The average number of trips for the first two simulations are: \" + str(np.mean(all_average_number_of_trips[0])) + \" and \" + str(np.mean(all_average_number_of_trips[1])))\n",
    "print(\"the standard deviation of number of trips for the first two simulations are: \" + str(np.std(all_average_number_of_trips[0])) + \" and \" + str(np.std(all_average_number_of_trips[1])))\n",
    "mean_1 = round(np.mean(all_average_number_of_trips[0]),3)\n",
    "mean_2 = round(np.mean(all_average_number_of_trips[1]),3)\n",
    "std_1 = round(np.std(all_average_number_of_trips[0]),3)\n",
    "std_2 = round(np.std(all_average_number_of_trips[1]),3)\n",
    "print(\"in latex:\",\"$(M=\",mean_1,\", SD=\",std_1,\")$\",\"$(M=\",mean_2,\", SD=\",std_2,\")$\")\n",
    "print(\"in latex:\", \"t(\", results.df, \")=\", round(results[0], 3), \", p=\", round(results[1], 3))\n",
    "\n"
   ]
  },
  {
   "attachments": {},
   "cell_type": "markdown",
   "metadata": {},
   "source": [
    "## 2. Average Congestion of Central Intersection\n",
    "\n",
    "This t-test is between the 2 experiments, for all sims. It does not process individual epochs"
   ]
  },
  {
   "cell_type": "code",
   "execution_count": null,
   "metadata": {},
   "outputs": [],
   "source": [
    "average_congestion_per_intersection = []\n",
    "for exp in results_to_use:\n",
    "    average_congestion_per_intersection.append(\n",
    "        all_sim_results[exp]['stat_average_congestion_per_intersection'])\n",
    "\n",
    "results = stats.ttest_ind(average_congestion_per_intersection[0][:,1,1], average_congestion_per_intersection[1][:,1,1])\n",
    "print(results)\n",
    "print(\"The average congestion for the first two simulations are: \" + str(np.mean(average_congestion_per_intersection[0][:,1,1])) + \" and \" + str(np.mean(average_congestion_per_intersection[1][:,1,1])))\n",
    "print(\"The p-value is: \" + str(results[1]))\n",
    "if results[1] < 0.05:\n",
    "    print(\"The difference is significant\")\n",
    "else:\n",
    "    print(\"The difference is not significant\")\n",
    "    \n",
    "mean_1 = round(np.mean(average_congestion_per_intersection[0][:,1,1]),3)\n",
    "mean_2 = round(np.mean(average_congestion_per_intersection[1][:,1,1]),3)\n",
    "std_1 = round(np.std(average_congestion_per_intersection[0][:,1,1]),3)\n",
    "std_2 = round(np.std(average_congestion_per_intersection[1][:,1,1]),3)\n",
    "print(\"in latex:\",\"$(M=\",mean_1,\",\\ SD=\",std_1,\")$\",\"$(M=\",mean_2,\",\\ SD=\",std_2,\")$\")\n",
    "print(\"in latex:\", \"$t(\", results.df, \")=\", round(results[0], 3), \", p=\", round(results[1], 3), \"$\")"
   ]
  },
  {
   "attachments": {},
   "cell_type": "markdown",
   "metadata": {},
   "source": [
    "## 3. Average Time Waited <a id=\"3\"></a>\n",
    "\n",
    "agent, intersection and grid based"
   ]
  },
  {
   "cell_type": "code",
   "execution_count": null,
   "metadata": {},
   "outputs": [],
   "source": [
    "######Agent based######\n",
    "# Average time\n",
    "average_time_agent = []\n",
    "for exp in results_to_use:\n",
    "    average_time_agent.append(\n",
    "        all_sim_results[exp]['stat_average_time_waited_per_simulation_agent'])\n",
    "    \n",
    "results = stats.ttest_ind(average_time_agent[0], average_time_agent[1])\n",
    "print(results)\n",
    "print(\"The average time waited for the first two simulations are: \" + str(np.mean(average_time_agent[0])) + \" and \" + str(np.mean(average_time_agent[1])))\n",
    "print(\"The p-value is: \" + str(results[1]))\n",
    "mean_1 = round(np.mean(average_time_agent[0]),3)\n",
    "mean_2 = round(np.mean(average_time_agent[1]),3)\n",
    "std_1 = round(np.std(average_time_agent[0]),3)\n",
    "std_2 = round(np.std(average_time_agent[1]),3)\n",
    "print(\"in latex:\",\"$(M=\",mean_1,\",\\ SD=\",std_1,\")$\",\"$(M=\",mean_2,\",\\ SD=\",std_2,\")$\")\n",
    "print(\"in latex:\", \"$t(\", results.df, \")=\", round(results[0], 3), \", p=\", round(results[1], 3), \"$\")\n",
    "\n",
    "# Max time\n",
    "max_time_agent = []\n",
    "for exp in results_to_use:\n",
    "    max_time_agent.append(\n",
    "        all_sim_results[exp]['stat_max_time_waited_per_simulation_agent'])\n",
    "    \n",
    "results = stats.ttest_ind(max_time_agent[0], max_time_agent[1])\n",
    "print(results)\n",
    "print(\"The max time waited for the first two simulations are: \" + str(np.mean(max_time_agent[0])) + \" and \" + str(np.mean(max_time_agent[1])))\n",
    "print(\"The p-value is: \" + str(results[1]))\n",
    "mean_1 = round(np.mean(max_time_agent[0]),3)\n",
    "mean_2 = round(np.mean(max_time_agent[1]),3)\n",
    "std_1 = round(np.std(max_time_agent[0]),3)\n",
    "std_2 = round(np.std(max_time_agent[1]),3)\n",
    "print(\"in latex:\",\"$(M=\",mean_1,\",\\ SD=\",std_1,\")$\",\"$(M=\",mean_2,\",\\ SD=\",std_2,\")$\")\n",
    "print(\"in latex:\", \"$t(\", results.df, \")=\", round(results[0], 3), \",\\ p=\", round(results[1], 3), \"$\")"
   ]
  },
  {
   "cell_type": "code",
   "execution_count": null,
   "metadata": {},
   "outputs": [],
   "source": [
    "######Intersection based - Average Time######\n",
    "\n",
    "average_time_intersection = []\n",
    "for exp in results_to_use:\n",
    "    average_time_intersection.append(\n",
    "        all_sim_results[exp]['stat_average_time_waited_per_intersection'])\n",
    "    \n",
    "for i in range(len(average_time_intersection[0][0])):\n",
    "    for j in range(len(average_time_intersection[0][0])):\n",
    "        # print(\"Intersection [\", i, \"][\", j, \"]\")\n",
    "        results = stats.ttest_ind(average_time_intersection[0][:,i,j], average_time_intersection[1][:,i,j])\n",
    "        # print(results)\n",
    "        # print(\"The average time waited for the first two simulations are: \" + str(np.mean(average_time_intersection[0][:,i,j])) + \" and \" + str(np.mean(average_time_intersection[1][:,i,j])))\n",
    "        # print(\"The p-value is: \" + str(results[1]))\n",
    "        mean_1 = round(np.mean(average_time_intersection[0][:,i,j]),3)\n",
    "        mean_2 = round(np.mean(average_time_intersection[1][:,i,j]),3)\n",
    "        std_1 = round(np.std(average_time_intersection[0][:,i,j]),3)\n",
    "        std_2 = round(np.std(average_time_intersection[1][:,i,j]),3)\n",
    "        print(\"\\item [{[\", i, \",\", j, \"]}]: \", \"Adaptive $(M=\",mean_1,\",\\ SD=\",std_1,\")$\",\", Zero $(M=\",mean_2,\",\\ SD=\",std_2,\"),$newline$\\  t(\", int(results.df), \")=\", round(results[0], 2), \",\\ p=\", round(results[1], 3), \"$\")\n",
    "        # \\item [{[0, 0]}]: Adaptive $(M= 0.027 ,\\ SD= 0.005 )$ , Random $(M= 0.024 ,\\ SD= 0.004 ),$\\newline$\\ t( 198 )= 5.81 ,\\ p<.001 $\n"
   ]
  },
  {
   "cell_type": "code",
   "execution_count": null,
   "metadata": {},
   "outputs": [],
   "source": [
    "######Intersection based - Max Time######\n",
    "\n",
    "max_time_intersection = []\n",
    "for exp in results_to_use:\n",
    "    max_time_intersection.append(\n",
    "        all_sim_results[exp]['stat_max_time_waited_per_intersection'])\n",
    "    \n",
    "for i in range(len(max_time_intersection[0][0])):\n",
    "    for j in range(len(max_time_intersection[0][0])):\n",
    "        results = stats.ttest_ind(max_time_intersection[0][:,i,j], max_time_intersection[1][:,i,j])\n",
    "        mean_1 = round(np.mean(max_time_intersection[0][:,i,j]),3)\n",
    "        mean_2 = round(np.mean(max_time_intersection[1][:,i,j]),3)\n",
    "        std_1 = round(np.std(max_time_intersection[0][:,i,j]),3)\n",
    "        std_2 = round(np.std(max_time_intersection[1][:,i,j]),3)\n",
    "        print(\"\\item [{[\", i, \",\", j, \"]}]: \", \"Adaptive $(M=\",mean_1,\",\\ SD=\",std_1,\")$\",\", Zero $(M=\",mean_2,\",\\ SD=\",std_2,\"),$newline$\\  t(\", int(results.df), \")=\", round(results[0], 2), \",\\ p=\", round(results[1], 3), \"$\")\n"
   ]
  },
  {
   "cell_type": "code",
   "execution_count": null,
   "metadata": {},
   "outputs": [],
   "source": [
    "# ###### Grid based###### DEPRECATED/NOT USED\n",
    "\n",
    "# # Average time\n",
    "# print(\"AVERAGE TIME WAITED\")\n",
    "# average_time_grid = []\n",
    "# for exp in results_to_use:\n",
    "#     average_time_grid.append(\n",
    "#         all_sim_results[exp]['stat_average_time_waited_grid'])\n",
    "\n",
    "# means_1 = []\n",
    "# for i in range(len(average_time_grid[0])):\n",
    "#     means_1.append(np.mean(average_time_grid[0][i]))\n",
    "# means_2 = []\n",
    "# for i in range(len(average_time_grid[1])):\n",
    "#     means_2.append(np.mean(average_time_grid[1][i]))\n",
    "\n",
    "# print(np.mean(average_time_grid[0], axis=0))\n",
    "# # print(\"mean = \", np.mean(np.mean(average_time_grid[0], axis=0)))\n",
    "# # print(\"std = \", np.std(np.mean(average_time_grid[0], axis=0)))\n",
    "\n",
    "# results = stats.ttest_ind(means_1, means_2)\n",
    "# print(results)\n",
    "# print(\"The average time waited for the first two simulations are: \" +\n",
    "#       str(np.mean(means_1)) + \" and \" + str(np.mean(means_2)))\n",
    "# print(\"The p-value is: \" + str(results[1]))\n",
    "# mean_1 = round(np.mean(means_1), 3)\n",
    "# mean_2 = round(np.mean(means_2), 3)\n",
    "# std_1 = round(np.std(means_1), 3)\n",
    "# std_2 = round(np.std(means_2), 3)\n",
    "# print(\"in latex:\", \"$(M=\", mean_1, \",\\ SD=\", std_1, \")$\",\n",
    "#       \"$(M=\", mean_2, \",\\ SD=\", std_2, \")$\")\n",
    "# print(\"in latex:\", \"$t(\", results.df, \")=\", round(\n",
    "#     results[0], 3), \", p=\", round(results[1], 3), \"$\")\n",
    "\n",
    "# # Max time\n",
    "# print(\"MAX TIME WAITED\")\n",
    "# max_time_grid = []\n",
    "# for exp in results_to_use:\n",
    "#     max_time_grid.append(\n",
    "#         all_sim_results[exp]['stat_max_time_waited_grid'])\n",
    "\n",
    "# means_1 = []\n",
    "# for i in range(len(max_time_grid[0])):\n",
    "#     means_1.append(np.mean(max_time_grid[0][i]))\n",
    "# means_2 = []\n",
    "# for i in range(len(max_time_grid[1])):\n",
    "#     means_2.append(np.mean(max_time_grid[1][i]))\n",
    "\n",
    "\n",
    "# results = stats.ttest_ind(means_1, means_2)\n",
    "# print(results)\n",
    "# print(\"The max time waited for the first two simulations are: \" +\n",
    "#       str(np.mean(means_1)) + \" and \" + str(np.mean(means_2)))\n",
    "# print(\"The p-value is: \" + str(results[1]))\n",
    "# mean_1 = round(np.mean(means_1), 3)\n",
    "# mean_2 = round(np.mean(means_2), 3)\n",
    "# std_1 = round(np.std(means_1), 3)\n",
    "# std_2 = round(np.std(means_2), 3)\n",
    "# print(\"in latex:\", \"$(M=\", mean_1, \",\\ SD=\", std_1, \")$\",\n",
    "#       \"$(M=\", mean_2, \",\\ SD=\", std_2, \")$\")\n",
    "# print(\"in latex:\", \"$t(\", results.df, \")=\", round(\n",
    "#     results[0], 3), \", p=\", round(results[1], 3), \"$\")"
   ]
  },
  {
   "cell_type": "markdown",
   "metadata": {},
   "source": [
    "## 4. Gini coefficient <a id=\"4\"></a>"
   ]
  },
  {
   "cell_type": "code",
   "execution_count": null,
   "metadata": {},
   "outputs": [],
   "source": [
    "# Average Time Waited.\n",
    "#Averaged over epochs and intersections: the gini of each intersection, and average of all the ginis per epoch.\n",
    "all_ginis_time_waited = []\n",
    "for sim in results_to_use:\n",
    "    all_ginis_time_waited.append(\n",
    "        all_sim_results[sim]['stat_time_waited_gini'])\n",
    "\n",
    "results = stats.ttest_ind(all_ginis_time_waited[0], all_ginis_time_waited[1])\n",
    "print(results)\n",
    "# Present the results nicely\n",
    "print(\"The average gini of time waited for the first two simulations are: \" + str(np.mean(all_ginis_time_waited[0])) + \" and \" + str(np.mean(all_ginis_time_waited[1])))\n",
    "print(\"The p-value is: \" + str(results[1]))\n",
    "mean_1 = round(np.mean(all_ginis_time_waited[0]),3)\n",
    "mean_2 = round(np.mean(all_ginis_time_waited[1]),3)\n",
    "std_1 = round(np.std(all_ginis_time_waited[0]),3)\n",
    "std_2 = round(np.std(all_ginis_time_waited[1]),3)\n",
    "print(\"in latex:\",\"$(M=\",mean_1,\",\\ SD=\",std_1,\")$\",\"$(M=\",mean_2,\",\\ SD=\",std_2,\")$\")\n",
    "print(\"in latex:\", \"$t(\", results.df, \")=\", round(results[0], 3), \", p=\", round(results[1], 3), \"$\")\n",
    "\n"
   ]
  },
  {
   "cell_type": "code",
   "execution_count": null,
   "metadata": {},
   "outputs": [],
   "source": [
    "# Average Satisfaction.\n",
    "#Averaged over epochs and intersections: the gini of each intersection, and average of all the ginis per epoch.\n",
    "all_ginis_satisfaction = []\n",
    "for sim in results_to_use:\n",
    "    all_ginis_satisfaction.append(\n",
    "        all_sim_results[sim]['stat_satisfaction_gini'])\n",
    "\n",
    "results = stats.ttest_ind(all_ginis_time_waited[0], all_ginis_time_waited[1])\n",
    "print(results)\n",
    "#present the results nicely\n",
    "print(\"The average gini of satisfaction for the first two simulations are: \" + str(np.mean(all_ginis_satisfaction[0])) + \" and \" + str(np.mean(all_ginis_satisfaction[1])))\n",
    "print(\"The p-value is: \" + str(results[1]))\n",
    "mean_1 = round(np.mean(all_ginis_satisfaction[0]),3)\n",
    "mean_2 = round(np.mean(all_ginis_satisfaction[1]),3)\n",
    "std_1 = round(np.std(all_ginis_satisfaction[0]),3)\n",
    "std_2 = round(np.std(all_ginis_satisfaction[1]),3)\n",
    "print(\"in latex:\",\"$(M=\",mean_1,\",\\ SD=\",std_1,\")$\",\"$(M=\",mean_2,\",\\ SD=\",std_2,\")$\")\n",
    "print(\"in latex:\", \"$t(\", results.df, \")=\", round(results[0], 3), \", p=\", round(results[1], 3), \"$\")\n",
    "\n"
   ]
  },
  {
   "cell_type": "markdown",
   "metadata": {},
   "source": [
    "## 5. Trip Satisfaction <a id=\"5\"></a>"
   ]
  },
  {
   "cell_type": "code",
   "execution_count": null,
   "metadata": {},
   "outputs": [],
   "source": [
    "all_satisfactions = []\n",
    "for sim in results_to_use:\n",
    "    all_satisfactions.append(\n",
    "        all_sim_results[sim]['stat_satisfaction_mean'])\n",
    "\n",
    "results = stats.ttest_ind(all_satisfactions[0], all_satisfactions[1])\n",
    "print(results)\n",
    "#present the results nicely\n",
    "print(\"The average satisfaction for the first two simulations are: \" + str(np.mean(all_satisfactions[0])) + \" and \" + str(np.mean(all_satisfactions[1])))\n",
    "print(\"The p-value is: \" + str(results[1]))\n",
    "mean_1 = round(np.mean(all_satisfactions[0]),3)\n",
    "mean_2 = round(np.mean(all_satisfactions[1]),3)\n",
    "std_1 = round(np.std(all_satisfactions[0]),3)\n",
    "std_2 = round(np.std(all_satisfactions[1]),3)\n",
    "print(\"in latex:\",\"$(M=\",mean_1,\",\\ SD=\",std_1,\")$\",\"$(M=\",mean_2,\",\\ SD=\",std_2,\")$\")\n",
    "print(\"in latex:\", \"$t(\", results.df, \")=\", round(results[0], 3), \", p=\", round(results[1], 3), \"$\")\n"
   ]
  },
  {
   "cell_type": "markdown",
   "metadata": {},
   "source": [
    "## 6. Auction Reward <a id=\"5\"></a>"
   ]
  },
  {
   "cell_type": "code",
   "execution_count": null,
   "metadata": {},
   "outputs": [],
   "source": [
    "######Intersection based - Average Auction Reward######\n",
    "\n",
    "average_reward_intersection = []\n",
    "for exp in results_to_use:\n",
    "    average_reward_intersection.append(\n",
    "        all_sim_results[exp]['stat_average_auction_reward_per_intersection'])\n",
    "    \n",
    "for i in range(len(average_reward_intersection[0][0])):\n",
    "    for j in range(len(average_reward_intersection[0][0])):\n",
    "        print(\"Intersection [\", i, \"][\", j, \"]\")\n",
    "        results = stats.ttest_ind(average_reward_intersection[0][:,i,j], average_reward_intersection[1][:,i,j])\n",
    "        print(results)\n",
    "        print(\"The average auction reward for the first two simulations are: \" + str(np.mean(average_reward_intersection[0][:,i,j])) + \" and \" + str(np.mean(average_reward_intersection[1][:,i,j])))\n",
    "        print(\"The p-value is: \" + str(results[1]))"
   ]
  }
 ],
 "metadata": {
  "kernelspec": {
   "display_name": "cars",
   "language": "python",
   "name": "python3"
  },
  "language_info": {
   "codemirror_mode": {
    "name": "ipython",
    "version": 3
   },
   "file_extension": ".py",
   "mimetype": "text/x-python",
   "name": "python",
   "nbconvert_exporter": "python",
   "pygments_lexer": "ipython3",
   "version": "3.9.16"
  },
  "orig_nbformat": 4
 },
 "nbformat": 4,
 "nbformat_minor": 2
}
