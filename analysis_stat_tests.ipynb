{
 "cells": [
  {
   "attachments": {},
   "cell_type": "markdown",
   "metadata": {},
   "source": [
    "\n",
    "# Analysis Notebook\n",
    "\n",
    "This notebook can be used to calculate statistical metrics for the data produced. \n",
    "*** "
   ]
  },
  {
   "attachments": {},
   "cell_type": "markdown",
   "metadata": {},
   "source": [
    "## 0. Setup <a class=\"anchor\" id=\"0\"></a>\n",
    "This section imports all files and sets up the notebook."
   ]
  },
  {
   "cell_type": "code",
   "execution_count": 185,
   "metadata": {},
   "outputs": [],
   "source": [
    "# Import all pacakges\n",
    "import os\n",
    "import pandas as pd\n",
    "import numpy as np\n",
    "from scipy import stats\n"
   ]
  },
  {
   "cell_type": "code",
   "execution_count": 186,
   "metadata": {},
   "outputs": [
    {
     "name": "stdout",
     "output_type": "stream",
     "text": [
      "Using results: ['Random', 'Zero']\n"
     ]
    }
   ],
   "source": [
    "# Choose which results to use\n",
    "results_to_use = [\"Random\", \"Zero\"]  # If this is empty, all files in the folder will be used\n",
    "WARMUP_EPOCHS = 0 # Number of epochs to ignore.\n",
    "sim_colours = ['blue', 'green', 'red', 'orange', 'purple', 'brown', 'pink', 'gray', 'olive', 'cyan']\n",
    "\n",
    "\n",
    "all_results = os.listdir('results/')\n",
    "\n",
    "if results_to_use == [\"\"]:\n",
    "    results_to_use = all_results\n",
    "# remove DS_Store from the list\n",
    "if '.DS_Store' in results_to_use:\n",
    "    results_to_use.remove('.DS_Store')\n",
    "    \n",
    "print(\"Using results: \" + str(results_to_use))\n"
   ]
  },
  {
   "cell_type": "code",
   "execution_count": 187,
   "metadata": {},
   "outputs": [],
   "source": [
    "# Create a dictionary. Each key is a set of results. \n",
    "\n",
    "all_sim_results = {}\n",
    "\n",
    "for sim in results_to_use:\n",
    "    all_sim_results[sim] = {}\n",
    "    all_sim_results[sim]['configuration'] = pd.read_csv(\n",
    "        'results/' + sim + '/configuration.txt', header=None, delimiter=\":\")\n",
    "    types_of_results = []\n",
    "    # Get all the filenames in the folder, excluding the extension\n",
    "    for file in os.listdir('results/' + sim + '/exported_data/'):\n",
    "        if file.endswith(\".npy\"):\n",
    "            types_of_results.append(file[:-4])\n",
    "    # Create a dictionary for each type of result\n",
    "    for result in types_of_results:\n",
    "        all_sim_results[sim][result] = np.load(\n",
    "            'results/' + sim + '/exported_data/' + result + '.npy')"
   ]
  },
  {
   "cell_type": "code",
   "execution_count": 188,
   "metadata": {},
   "outputs": [
    {
     "name": "stdout",
     "output_type": "stream",
     "text": [
      "Results: Random\n",
      "                                    0                   1\n",
      "0                             command                 run\n",
      "1                       num_of_epochs               10000\n",
      "2                  num_of_simulations                  25\n",
      "3                           grid_size                   3\n",
      "4                      queue_capacity                  10\n",
      "5                     congestion_rate                0.07\n",
      "6                       with_hotspots                True\n",
      "7                           wage_time                  10\n",
      "8                      credit_balance                   5\n",
      "9           shared_auction_parameters                None\n",
      "10  adaptive_auction_action_selection              random\n",
      "11               bid_calculation_rule              linear\n",
      "12       adaptive_auction_update_rule       simple_bandit\n",
      "13             auction_episode_length                  10\n",
      "14   action_selection_hyperparameters                None\n",
      "15    adaptive_auction_discretization                  25\n",
      "16             only_winning_bid_moves                None\n",
      "17           intersection_reward_type   mixed_metric_rank\n",
      "18                  inact_rank_weight                 0.5\n",
      "19                    bid_rank_weight                 0.5\n",
      "20                       all_cars_bid                True\n",
      "21               shared_bid_generator                None\n",
      "22                 bidders_proportion     [1, 0, 0, 0, 1]\n",
      "23       bidders_urgency_distribution            gaussian\n",
      "24                     results_folder      results/Random\n",
      "25                         print_grid                None\n",
      "26                         sweep_mode                None\n",
      "27                            low_dpi                None\n",
      "Results: Zero\n",
      "                                    0                   1\n",
      "0                             command                 run\n",
      "1                       num_of_epochs               10000\n",
      "2                  num_of_simulations                  25\n",
      "3                           grid_size                   3\n",
      "4                      queue_capacity                  10\n",
      "5                     congestion_rate                0.07\n",
      "6                       with_hotspots                True\n",
      "7                           wage_time                  10\n",
      "8                      credit_balance                   5\n",
      "9           shared_auction_parameters                None\n",
      "10  adaptive_auction_action_selection                zero\n",
      "11               bid_calculation_rule              linear\n",
      "12       adaptive_auction_update_rule       simple_bandit\n",
      "13             auction_episode_length                  10\n",
      "14   action_selection_hyperparameters                None\n",
      "15    adaptive_auction_discretization                  25\n",
      "16             only_winning_bid_moves                None\n",
      "17           intersection_reward_type   mixed_metric_rank\n",
      "18                  inact_rank_weight                 0.5\n",
      "19                    bid_rank_weight                 0.5\n",
      "20                       all_cars_bid                True\n",
      "21               shared_bid_generator                None\n",
      "22                 bidders_proportion     [1, 0, 0, 0, 1]\n",
      "23       bidders_urgency_distribution            gaussian\n",
      "24                     results_folder        results/Zero\n",
      "25                         print_grid                None\n",
      "26                         sweep_mode                None\n",
      "27                            low_dpi                None\n"
     ]
    }
   ],
   "source": [
    "# Show all the all_sim_results in the notebook\n",
    "for set_of_results in results_to_use:\n",
    "    print(\"Results: \" + set_of_results)\n",
    "    print(all_sim_results[set_of_results]['configuration'])"
   ]
  },
  {
   "attachments": {},
   "cell_type": "markdown",
   "metadata": {},
   "source": [
    "## 1. Average Total Number of Trips  <a class=\"anchor\" id=\"1\"></a>\n",
    "\n",
    "This t-test compares the average total number of trips between the two experiments, for all sims."
   ]
  },
  {
   "cell_type": "code",
   "execution_count": 189,
   "metadata": {},
   "outputs": [
    {
     "name": "stdout",
     "output_type": "stream",
     "text": [
      "TtestResult(statistic=4.363939513446337, pvalue=6.75760432472137e-05, df=48.0)\n",
      "The average number of trips for the first two simulations are: 24730.08 and 24565.88\n",
      "The p-value is: 6.75760432472137e-05\n",
      "The difference is significant\n"
     ]
    }
   ],
   "source": [
    "all_average_number_of_trips = []\n",
    "for sim in results_to_use:\n",
    "    all_average_number_of_trips.append(\n",
    "        all_sim_results[sim]['stat_num_of_trips_per_simulation'])\n",
    "\n",
    "results = stats.ttest_ind(all_average_number_of_trips[0], all_average_number_of_trips[1])\n",
    "print(results)\n",
    "#present the results nicely\n",
    "print(\"The average number of trips for the first two simulations are: \" + str(np.mean(all_average_number_of_trips[0])) + \" and \" + str(np.mean(all_average_number_of_trips[1])))\n",
    "print(\"The p-value is: \" + str(results[1]))\n",
    "if results[1] < 0.05:\n",
    "    print(\"The difference is significant\")\n",
    "else:\n",
    "    print(\"The difference is not significant\")\n"
   ]
  },
  {
   "attachments": {},
   "cell_type": "markdown",
   "metadata": {},
   "source": [
    "## 2. Average Congestion of Central Intersection\n",
    "\n",
    "This t-test is between the 2 experiments, for all sims. It does not process individual epochs"
   ]
  },
  {
   "cell_type": "code",
   "execution_count": 190,
   "metadata": {},
   "outputs": [
    {
     "name": "stdout",
     "output_type": "stream",
     "text": [
      "TtestResult(statistic=-11.640317243016918, pvalue=1.3950057096818932e-15, df=48.0)\n",
      "The average congestion for the first two simulations are: 0.3288947 and 0.3448637\n",
      "The p-value is: 1.3950057096818932e-15\n",
      "The difference is significant\n"
     ]
    }
   ],
   "source": [
    "average_congestion_per_intersection = []\n",
    "for exp in results_to_use:\n",
    "    average_congestion_per_intersection.append(\n",
    "        all_sim_results[exp]['stat_average_congestion_per_intersection'])\n",
    "\n",
    "results = stats.ttest_ind(average_congestion_per_intersection[0][:,1,1], average_congestion_per_intersection[1][:,1,1])\n",
    "print(results)\n",
    "print(\"The average congestion for the first two simulations are: \" + str(np.mean(average_congestion_per_intersection[0][:,1,1])) + \" and \" + str(np.mean(average_congestion_per_intersection[1][:,1,1])))\n",
    "print(\"The p-value is: \" + str(results[1]))\n",
    "if results[1] < 0.05:\n",
    "    print(\"The difference is significant\")\n",
    "else:\n",
    "    print(\"The difference is not significant\")"
   ]
  },
  {
   "attachments": {},
   "cell_type": "markdown",
   "metadata": {},
   "source": [
    "## 3. Average Time Waited <a id=\"3\"></a>\n",
    "\n",
    "agent, intersection and grid based"
   ]
  },
  {
   "cell_type": "code",
   "execution_count": 191,
   "metadata": {},
   "outputs": [
    {
     "name": "stdout",
     "output_type": "stream",
     "text": [
      "TtestResult(statistic=-56.58202279876511, pvalue=1.3436017351289693e-45, df=48.0)\n",
      "The average time waited for the first two simulations are: 0.27847644444444447 and 0.5983984444444445\n",
      "The p-value is: 1.3436017351289693e-45\n",
      "TtestResult(statistic=-54.12898781950441, pvalue=1.0920071927733087e-44, df=48.0)\n",
      "The max time waited for the first two simulations are: 0.7197417777777778 and 1.6794879999999999\n",
      "The p-value is: 1.0920071927733087e-44\n"
     ]
    }
   ],
   "source": [
    "######Agent based######\n",
    "# Average time\n",
    "average_time_agent = []\n",
    "for exp in results_to_use:\n",
    "    average_time_agent.append(\n",
    "        all_sim_results[exp]['stat_average_time_waited_per_simulation_agent'])\n",
    "    \n",
    "results = stats.ttest_ind(average_time_agent[0], average_time_agent[1])\n",
    "print(results)\n",
    "print(\"The average time waited for the first two simulations are: \" + str(np.mean(average_time_agent[0])) + \" and \" + str(np.mean(average_time_agent[1])))\n",
    "print(\"The p-value is: \" + str(results[1]))\n",
    "\n",
    "# Max time\n",
    "max_time_agent = []\n",
    "for exp in results_to_use:\n",
    "    max_time_agent.append(\n",
    "        all_sim_results[exp]['stat_max_time_waited_per_simulation_agent'])\n",
    "    \n",
    "results = stats.ttest_ind(max_time_agent[0], max_time_agent[1])\n",
    "print(results)\n",
    "print(\"The max time waited for the first two simulations are: \" + str(np.mean(max_time_agent[0])) + \" and \" + str(np.mean(max_time_agent[1])))\n",
    "print(\"The p-value is: \" + str(results[1]))"
   ]
  },
  {
   "cell_type": "code",
   "execution_count": 192,
   "metadata": {},
   "outputs": [
    {
     "name": "stdout",
     "output_type": "stream",
     "text": [
      "Intersection [ 0 ][ 0 ]\n",
      "TtestResult(statistic=-4.965228849931699, pvalue=9.07432923047412e-06, df=48.0)\n",
      "The average time waited for the first two simulations are: 0.022799 and 0.028337000000000005\n",
      "The p-value is: 9.07432923047412e-06\n",
      "Intersection [ 0 ][ 1 ]\n",
      "TtestResult(statistic=-20.456521454546372, pvalue=2.397083978200404e-25, df=48.0)\n",
      "The average time waited for the first two simulations are: 0.24614600000000003 and 0.6458840000000001\n",
      "The p-value is: 2.397083978200404e-25\n",
      "Intersection [ 0 ][ 2 ]\n",
      "TtestResult(statistic=-2.9636654749631033, pvalue=0.004720328101911658, df=48.0)\n",
      "The average time waited for the first two simulations are: 0.025911 and 0.029918999999999998\n",
      "The p-value is: 0.004720328101911658\n",
      "Intersection [ 1 ][ 0 ]\n",
      "TtestResult(statistic=-20.534894906274232, pvalue=2.032270003206872e-25, df=48.0)\n",
      "The average time waited for the first two simulations are: 0.316962 and 0.694126\n",
      "The p-value is: 2.032270003206872e-25\n",
      "Intersection [ 1 ][ 1 ]\n",
      "TtestResult(statistic=-56.40246321937367, pvalue=1.5615917013095036e-45, df=48.0)\n",
      "The average time waited for the first two simulations are: 1.310122 and 2.620863\n",
      "The p-value is: 1.5615917013095036e-45\n",
      "Intersection [ 1 ][ 2 ]\n",
      "TtestResult(statistic=-23.280518564379374, pvalue=8.44050338820666e-28, df=48.0)\n",
      "The average time waited for the first two simulations are: 0.277519 and 0.677077\n",
      "The p-value is: 8.44050338820666e-28\n",
      "Intersection [ 2 ][ 0 ]\n",
      "TtestResult(statistic=-5.803183506813227, pvalue=5.002796691509357e-07, df=48.0)\n",
      "The average time waited for the first two simulations are: 0.022071 and 0.027525000000000004\n",
      "The p-value is: 5.002796691509357e-07\n",
      "Intersection [ 2 ][ 1 ]\n",
      "TtestResult(statistic=-26.209791680650824, pvalue=4.292166444269216e-30, df=48.0)\n",
      "The average time waited for the first two simulations are: 0.26205599999999996 and 0.634193\n",
      "The p-value is: 4.292166444269216e-30\n",
      "Intersection [ 2 ][ 2 ]\n",
      "TtestResult(statistic=-5.170636216075051, pvalue=4.497649562669513e-06, df=48.0)\n",
      "The average time waited for the first two simulations are: 0.022701999999999996 and 0.027662\n",
      "The p-value is: 4.497649562669513e-06\n"
     ]
    }
   ],
   "source": [
    "######Intersection based - Average Time######\n",
    "\n",
    "average_time_intersection = []\n",
    "for exp in results_to_use:\n",
    "    average_time_intersection.append(\n",
    "        all_sim_results[exp]['stat_average_time_waited_per_intersection'])\n",
    "    \n",
    "for i in range(len(average_time_intersection[0][0])):\n",
    "    for j in range(len(average_time_intersection[0][0])):\n",
    "        print(\"Intersection [\", i, \"][\", j, \"]\")\n",
    "        results = stats.ttest_ind(average_time_intersection[0][:,i,j], average_time_intersection[1][:,i,j])\n",
    "        print(results)\n",
    "        print(\"The average time waited for the first two simulations are: \" + str(np.mean(average_time_intersection[0][:,i,j])) + \" and \" + str(np.mean(average_time_intersection[1][:,i,j])))\n",
    "        print(\"The p-value is: \" + str(results[1]))"
   ]
  },
  {
   "cell_type": "code",
   "execution_count": 193,
   "metadata": {},
   "outputs": [
    {
     "name": "stdout",
     "output_type": "stream",
     "text": [
      "Intersection [ 0 ][ 0 ]\n",
      "TtestResult(statistic=-5.657754957846882, pvalue=8.319328847739101e-07, df=48.0)\n",
      "The average time waited for the first two simulations are: 0.08212799999999999 and 0.10249199999999999\n",
      "The p-value is: 8.319328847739101e-07\n",
      "Intersection [ 0 ][ 1 ]\n",
      "TtestResult(statistic=-20.245458062921816, pvalue=3.7486566541973935e-25, df=48.0)\n",
      "The average time waited for the first two simulations are: 0.68946 and 1.9061599999999999\n",
      "The p-value is: 3.7486566541973935e-25\n",
      "Intersection [ 0 ][ 2 ]\n",
      "TtestResult(statistic=-4.5523794058979545, pvalue=3.633097144705971e-05, df=48.0)\n",
      "The average time waited for the first two simulations are: 0.09016 and 0.107928\n",
      "The p-value is: 3.633097144705971e-05\n",
      "Intersection [ 1 ][ 0 ]\n",
      "TtestResult(statistic=-21.665915024889475, pvalue=1.981669573797869e-26, df=48.0)\n",
      "The average time waited for the first two simulations are: 0.86638 and 2.047192\n",
      "The p-value is: 1.981669573797869e-26\n",
      "Intersection [ 1 ][ 1 ]\n",
      "TtestResult(statistic=-53.75761424629728, pvalue=1.5116776323729154e-44, df=48.0)\n",
      "The average time waited for the first two simulations are: 3.095408 and 6.863987999999999\n",
      "The p-value is: 1.5116776323729154e-44\n",
      "Intersection [ 1 ][ 2 ]\n",
      "TtestResult(statistic=-22.938503678605638, pvalue=1.6216369625133095e-27, df=48.0)\n",
      "The average time waited for the first two simulations are: 0.7704840000000001 and 2.0144879999999996\n",
      "The p-value is: 1.6216369625133095e-27\n",
      "Intersection [ 2 ][ 0 ]\n",
      "TtestResult(statistic=-7.439364463347789, pvalue=1.5644070723668435e-09, df=48.0)\n",
      "The average time waited for the first two simulations are: 0.078536 and 0.100016\n",
      "The p-value is: 1.5644070723668435e-09\n",
      "Intersection [ 2 ][ 1 ]\n",
      "TtestResult(statistic=-26.50528135185693, pvalue=2.5928350754996642e-30, df=48.0)\n",
      "The average time waited for the first two simulations are: 0.724188 and 1.8725120000000002\n",
      "The p-value is: 2.5928350754996642e-30\n",
      "Intersection [ 2 ][ 2 ]\n",
      "TtestResult(statistic=-6.529208852463031, pvalue=3.879086741479659e-08, df=48.0)\n",
      "The average time waited for the first two simulations are: 0.08093199999999999 and 0.100616\n",
      "The p-value is: 3.879086741479659e-08\n"
     ]
    }
   ],
   "source": [
    "######Intersection based - Max Time######\n",
    "\n",
    "max_time_intersection = []\n",
    "for exp in results_to_use:\n",
    "    max_time_intersection.append(\n",
    "        all_sim_results[exp]['stat_max_time_waited_per_intersection'])\n",
    "    \n",
    "for i in range(len(max_time_intersection[0][0])):\n",
    "    for j in range(len(max_time_intersection[0][0])):\n",
    "        print(\"Intersection [\", i, \"][\", j, \"]\")\n",
    "        results = stats.ttest_ind(max_time_intersection[0][:,i,j], max_time_intersection[1][:,i,j])\n",
    "        print(results)\n",
    "        print(\"The average time waited for the first two simulations are: \" + str(np.mean(max_time_intersection[0][:,i,j])) + \" and \" + str(np.mean(max_time_intersection[1][:,i,j])))\n",
    "        print(\"The p-value is: \" + str(results[1]))"
   ]
  },
  {
   "cell_type": "code",
   "execution_count": 194,
   "metadata": {},
   "outputs": [
    {
     "name": "stdout",
     "output_type": "stream",
     "text": [
      "AVERAGE TIME WAITED\n",
      "TtestResult(statistic=-56.58202279876512, pvalue=1.3436017351289312e-45, df=48.0)\n",
      "The average time waited for the first two simulations are: 0.2784764444444444 and 0.5983984444444443\n",
      "The p-value is: 1.3436017351289312e-45\n",
      "MAX TIME WAITED\n",
      "TtestResult(statistic=-54.1289878195044, pvalue=1.0920071927733087e-44, df=48.0)\n",
      "The max time waited for the first two simulations are: 0.7197417777777778 and 1.6794879999999999\n",
      "The p-value is: 1.0920071927733087e-44\n"
     ]
    }
   ],
   "source": [
    "######Grid based######\n",
    "\n",
    "# Average time\n",
    "print(\"AVERAGE TIME WAITED\")\n",
    "average_time_grid = []\n",
    "for exp in results_to_use:\n",
    "    average_time_grid.append(\n",
    "        all_sim_results[exp]['stat_average_time_waited_grid'])\n",
    "\n",
    "means_1 = []\n",
    "for i in range(len(average_time_grid[0])):\n",
    "    means_1.append(np.mean(average_time_grid[0][i]))\n",
    "means_2 = []\n",
    "for i in range(len(average_time_grid[1])):\n",
    "    means_2.append(np.mean(average_time_grid[1][i]))\n",
    "\n",
    "\n",
    "results = stats.ttest_ind(means_1, means_2)\n",
    "print(results)\n",
    "print(\"The average time waited for the first two simulations are: \" + str(np.mean(means_1)) + \" and \" + str(np.mean(means_2)))\n",
    "print(\"The p-value is: \" + str(results[1]))\n",
    "\n",
    "\n",
    "# Max time\n",
    "print(\"MAX TIME WAITED\")\n",
    "max_time_grid = []\n",
    "for exp in results_to_use:\n",
    "    max_time_grid.append(\n",
    "        all_sim_results[exp]['stat_max_time_waited_grid'])\n",
    "\n",
    "means_1 = []\n",
    "for i in range(len(max_time_grid[0])):\n",
    "    means_1.append(np.mean(max_time_grid[0][i]))\n",
    "means_2 = []\n",
    "for i in range(len(max_time_grid[1])):\n",
    "    means_2.append(np.mean(max_time_grid[1][i]))\n",
    "\n",
    "\n",
    "results = stats.ttest_ind(means_1, means_2)\n",
    "print(results)\n",
    "print(\"The max time waited for the first two simulations are: \" + str(np.mean(means_1)) + \" and \" + str(np.mean(means_2)))\n",
    "print(\"The p-value is: \" + str(results[1]))"
   ]
  },
  {
   "cell_type": "markdown",
   "metadata": {},
   "source": [
    "## 4. Gini coefficient <a id=\"4\"></a>"
   ]
  },
  {
   "cell_type": "code",
   "execution_count": 195,
   "metadata": {},
   "outputs": [
    {
     "name": "stdout",
     "output_type": "stream",
     "text": [
      "TtestResult(statistic=4.914093418635146, pvalue=1.0794996299799161e-05, df=48.0)\n",
      "The average gini of time waited for the first two simulations are: 0.13414021539611184 and 0.13124613361181756\n",
      "The p-value is: 1.0794996299799161e-05\n",
      "The difference is significant\n"
     ]
    }
   ],
   "source": [
    "# Average Time Waited.\n",
    "#Averaged over epochs and intersections: the gini of each intersection, and average of all the ginis per epoch.\n",
    "all_ginis_time_waited = []\n",
    "for sim in results_to_use:\n",
    "    all_ginis_time_waited.append(\n",
    "        all_sim_results[sim]['stat_time_waited_gini'])\n",
    "\n",
    "results = stats.ttest_ind(all_ginis_time_waited[0], all_ginis_time_waited[1])\n",
    "print(results)\n",
    "# Present the results nicely\n",
    "print(\"The average gini of time waited for the first two simulations are: \" + str(np.mean(all_ginis_time_waited[0])) + \" and \" + str(np.mean(all_ginis_time_waited[1])))\n",
    "print(\"The p-value is: \" + str(results[1]))\n",
    "if results[1] < 0.05:\n",
    "    print(\"The difference is significant\")\n",
    "else:\n",
    "    print(\"The difference is not significant\")\n"
   ]
  },
  {
   "cell_type": "code",
   "execution_count": 196,
   "metadata": {},
   "outputs": [
    {
     "name": "stdout",
     "output_type": "stream",
     "text": [
      "TtestResult(statistic=4.914093418635146, pvalue=1.0794996299799161e-05, df=48.0)\n",
      "The average gini of satisfaction for the first two simulations are: 0.433927463557328 and 0.44470795444221245\n",
      "The p-value is: 1.0794996299799161e-05\n",
      "The difference is significant\n"
     ]
    }
   ],
   "source": [
    "# Average Satisfaction.\n",
    "#Averaged over epochs and intersections: the gini of each intersection, and average of all the ginis per epoch.\n",
    "all_ginis_satisfaction = []\n",
    "for sim in results_to_use:\n",
    "    all_ginis_satisfaction.append(\n",
    "        all_sim_results[sim]['stat_satisfaction_gini'])\n",
    "\n",
    "results = stats.ttest_ind(all_ginis_time_waited[0], all_ginis_time_waited[1])\n",
    "print(results)\n",
    "#present the results nicely\n",
    "print(\"The average gini of satisfaction for the first two simulations are: \" + str(np.mean(all_ginis_satisfaction[0])) + \" and \" + str(np.mean(all_ginis_satisfaction[1])))\n",
    "print(\"The p-value is: \" + str(results[1]))\n",
    "if results[1] < 0.05:\n",
    "    print(\"The difference is significant\")\n",
    "else:\n",
    "    print(\"The difference is not significant\")\n"
   ]
  },
  {
   "cell_type": "markdown",
   "metadata": {},
   "source": [
    "## 5. Trip Satisfaction <a id=\"5\"></a>"
   ]
  },
  {
   "cell_type": "code",
   "execution_count": 197,
   "metadata": {},
   "outputs": [
    {
     "name": "stdout",
     "output_type": "stream",
     "text": [
      "TtestResult(statistic=-16.92456209855604, pvalue=7.200842559067493e-22, df=48.0)\n",
      "The average satisfactino for the first two simulations are: 0.1551592423202917 and 0.15989969447709038\n",
      "The p-value is: 7.200842559067493e-22\n",
      "The difference is significant\n"
     ]
    }
   ],
   "source": [
    "all_satisfactions = []\n",
    "for sim in results_to_use:\n",
    "    all_satisfactions.append(\n",
    "        all_sim_results[sim]['stat_satisfaction_mean'])\n",
    "\n",
    "results = stats.ttest_ind(all_satisfactions[0], all_satisfactions[1])\n",
    "print(results)\n",
    "#present the results nicely\n",
    "print(\"The average satisfactino for the first two simulations are: \" + str(np.mean(all_satisfactions[0])) + \" and \" + str(np.mean(all_satisfactions[1])))\n",
    "print(\"The p-value is: \" + str(results[1]))\n",
    "if results[1] < 0.05:\n",
    "    print(\"The difference is significant\")\n",
    "else:\n",
    "    print(\"The difference is not significant\")\n"
   ]
  },
  {
   "cell_type": "markdown",
   "metadata": {},
   "source": [
    "## 6. Auction Reward <a id=\"5\"></a>"
   ]
  },
  {
   "cell_type": "code",
   "execution_count": 198,
   "metadata": {},
   "outputs": [
    {
     "name": "stdout",
     "output_type": "stream",
     "text": [
      "Intersection [ 0 ][ 0 ]\n",
      "TtestResult(statistic=3.845497245791509, pvalue=0.0003540475044749223, df=48.0)\n",
      "The average auction reward for the first two simulations are: 0.04936466666666666 and 0.045822666666666664\n",
      "The p-value is: 0.0003540475044749223\n",
      "Intersection [ 0 ][ 1 ]\n",
      "TtestResult(statistic=5.639182254259959, pvalue=8.876449945172948e-07, df=48.0)\n",
      "The average auction reward for the first two simulations are: 0.24603599999999998 and 0.23117633333333332\n",
      "The p-value is: 8.876449945172948e-07\n",
      "Intersection [ 0 ][ 2 ]\n",
      "TtestResult(statistic=3.3845876455163024, pvalue=0.00142844545509015, df=48.0)\n",
      "The average auction reward for the first two simulations are: 0.05017799999999999 and 0.04694999999999999\n",
      "The p-value is: 0.00142844545509015\n",
      "Intersection [ 1 ][ 0 ]\n",
      "TtestResult(statistic=11.244784269823464, pvalue=4.738830768358722e-15, df=48.0)\n",
      "The average auction reward for the first two simulations are: 0.2534586666666666 and 0.2276193333333333\n",
      "The p-value is: 4.738830768358722e-15\n",
      "Intersection [ 1 ][ 1 ]\n",
      "TtestResult(statistic=3.555807444547598, pvalue=0.000859031562651507, df=48.0)\n",
      "The average auction reward for the first two simulations are: 0.6482473333333333 and 0.6400063333333335\n",
      "The p-value is: 0.000859031562651507\n",
      "Intersection [ 1 ][ 2 ]\n",
      "TtestResult(statistic=5.776756519764833, pvalue=5.487890730601363e-07, df=48.0)\n",
      "The average auction reward for the first two simulations are: 0.244406 and 0.2286583333333333\n",
      "The p-value is: 5.487890730601363e-07\n",
      "Intersection [ 2 ][ 0 ]\n",
      "TtestResult(statistic=1.7842165015805205, pvalue=0.08071010229239231, df=48.0)\n",
      "The average auction reward for the first two simulations are: 0.04649733333333333 and 0.04483166666666666\n",
      "The p-value is: 0.08071010229239231\n",
      "Intersection [ 2 ][ 1 ]\n",
      "TtestResult(statistic=5.677962358046918, pvalue=7.752541568126571e-07, df=48.0)\n",
      "The average auction reward for the first two simulations are: 0.23407366666666665 and 0.221782\n",
      "The p-value is: 7.752541568126571e-07\n",
      "Intersection [ 2 ][ 2 ]\n",
      "TtestResult(statistic=2.579256060655595, pvalue=0.01302059626959719, df=48.0)\n",
      "The average auction reward for the first two simulations are: 0.048633333333333334 and 0.046181333333333324\n",
      "The p-value is: 0.01302059626959719\n"
     ]
    }
   ],
   "source": [
    "######Intersection based - Average Auction Reward######\n",
    "\n",
    "average_reward_intersection = []\n",
    "for exp in results_to_use:\n",
    "    average_reward_intersection.append(\n",
    "        all_sim_results[exp]['stat_average_auction_reward_per_intersection'])\n",
    "    \n",
    "for i in range(len(average_reward_intersection[0][0])):\n",
    "    for j in range(len(average_reward_intersection[0][0])):\n",
    "        print(\"Intersection [\", i, \"][\", j, \"]\")\n",
    "        results = stats.ttest_ind(average_reward_intersection[0][:,i,j], average_reward_intersection[1][:,i,j])\n",
    "        print(results)\n",
    "        print(\"The average auction reward for the first two simulations are: \" + str(np.mean(average_reward_intersection[0][:,i,j])) + \" and \" + str(np.mean(average_reward_intersection[1][:,i,j])))\n",
    "        print(\"The p-value is: \" + str(results[1]))"
   ]
  }
 ],
 "metadata": {
  "kernelspec": {
   "display_name": "cars",
   "language": "python",
   "name": "python3"
  },
  "language_info": {
   "codemirror_mode": {
    "name": "ipython",
    "version": 3
   },
   "file_extension": ".py",
   "mimetype": "text/x-python",
   "name": "python",
   "nbconvert_exporter": "python",
   "pygments_lexer": "ipython3",
   "version": "3.9.16"
  },
  "orig_nbformat": 4
 },
 "nbformat": 4,
 "nbformat_minor": 2
}
