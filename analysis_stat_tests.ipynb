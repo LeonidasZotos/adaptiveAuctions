{
 "cells": [
  {
   "attachments": {},
   "cell_type": "markdown",
   "metadata": {},
   "source": [
    "\n",
    "# Analysis Notebook\n",
    "\n",
    "This notebook can be used to calculate statistical metrics for the data produced. \n",
    "*** "
   ]
  },
  {
   "attachments": {},
   "cell_type": "markdown",
   "metadata": {},
   "source": [
    "## 0. Setup <a class=\"anchor\" id=\"0\"></a>\n",
    "This section imports all files and sets up the notebook."
   ]
  },
  {
   "cell_type": "code",
   "execution_count": 494,
   "metadata": {},
   "outputs": [],
   "source": [
    "# Import all pacakges\n",
    "import os\n",
    "import pandas as pd\n",
    "import numpy as np\n",
    "from scipy import stats\n"
   ]
  },
  {
   "cell_type": "code",
   "execution_count": 495,
   "metadata": {},
   "outputs": [
    {
     "name": "stdout",
     "output_type": "stream",
     "text": [
      "Using results: ['Adaptive', 'Random']\n"
     ]
    }
   ],
   "source": [
    "# Choose which results to use\n",
    "results_to_use = [\"Adaptive\", \"Zero\"]  # If this is empty, all files in the folder will be used\n",
    "WARMUP_EPOCHS = 0 # Number of epochs to ignore.\n",
    "sim_colours = ['blue', 'green', 'red', 'orange', 'purple', 'brown', 'pink', 'gray', 'olive', 'cyan']\n",
    "\n",
    "\n",
    "all_results = os.listdir('results/')\n",
    "\n",
    "if results_to_use == [\"\"]:\n",
    "    results_to_use = all_results\n",
    "# remove DS_Store from the list\n",
    "if '.DS_Store' in results_to_use:\n",
    "    results_to_use.remove('.DS_Store')\n",
    "    \n",
    "print(\"Using results: \" + str(results_to_use))\n"
   ]
  },
  {
   "cell_type": "code",
   "execution_count": 496,
   "metadata": {},
   "outputs": [],
   "source": [
    "# Create a dictionary. Each key is a set of results. \n",
    "\n",
    "all_sim_results = {}\n",
    "\n",
    "for sim in results_to_use:\n",
    "    all_sim_results[sim] = {}\n",
    "    all_sim_results[sim]['configuration'] = pd.read_csv(\n",
    "        'results/' + sim + '/configuration.txt', header=None, delimiter=\":\")\n",
    "    types_of_results = []\n",
    "    # Get all the filenames in the folder, excluding the extension\n",
    "    for file in os.listdir('results/' + sim + '/exported_data/'):\n",
    "        if file.endswith(\".npy\"):\n",
    "            types_of_results.append(file[:-4])\n",
    "    # Create a dictionary for each type of result\n",
    "    for result in types_of_results:\n",
    "        all_sim_results[sim][result] = np.load(\n",
    "            'results/' + sim + '/exported_data/' + result + '.npy')"
   ]
  },
  {
   "cell_type": "code",
   "execution_count": 497,
   "metadata": {},
   "outputs": [
    {
     "name": "stdout",
     "output_type": "stream",
     "text": [
      "Results: Adaptive\n",
      "                                    0                    1\n",
      "0                             command                  run\n",
      "1                       num_of_epochs                10000\n",
      "2                  num_of_simulations                  100\n",
      "3                           grid_size                    3\n",
      "4                      queue_capacity                   10\n",
      "5                     congestion_rate                 0.07\n",
      "6                       with_hotspots                 True\n",
      "7                           wage_time                   10\n",
      "8                      credit_balance                    5\n",
      "9           shared_auction_parameters                 None\n",
      "10  adaptive_auction_action_selection   e_greedy_exp_decay\n",
      "11               bid_calculation_rule               linear\n",
      "12       adaptive_auction_update_rule        simple_bandit\n",
      "13             auction_episode_length                   10\n",
      "14   action_selection_hyperparameters                 None\n",
      "15    adaptive_auction_discretization                   25\n",
      "16             only_winning_bid_moves                 None\n",
      "17           intersection_reward_type    mixed_metric_rank\n",
      "18                  inact_rank_weight                  0.5\n",
      "19                    bid_rank_weight                  0.5\n",
      "20                       all_cars_bid                 True\n",
      "21               shared_bid_generator                 None\n",
      "22                 bidders_proportion      [1, 0, 0, 0, 1]\n",
      "23       bidders_urgency_distribution             gaussian\n",
      "24                     results_folder     results/Adaptive\n",
      "25                         print_grid                 None\n",
      "26                         sweep_mode                 None\n",
      "27                            low_dpi                 None\n",
      "Results: Random\n",
      "                                    0                   1\n",
      "0                             command                 run\n",
      "1                       num_of_epochs               10000\n",
      "2                  num_of_simulations                 100\n",
      "3                           grid_size                   3\n",
      "4                      queue_capacity                  10\n",
      "5                     congestion_rate                0.07\n",
      "6                       with_hotspots                True\n",
      "7                           wage_time                  10\n",
      "8                      credit_balance                   5\n",
      "9           shared_auction_parameters                None\n",
      "10  adaptive_auction_action_selection              random\n",
      "11               bid_calculation_rule              linear\n",
      "12       adaptive_auction_update_rule       simple_bandit\n",
      "13             auction_episode_length                  10\n",
      "14   action_selection_hyperparameters                None\n",
      "15    adaptive_auction_discretization                  25\n",
      "16             only_winning_bid_moves                None\n",
      "17           intersection_reward_type   mixed_metric_rank\n",
      "18                  inact_rank_weight                 0.5\n",
      "19                    bid_rank_weight                 0.5\n",
      "20                       all_cars_bid                True\n",
      "21               shared_bid_generator                None\n",
      "22                 bidders_proportion     [1, 0, 0, 0, 1]\n",
      "23       bidders_urgency_distribution            gaussian\n",
      "24                     results_folder      results/Random\n",
      "25                         print_grid                None\n",
      "26                         sweep_mode                None\n",
      "27                            low_dpi                None\n"
     ]
    }
   ],
   "source": [
    "# Show all the all_sim_results in the notebook\n",
    "for set_of_results in results_to_use:\n",
    "    print(\"Results: \" + set_of_results)\n",
    "    print(all_sim_results[set_of_results]['configuration'])"
   ]
  },
  {
   "attachments": {},
   "cell_type": "markdown",
   "metadata": {},
   "source": [
    "## 1. Average Total Number of Trips  <a class=\"anchor\" id=\"1\"></a>\n",
    "\n",
    "This t-test compares the average total number of trips between the two experiments, for all sims."
   ]
  },
  {
   "cell_type": "code",
   "execution_count": 498,
   "metadata": {},
   "outputs": [
    {
     "name": "stdout",
     "output_type": "stream",
     "text": [
      "TtestResult(statistic=6.487702312450497, pvalue=6.827255774506673e-10, df=198.0)\n",
      "The average number of trips for the first two simulations are: 24888.73 and 24750.39\n",
      "the standard deviation of number of trips for the first two simulations are: 147.5366974687993 and 152.4698589885883\n",
      "in latex: $(M= 24888.73 , SD= 147.537 )$ $(M= 24750.39 , SD= 152.47 )$\n",
      "in latex: t( 198.0 )= 6.488 , p= 0.0\n",
      "The p-value is: 6.827255774506673e-10\n",
      "The difference is significant\n"
     ]
    }
   ],
   "source": [
    "all_average_number_of_trips = []\n",
    "for sim in results_to_use:\n",
    "    all_average_number_of_trips.append(\n",
    "        all_sim_results[sim]['stat_num_of_trips_per_simulation'])\n",
    "\n",
    "results = stats.ttest_ind(all_average_number_of_trips[0], all_average_number_of_trips[1])\n",
    "print(results)\n",
    "#present the results nicely\n",
    "print(\"The average number of trips for the first two simulations are: \" + str(np.mean(all_average_number_of_trips[0])) + \" and \" + str(np.mean(all_average_number_of_trips[1])))\n",
    "print(\"the standard deviation of number of trips for the first two simulations are: \" + str(np.std(all_average_number_of_trips[0])) + \" and \" + str(np.std(all_average_number_of_trips[1])))\n",
    "mean_1 = round(np.mean(all_average_number_of_trips[0]),3)\n",
    "mean_2 = round(np.mean(all_average_number_of_trips[1]),3)\n",
    "std_1 = round(np.std(all_average_number_of_trips[0]),3)\n",
    "std_2 = round(np.std(all_average_number_of_trips[1]),3)\n",
    "print(\"in latex:\",\"$(M=\",mean_1,\", SD=\",std_1,\")$\",\"$(M=\",mean_2,\", SD=\",std_2,\")$\")\n",
    "print(\"in latex:\", \"t(\", results.df, \")=\", round(results[0], 3), \", p=\", round(results[1], 3))\n",
    "print(\"The p-value is: \" + str(results[1]))\n",
    "if results[1] < 0.05:\n",
    "    print(\"The difference is significant\")\n",
    "else:\n",
    "    print(\"The difference is not significant\")\n"
   ]
  },
  {
   "attachments": {},
   "cell_type": "markdown",
   "metadata": {},
   "source": [
    "## 2. Average Congestion of Central Intersection\n",
    "\n",
    "This t-test is between the 2 experiments, for all sims. It does not process individual epochs"
   ]
  },
  {
   "cell_type": "code",
   "execution_count": 499,
   "metadata": {},
   "outputs": [
    {
     "name": "stdout",
     "output_type": "stream",
     "text": [
      "TtestResult(statistic=-25.555108396393067, pvalue=1.2987407719253222e-64, df=198.0)\n",
      "The average congestion for the first two simulations are: 0.30803945 and 0.32891525\n",
      "The p-value is: 1.2987407719253222e-64\n",
      "The difference is significant\n",
      "in latex: $(M= 0.308 ,\\ SD= 0.006 )$ $(M= 0.329 ,\\ SD= 0.006 )$\n",
      "in latex: $t( 198.0 )= -25.555 , p= 0.0 $\n"
     ]
    }
   ],
   "source": [
    "average_congestion_per_intersection = []\n",
    "for exp in results_to_use:\n",
    "    average_congestion_per_intersection.append(\n",
    "        all_sim_results[exp]['stat_average_congestion_per_intersection'])\n",
    "\n",
    "results = stats.ttest_ind(average_congestion_per_intersection[0][:,1,1], average_congestion_per_intersection[1][:,1,1])\n",
    "print(results)\n",
    "print(\"The average congestion for the first two simulations are: \" + str(np.mean(average_congestion_per_intersection[0][:,1,1])) + \" and \" + str(np.mean(average_congestion_per_intersection[1][:,1,1])))\n",
    "print(\"The p-value is: \" + str(results[1]))\n",
    "if results[1] < 0.05:\n",
    "    print(\"The difference is significant\")\n",
    "else:\n",
    "    print(\"The difference is not significant\")\n",
    "    \n",
    "mean_1 = round(np.mean(average_congestion_per_intersection[0][:,1,1]),3)\n",
    "mean_2 = round(np.mean(average_congestion_per_intersection[1][:,1,1]),3)\n",
    "std_1 = round(np.std(average_congestion_per_intersection[0][:,1,1]),3)\n",
    "std_2 = round(np.std(average_congestion_per_intersection[1][:,1,1]),3)\n",
    "print(\"in latex:\",\"$(M=\",mean_1,\",\\ SD=\",std_1,\")$\",\"$(M=\",mean_2,\",\\ SD=\",std_2,\")$\")\n",
    "print(\"in latex:\", \"$t(\", results.df, \")=\", round(results[0], 3), \", p=\", round(results[1], 3), \"$\")"
   ]
  },
  {
   "attachments": {},
   "cell_type": "markdown",
   "metadata": {},
   "source": [
    "## 3. Average Time Waited <a id=\"3\"></a>\n",
    "\n",
    "agent, intersection and grid based"
   ]
  },
  {
   "cell_type": "code",
   "execution_count": 500,
   "metadata": {},
   "outputs": [
    {
     "name": "stdout",
     "output_type": "stream",
     "text": [
      "TtestResult(statistic=-50.68727275851144, pvalue=2.381544171587639e-115, df=198.0)\n",
      "The average time waited for the first two simulations are: 0.23983044444444446 and 0.2772946944444445\n",
      "The p-value is: 2.381544171587639e-115\n",
      "in latex: $(M= 0.24 ,\\ SD= 0.006 )$ $(M= 0.277 ,\\ SD= 0.005 )$\n",
      "in latex: $t( 198.0 )= -50.687 , p= 0.0 $\n",
      "TtestResult(statistic=-51.231694314253254, pvalue=3.333802695237549e-116, df=198.0)\n",
      "The max time waited for the first two simulations are: 0.6207537777777777 and 0.715976888888889\n",
      "The p-value is: 3.333802695237549e-116\n",
      "in latex: $(M= 0.621 ,\\ SD= 0.014 )$ $(M= 0.716 ,\\ SD= 0.013 )$\n",
      "in latex: $t( 198.0 )= -51.232 ,\\ p= 0.0 $\n"
     ]
    }
   ],
   "source": [
    "######Agent based######\n",
    "# Average time\n",
    "average_time_agent = []\n",
    "for exp in results_to_use:\n",
    "    average_time_agent.append(\n",
    "        all_sim_results[exp]['stat_average_time_waited_per_simulation_agent'])\n",
    "    \n",
    "results = stats.ttest_ind(average_time_agent[0], average_time_agent[1])\n",
    "print(results)\n",
    "print(\"The average time waited for the first two simulations are: \" + str(np.mean(average_time_agent[0])) + \" and \" + str(np.mean(average_time_agent[1])))\n",
    "print(\"The p-value is: \" + str(results[1]))\n",
    "mean_1 = round(np.mean(average_time_agent[0]),3)\n",
    "mean_2 = round(np.mean(average_time_agent[1]),3)\n",
    "std_1 = round(np.std(average_time_agent[0]),3)\n",
    "std_2 = round(np.std(average_time_agent[1]),3)\n",
    "print(\"in latex:\",\"$(M=\",mean_1,\",\\ SD=\",std_1,\")$\",\"$(M=\",mean_2,\",\\ SD=\",std_2,\")$\")\n",
    "print(\"in latex:\", \"$t(\", results.df, \")=\", round(results[0], 3), \", p=\", round(results[1], 3), \"$\")\n",
    "\n",
    "# Max time\n",
    "max_time_agent = []\n",
    "for exp in results_to_use:\n",
    "    max_time_agent.append(\n",
    "        all_sim_results[exp]['stat_max_time_waited_per_simulation_agent'])\n",
    "    \n",
    "results = stats.ttest_ind(max_time_agent[0], max_time_agent[1])\n",
    "print(results)\n",
    "print(\"The max time waited for the first two simulations are: \" + str(np.mean(max_time_agent[0])) + \" and \" + str(np.mean(max_time_agent[1])))\n",
    "print(\"The p-value is: \" + str(results[1]))\n",
    "mean_1 = round(np.mean(max_time_agent[0]),3)\n",
    "mean_2 = round(np.mean(max_time_agent[1]),3)\n",
    "std_1 = round(np.std(max_time_agent[0]),3)\n",
    "std_2 = round(np.std(max_time_agent[1]),3)\n",
    "print(\"in latex:\",\"$(M=\",mean_1,\",\\ SD=\",std_1,\")$\",\"$(M=\",mean_2,\",\\ SD=\",std_2,\")$\")\n",
    "print(\"in latex:\", \"$t(\", results.df, \")=\", round(results[0], 3), \",\\ p=\", round(results[1], 3), \"$\")"
   ]
  },
  {
   "cell_type": "code",
   "execution_count": 501,
   "metadata": {},
   "outputs": [
    {
     "name": "stdout",
     "output_type": "stream",
     "text": [
      "Intersection [ 0 ][ 0 ]:  Adaptive $(M= 0.027 ,\\ SD= 0.005 )$ , Zero $(M= 0.024 ,\\ SD= 0.004 ),\\ t( 198 )= 5.81 ,\\ p= 0.0 $\n",
      "Intersection [ 0 ][ 1 ]:  Adaptive $(M= 0.233 ,\\ SD= 0.02 )$ , Zero $(M= 0.241 ,\\ SD= 0.018 ),\\ t( 198 )= -2.68 ,\\ p= 0.008 $\n",
      "Intersection [ 0 ][ 2 ]:  Adaptive $(M= 0.027 ,\\ SD= 0.005 )$ , Zero $(M= 0.023 ,\\ SD= 0.003 ),\\ t( 198 )= 5.76 ,\\ p= 0.0 $\n",
      "Intersection [ 1 ][ 0 ]:  Adaptive $(M= 0.342 ,\\ SD= 0.038 )$ , Zero $(M= 0.318 ,\\ SD= 0.032 ),\\ t( 198 )= 4.71 ,\\ p= 0.0 $\n",
      "Intersection [ 1 ][ 1 ]:  Adaptive $(M= 0.906 ,\\ SD= 0.05 )$ , Zero $(M= 1.304 ,\\ SD= 0.042 ),\\ t( 198 )= -60.8 ,\\ p= 0.0 $\n",
      "Intersection [ 1 ][ 2 ]:  Adaptive $(M= 0.284 ,\\ SD= 0.027 )$ , Zero $(M= 0.275 ,\\ SD= 0.025 ),\\ t( 198 )= 2.45 ,\\ p= 0.015 $\n",
      "Intersection [ 2 ][ 0 ]:  Adaptive $(M= 0.026 ,\\ SD= 0.006 )$ , Zero $(M= 0.023 ,\\ SD= 0.004 ),\\ t( 198 )= 3.66 ,\\ p= 0.0 $\n",
      "Intersection [ 2 ][ 1 ]:  Adaptive $(M= 0.288 ,\\ SD= 0.035 )$ , Zero $(M= 0.265 ,\\ SD= 0.03 ),\\ t( 198 )= 4.92 ,\\ p= 0.0 $\n",
      "Intersection [ 2 ][ 2 ]:  Adaptive $(M= 0.025 ,\\ SD= 0.006 )$ , Zero $(M= 0.023 ,\\ SD= 0.003 ),\\ t( 198 )= 3.84 ,\\ p= 0.0 $\n"
     ]
    }
   ],
   "source": [
    "######Intersection based - Average Time######\n",
    "\n",
    "average_time_intersection = []\n",
    "for exp in results_to_use:\n",
    "    average_time_intersection.append(\n",
    "        all_sim_results[exp]['stat_average_time_waited_per_intersection'])\n",
    "    \n",
    "for i in range(len(average_time_intersection[0][0])):\n",
    "    for j in range(len(average_time_intersection[0][0])):\n",
    "        # print(\"Intersection [\", i, \"][\", j, \"]\")\n",
    "        results = stats.ttest_ind(average_time_intersection[0][:,i,j], average_time_intersection[1][:,i,j])\n",
    "        # print(results)\n",
    "        # print(\"The average time waited for the first two simulations are: \" + str(np.mean(average_time_intersection[0][:,i,j])) + \" and \" + str(np.mean(average_time_intersection[1][:,i,j])))\n",
    "        # print(\"The p-value is: \" + str(results[1]))\n",
    "        mean_1 = round(np.mean(average_time_intersection[0][:,i,j]),3)\n",
    "        mean_2 = round(np.mean(average_time_intersection[1][:,i,j]),3)\n",
    "        std_1 = round(np.std(average_time_intersection[0][:,i,j]),3)\n",
    "        std_2 = round(np.std(average_time_intersection[1][:,i,j]),3)\n",
    "        print(\"Intersection [\", i, \"][\", j, \"]: \", \"Adaptive $(M=\",mean_1,\",\\ SD=\",std_1,\")$\",\", Zero $(M=\",mean_2,\",\\ SD=\",std_2,\"),\\ t(\", int(results.df), \")=\", round(results[0], 2), \",\\ p=\", round(results[1], 3), \"$\")\n",
    "        # print(\"in latex:\",\"$(M=\",mean_1,\",\\ SD=\",std_1,\")$\",\"$(M=\",mean_2,\",\\ SD=\",std_2,\")$\")\n",
    "        # print(\"in latex:\", \"$t(\", results.df, \")=\", round(results[0], 3), \",\\ p=\", round(results[1], 3), \"$\")\n",
    "        "
   ]
  },
  {
   "cell_type": "code",
   "execution_count": 502,
   "metadata": {},
   "outputs": [
    {
     "name": "stdout",
     "output_type": "stream",
     "text": [
      "Intersection [ 0 ][ 0 ]:  Adaptive $(M= 0.095 ,\\ SD= 0.014 )$ , Zero $(M= 0.084 ,\\ SD= 0.011 ),\\ t( 198 )= 6.01 ,\\ p= 0.0 $\n",
      "Intersection [ 0 ][ 1 ]:  Adaptive $(M= 0.651 ,\\ SD= 0.049 )$ , Zero $(M= 0.674 ,\\ SD= 0.047 ),\\ t( 198 )= -3.43 ,\\ p= 0.001 $\n",
      "Intersection [ 0 ][ 2 ]:  Adaptive $(M= 0.093 ,\\ SD= 0.014 )$ , Zero $(M= 0.084 ,\\ SD= 0.008 ),\\ t( 198 )= 5.95 ,\\ p= 0.0 $\n",
      "Intersection [ 1 ][ 0 ]:  Adaptive $(M= 0.914 ,\\ SD= 0.095 )$ , Zero $(M= 0.866 ,\\ SD= 0.074 ),\\ t( 198 )= 3.98 ,\\ p= 0.0 $\n",
      "Intersection [ 1 ][ 1 ]:  Adaptive $(M= 2.09 ,\\ SD= 0.122 )$ , Zero $(M= 3.073 ,\\ SD= 0.103 ),\\ t( 198 )= -61.28 ,\\ p= 0.0 $\n",
      "Intersection [ 1 ][ 2 ]:  Adaptive $(M= 0.776 ,\\ SD= 0.066 )$ , Zero $(M= 0.761 ,\\ SD= 0.066 ),\\ t( 198 )= 1.61 ,\\ p= 0.108 $\n",
      "Intersection [ 2 ][ 0 ]:  Adaptive $(M= 0.09 ,\\ SD= 0.016 )$ , Zero $(M= 0.083 ,\\ SD= 0.012 ),\\ t( 198 )= 3.82 ,\\ p= 0.0 $\n",
      "Intersection [ 2 ][ 1 ]:  Adaptive $(M= 0.788 ,\\ SD= 0.088 )$ , Zero $(M= 0.737 ,\\ SD= 0.074 ),\\ t( 198 )= 4.41 ,\\ p= 0.0 $\n",
      "Intersection [ 2 ][ 2 ]:  Adaptive $(M= 0.089 ,\\ SD= 0.015 )$ , Zero $(M= 0.082 ,\\ SD= 0.01 ),\\ t( 198 )= 3.89 ,\\ p= 0.0 $\n"
     ]
    }
   ],
   "source": [
    "######Intersection based - Max Time######\n",
    "\n",
    "max_time_intersection = []\n",
    "for exp in results_to_use:\n",
    "    max_time_intersection.append(\n",
    "        all_sim_results[exp]['stat_max_time_waited_per_intersection'])\n",
    "    \n",
    "for i in range(len(max_time_intersection[0][0])):\n",
    "    for j in range(len(max_time_intersection[0][0])):\n",
    "        # print(\"Intersection [\", i, \"][\", j, \"]\")\n",
    "        results = stats.ttest_ind(max_time_intersection[0][:,i,j], max_time_intersection[1][:,i,j])\n",
    "        mean_1 = round(np.mean(max_time_intersection[0][:,i,j]),3)\n",
    "        mean_2 = round(np.mean(max_time_intersection[1][:,i,j]),3)\n",
    "        std_1 = round(np.std(max_time_intersection[0][:,i,j]),3)\n",
    "        std_2 = round(np.std(max_time_intersection[1][:,i,j]),3)\n",
    "        print(\"Intersection [\", i, \"][\", j, \"]: \", \"Adaptive $(M=\",mean_1,\",\\ SD=\",std_1,\")$\",\", Zero $(M=\",mean_2,\",\\ SD=\",std_2,\"),\\ t(\", int(results.df), \")=\", round(results[0], 2), \",\\ p=\", round(results[1], 3), \"$\")\n",
    "        # print(results)\n",
    "        # print(\"The average time waited for the first two simulations are: \" + str(np.mean(max_time_intersection[0][:,i,j])) + \" and \" + str(np.mean(max_time_intersection[1][:,i,j])))\n",
    "        # print(\"The p-value is: \" + str(results[1]))"
   ]
  },
  {
   "cell_type": "code",
   "execution_count": 503,
   "metadata": {},
   "outputs": [
    {
     "name": "stdout",
     "output_type": "stream",
     "text": [
      "AVERAGE TIME WAITED\n",
      "[[0.0271565  0.233166   0.0268695 ]\n",
      " [0.34171025 0.906314   0.28369175]\n",
      " [0.02603975 0.288191   0.02533525]]\n",
      "TtestResult(statistic=-50.687272758511455, pvalue=2.381544171587504e-115, df=198.0)\n",
      "The average time waited for the first two simulations are: 0.23983044444444446 and 0.2772946944444445\n",
      "The p-value is: 2.381544171587504e-115\n",
      "in latex: $(M= 0.24 ,\\ SD= 0.006 )$ $(M= 0.277 ,\\ SD= 0.005 )$\n",
      "in latex: $t( 198.0 )= -50.687 , p= 0.0 $\n"
     ]
    }
   ],
   "source": [
    "###### Grid based######\n",
    "\n",
    "# Average time\n",
    "print(\"AVERAGE TIME WAITED\")\n",
    "average_time_grid = []\n",
    "for exp in results_to_use:\n",
    "    average_time_grid.append(\n",
    "        all_sim_results[exp]['stat_average_time_waited_grid'])\n",
    "\n",
    "means_1 = []\n",
    "for i in range(len(average_time_grid[0])):\n",
    "    means_1.append(np.mean(average_time_grid[0][i]))\n",
    "means_2 = []\n",
    "for i in range(len(average_time_grid[1])):\n",
    "    means_2.append(np.mean(average_time_grid[1][i]))\n",
    "\n",
    "print(np.mean(average_time_grid[0], axis=0))\n",
    "# print(\"mean = \", np.mean(np.mean(average_time_grid[0], axis=0)))\n",
    "# print(\"std = \", np.std(np.mean(average_time_grid[0], axis=0)))\n",
    "\n",
    "results = stats.ttest_ind(means_1, means_2)\n",
    "print(results)\n",
    "print(\"The average time waited for the first two simulations are: \" +\n",
    "      str(np.mean(means_1)) + \" and \" + str(np.mean(means_2)))\n",
    "print(\"The p-value is: \" + str(results[1]))\n",
    "mean_1 = round(np.mean(means_1), 3)\n",
    "mean_2 = round(np.mean(means_2), 3)\n",
    "std_1 = round(np.std(means_1), 3)\n",
    "std_2 = round(np.std(means_2), 3)\n",
    "print(\"in latex:\", \"$(M=\", mean_1, \",\\ SD=\", std_1, \")$\",\n",
    "      \"$(M=\", mean_2, \",\\ SD=\", std_2, \")$\")\n",
    "print(\"in latex:\", \"$t(\", results.df, \")=\", round(\n",
    "    results[0], 3), \", p=\", round(results[1], 3), \"$\")\n",
    "\n",
    "\n",
    "\n",
    "\n",
    "\n",
    "\n",
    "\n",
    "\n",
    "\n",
    "\n",
    "# # Max time\n",
    "# print(\"MAX TIME WAITED\")\n",
    "# max_time_grid = []\n",
    "# for exp in results_to_use:\n",
    "#     max_time_grid.append(\n",
    "#         all_sim_results[exp]['stat_max_time_waited_grid'])\n",
    "\n",
    "# means_1 = []\n",
    "# for i in range(len(max_time_grid[0])):\n",
    "#     means_1.append(np.mean(max_time_grid[0][i]))\n",
    "# means_2 = []\n",
    "# for i in range(len(max_time_grid[1])):\n",
    "#     means_2.append(np.mean(max_time_grid[1][i]))\n",
    "\n",
    "\n",
    "# results = stats.ttest_ind(means_1, means_2)\n",
    "# print(results)\n",
    "# print(\"The max time waited for the first two simulations are: \" +\n",
    "#       str(np.mean(means_1)) + \" and \" + str(np.mean(means_2)))\n",
    "# print(\"The p-value is: \" + str(results[1]))\n",
    "# mean_1 = round(np.mean(means_1), 3)\n",
    "# mean_2 = round(np.mean(means_2), 3)\n",
    "# std_1 = round(np.std(means_1), 3)\n",
    "# std_2 = round(np.std(means_2), 3)\n",
    "# print(\"in latex:\", \"$(M=\", mean_1, \",\\ SD=\", std_1, \")$\",\n",
    "#       \"$(M=\", mean_2, \",\\ SD=\", std_2, \")$\")\n",
    "# print(\"in latex:\", \"$t(\", results.df, \")=\", round(\n",
    "#     results[0], 3), \", p=\", round(results[1], 3), \"$\")"
   ]
  },
  {
   "cell_type": "markdown",
   "metadata": {},
   "source": [
    "## 4. Gini coefficient <a id=\"4\"></a>"
   ]
  },
  {
   "cell_type": "code",
   "execution_count": 504,
   "metadata": {},
   "outputs": [
    {
     "name": "stdout",
     "output_type": "stream",
     "text": [
      "TtestResult(statistic=23.61012818528581, pvalue=1.7638171254215093e-59, df=198.0)\n",
      "The average gini of time waited for the first two simulations are: 0.14131020591026344 and 0.1342498075588954\n",
      "The p-value is: 1.7638171254215093e-59\n",
      "in latex: $(M= 0.141 ,\\ SD= 0.002 )$ $(M= 0.134 ,\\ SD= 0.002 )$\n",
      "in latex: $t( 198.0 )= 23.61 , p= 0.0 $\n"
     ]
    }
   ],
   "source": [
    "# Average Time Waited.\n",
    "#Averaged over epochs and intersections: the gini of each intersection, and average of all the ginis per epoch.\n",
    "all_ginis_time_waited = []\n",
    "for sim in results_to_use:\n",
    "    all_ginis_time_waited.append(\n",
    "        all_sim_results[sim]['stat_time_waited_gini'])\n",
    "\n",
    "results = stats.ttest_ind(all_ginis_time_waited[0], all_ginis_time_waited[1])\n",
    "print(results)\n",
    "# Present the results nicely\n",
    "print(\"The average gini of time waited for the first two simulations are: \" + str(np.mean(all_ginis_time_waited[0])) + \" and \" + str(np.mean(all_ginis_time_waited[1])))\n",
    "print(\"The p-value is: \" + str(results[1]))\n",
    "mean_1 = round(np.mean(all_ginis_time_waited[0]),3)\n",
    "mean_2 = round(np.mean(all_ginis_time_waited[1]),3)\n",
    "std_1 = round(np.std(all_ginis_time_waited[0]),3)\n",
    "std_2 = round(np.std(all_ginis_time_waited[1]),3)\n",
    "print(\"in latex:\",\"$(M=\",mean_1,\",\\ SD=\",std_1,\")$\",\"$(M=\",mean_2,\",\\ SD=\",std_2,\")$\")\n",
    "print(\"in latex:\", \"$t(\", results.df, \")=\", round(results[0], 3), \", p=\", round(results[1], 3), \"$\")\n",
    "\n"
   ]
  },
  {
   "cell_type": "code",
   "execution_count": 505,
   "metadata": {},
   "outputs": [
    {
     "name": "stdout",
     "output_type": "stream",
     "text": [
      "TtestResult(statistic=23.61012818528581, pvalue=1.7638171254215093e-59, df=198.0)\n",
      "The average gini of satisfaction for the first two simulations are: 0.4254760946572833 and 0.43398041667481313\n",
      "The p-value is: 1.7638171254215093e-59\n",
      "in latex: $(M= 0.425 ,\\ SD= 0.002 )$ $(M= 0.434 ,\\ SD= 0.002 )$\n",
      "in latex: $t( 198.0 )= 23.61 , p= 0.0 $\n"
     ]
    }
   ],
   "source": [
    "# Average Satisfaction.\n",
    "#Averaged over epochs and intersections: the gini of each intersection, and average of all the ginis per epoch.\n",
    "all_ginis_satisfaction = []\n",
    "for sim in results_to_use:\n",
    "    all_ginis_satisfaction.append(\n",
    "        all_sim_results[sim]['stat_satisfaction_gini'])\n",
    "\n",
    "results = stats.ttest_ind(all_ginis_time_waited[0], all_ginis_time_waited[1])\n",
    "print(results)\n",
    "#present the results nicely\n",
    "print(\"The average gini of satisfaction for the first two simulations are: \" + str(np.mean(all_ginis_satisfaction[0])) + \" and \" + str(np.mean(all_ginis_satisfaction[1])))\n",
    "print(\"The p-value is: \" + str(results[1]))\n",
    "mean_1 = round(np.mean(all_ginis_satisfaction[0]),3)\n",
    "mean_2 = round(np.mean(all_ginis_satisfaction[1]),3)\n",
    "std_1 = round(np.std(all_ginis_satisfaction[0]),3)\n",
    "std_2 = round(np.std(all_ginis_satisfaction[1]),3)\n",
    "print(\"in latex:\",\"$(M=\",mean_1,\",\\ SD=\",std_1,\")$\",\"$(M=\",mean_2,\",\\ SD=\",std_2,\")$\")\n",
    "print(\"in latex:\", \"$t(\", results.df, \")=\", round(results[0], 3), \", p=\", round(results[1], 3), \"$\")\n",
    "\n"
   ]
  },
  {
   "cell_type": "markdown",
   "metadata": {},
   "source": [
    "## 5. Trip Satisfaction <a id=\"5\"></a>"
   ]
  },
  {
   "cell_type": "code",
   "execution_count": 506,
   "metadata": {},
   "outputs": [
    {
     "name": "stdout",
     "output_type": "stream",
     "text": [
      "TtestResult(statistic=10.285614780730773, pvalue=3.738318338738298e-20, df=198.0)\n",
      "The average satisfaction for the first two simulations are: 0.15633658081673904 and 0.15501660368408524\n",
      "The p-value is: 3.738318338738298e-20\n",
      "in latex: $(M= 0.156 ,\\ SD= 0.001 )$ $(M= 0.155 ,\\ SD= 0.001 )$\n",
      "in latex: $t( 198.0 )= 10.286 , p= 0.0 $\n"
     ]
    }
   ],
   "source": [
    "all_satisfactions = []\n",
    "for sim in results_to_use:\n",
    "    all_satisfactions.append(\n",
    "        all_sim_results[sim]['stat_satisfaction_mean'])\n",
    "\n",
    "results = stats.ttest_ind(all_satisfactions[0], all_satisfactions[1])\n",
    "print(results)\n",
    "#present the results nicely\n",
    "print(\"The average satisfaction for the first two simulations are: \" + str(np.mean(all_satisfactions[0])) + \" and \" + str(np.mean(all_satisfactions[1])))\n",
    "print(\"The p-value is: \" + str(results[1]))\n",
    "mean_1 = round(np.mean(all_satisfactions[0]),3)\n",
    "mean_2 = round(np.mean(all_satisfactions[1]),3)\n",
    "std_1 = round(np.std(all_satisfactions[0]),3)\n",
    "std_2 = round(np.std(all_satisfactions[1]),3)\n",
    "print(\"in latex:\",\"$(M=\",mean_1,\",\\ SD=\",std_1,\")$\",\"$(M=\",mean_2,\",\\ SD=\",std_2,\")$\")\n",
    "print(\"in latex:\", \"$t(\", results.df, \")=\", round(results[0], 3), \", p=\", round(results[1], 3), \"$\")\n"
   ]
  },
  {
   "cell_type": "markdown",
   "metadata": {},
   "source": [
    "## 6. Auction Reward <a id=\"5\"></a>"
   ]
  },
  {
   "cell_type": "code",
   "execution_count": 507,
   "metadata": {},
   "outputs": [
    {
     "name": "stdout",
     "output_type": "stream",
     "text": [
      "Intersection [ 0 ][ 0 ]\n",
      "TtestResult(statistic=5.37253599830821, pvalue=2.1676664679131907e-07, df=198.0)\n",
      "The average auction reward for the first two simulations are: 0.05166941666666667 and 0.04907166666666665\n",
      "The p-value is: 2.1676664679131907e-07\n",
      "Intersection [ 0 ][ 1 ]\n",
      "TtestResult(statistic=5.775212064275728, pvalue=2.9388103477041827e-08, df=198.0)\n",
      "The average auction reward for the first two simulations are: 0.25268666666666667 and 0.24559133333333327\n",
      "The p-value is: 2.9388103477041827e-08\n",
      "Intersection [ 0 ][ 2 ]\n",
      "TtestResult(statistic=4.555596728391792, pvalue=9.122244116795075e-06, df=198.0)\n",
      "The average auction reward for the first two simulations are: 0.05181191666666665 and 0.04981458333333332\n",
      "The p-value is: 9.122244116795075e-06\n",
      "Intersection [ 1 ][ 0 ]\n",
      "TtestResult(statistic=9.05159747443914, pvalue=1.3381396899524995e-16, df=198.0)\n",
      "The average auction reward for the first two simulations are: 0.2633661666666666 and 0.2517284166666666\n",
      "The p-value is: 1.3381396899524995e-16\n",
      "Intersection [ 1 ][ 1 ]\n",
      "TtestResult(statistic=3.1433802130781996, pvalue=0.0019268114259140675, df=198.0)\n",
      "The average auction reward for the first two simulations are: 0.651564 and 0.6481854166666666\n",
      "The p-value is: 0.0019268114259140675\n",
      "Intersection [ 1 ][ 2 ]\n",
      "TtestResult(statistic=6.944388695179544, pvalue=5.328936870938941e-11, df=198.0)\n",
      "The average auction reward for the first two simulations are: 0.25303249999999994 and 0.24506683333333332\n",
      "The p-value is: 5.328936870938941e-11\n",
      "Intersection [ 2 ][ 0 ]\n",
      "TtestResult(statistic=2.52184741275598, pvalue=0.012461696418495139, df=198.0)\n",
      "The average auction reward for the first two simulations are: 0.04919033333333333 and 0.047957166666666676\n",
      "The p-value is: 0.012461696418495139\n",
      "Intersection [ 2 ][ 1 ]\n",
      "TtestResult(statistic=5.856949444586202, pvalue=1.9361524201112884e-08, df=198.0)\n",
      "The average auction reward for the first two simulations are: 0.24420124999999995 and 0.2362713333333333\n",
      "The p-value is: 1.9361524201112884e-08\n",
      "Intersection [ 2 ][ 2 ]\n",
      "TtestResult(statistic=2.167376167397449, pvalue=0.031399709310140696, df=198.0)\n",
      "The average auction reward for the first two simulations are: 0.05035499999999999 and 0.049263166666666657\n",
      "The p-value is: 0.031399709310140696\n"
     ]
    }
   ],
   "source": [
    "######Intersection based - Average Auction Reward######\n",
    "\n",
    "average_reward_intersection = []\n",
    "for exp in results_to_use:\n",
    "    average_reward_intersection.append(\n",
    "        all_sim_results[exp]['stat_average_auction_reward_per_intersection'])\n",
    "    \n",
    "for i in range(len(average_reward_intersection[0][0])):\n",
    "    for j in range(len(average_reward_intersection[0][0])):\n",
    "        print(\"Intersection [\", i, \"][\", j, \"]\")\n",
    "        results = stats.ttest_ind(average_reward_intersection[0][:,i,j], average_reward_intersection[1][:,i,j])\n",
    "        print(results)\n",
    "        print(\"The average auction reward for the first two simulations are: \" + str(np.mean(average_reward_intersection[0][:,i,j])) + \" and \" + str(np.mean(average_reward_intersection[1][:,i,j])))\n",
    "        print(\"The p-value is: \" + str(results[1]))"
   ]
  }
 ],
 "metadata": {
  "kernelspec": {
   "display_name": "cars",
   "language": "python",
   "name": "python3"
  },
  "language_info": {
   "codemirror_mode": {
    "name": "ipython",
    "version": 3
   },
   "file_extension": ".py",
   "mimetype": "text/x-python",
   "name": "python",
   "nbconvert_exporter": "python",
   "pygments_lexer": "ipython3",
   "version": "3.9.16"
  },
  "orig_nbformat": 4
 },
 "nbformat": 4,
 "nbformat_minor": 2
}
