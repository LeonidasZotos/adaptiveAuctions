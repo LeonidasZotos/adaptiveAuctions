{
 "cells": [
  {
   "attachments": {},
   "cell_type": "markdown",
   "metadata": {},
   "source": [
    "\n",
    "# Analysis Notebook\n",
    "\n",
    "This notebook can be used to calculate statistical metrics for the data produced. \n",
    "*** "
   ]
  },
  {
   "attachments": {},
   "cell_type": "markdown",
   "metadata": {},
   "source": [
    "## 0. Setup <a class=\"anchor\" id=\"0\"></a>\n",
    "This section imports all files and sets up the notebook."
   ]
  },
  {
   "cell_type": "code",
   "execution_count": 250,
   "metadata": {},
   "outputs": [],
   "source": [
    "# Import all pacakges\n",
    "import os\n",
    "import pandas as pd\n",
    "import numpy as np\n",
    "from scipy import stats"
   ]
  },
  {
   "cell_type": "code",
   "execution_count": 251,
   "metadata": {},
   "outputs": [
    {
     "name": "stdout",
     "output_type": "stream",
     "text": [
      "Using results: ['Adaptive', 'Zero']\n"
     ]
    }
   ],
   "source": [
    "# Choose which results to use\n",
    "results_to_use = [\"Adaptive\", \"Zero\"]  # If this is empty, all files in the folder will be used\n",
    "WARMUP_EPOCHS = 0 # Number of epochs to ignore.\n",
    "sim_colours = ['blue', 'green', 'red', 'orange', 'purple', 'brown', 'pink', 'gray', 'olive', 'cyan']\n",
    "\n",
    "\n",
    "all_results = os.listdir('results/')\n",
    "\n",
    "if results_to_use == [\"\"]:\n",
    "    results_to_use = all_results\n",
    "# remove DS_Store from the list\n",
    "if '.DS_Store' in results_to_use:\n",
    "    results_to_use.remove('.DS_Store')\n",
    "    \n",
    "print(\"Using results: \" + str(results_to_use))\n"
   ]
  },
  {
   "cell_type": "code",
   "execution_count": 252,
   "metadata": {},
   "outputs": [],
   "source": [
    "# Create a dictionary. Each key is a set of results. \n",
    "\n",
    "all_sim_results = {}\n",
    "\n",
    "for sim in results_to_use:\n",
    "    all_sim_results[sim] = {}\n",
    "    all_sim_results[sim]['configuration'] = pd.read_csv(\n",
    "        'results/' + sim + '/configuration.txt', header=None, delimiter=\":\")\n",
    "    types_of_results = []\n",
    "    # Get all the filenames in the folder, excluding the extension\n",
    "    for file in os.listdir('results/' + sim + '/exported_data/'):\n",
    "        if file.endswith(\".npy\"):\n",
    "            types_of_results.append(file[:-4])\n",
    "    # Create a dictionary for each type of result\n",
    "    for result in types_of_results:\n",
    "        all_sim_results[sim][result] = np.load(\n",
    "            'results/' + sim + '/exported_data/' + result + '.npy')"
   ]
  },
  {
   "cell_type": "code",
   "execution_count": 253,
   "metadata": {},
   "outputs": [
    {
     "name": "stdout",
     "output_type": "stream",
     "text": [
      "Results: Adaptive\n",
      "                                    0                    1\n",
      "0                             command                  run\n",
      "1                       num_of_epochs                10000\n",
      "2                  num_of_simulations                  100\n",
      "3                           grid_size                    3\n",
      "4                      queue_capacity                   10\n",
      "5                     congestion_rate                 0.07\n",
      "6                       with_hotspots                 True\n",
      "7                           wage_time                   10\n",
      "8                      credit_balance                    5\n",
      "9           shared_auction_parameters                 None\n",
      "10  adaptive_auction_action_selection   e_greedy_exp_decay\n",
      "11               bid_calculation_rule               linear\n",
      "12       adaptive_auction_update_rule        simple_bandit\n",
      "13             auction_episode_length                   10\n",
      "14   action_selection_hyperparameters                 None\n",
      "15    adaptive_auction_discretization                   25\n",
      "16             only_winning_bid_moves                 None\n",
      "17           intersection_reward_type    mixed_metric_rank\n",
      "18                  inact_rank_weight                  0.5\n",
      "19                    bid_rank_weight                  0.5\n",
      "20                       all_cars_bid                 True\n",
      "21               shared_bid_generator                 None\n",
      "22                 bidders_proportion      [1, 0, 0, 0, 1]\n",
      "23       bidders_urgency_distribution             gaussian\n",
      "24                     results_folder     results/Adaptive\n",
      "25                         print_grid                 None\n",
      "26                         sweep_mode                 None\n",
      "27                            low_dpi                 None\n",
      "Results: Zero\n",
      "                                    0                   1\n",
      "0                             command                 run\n",
      "1                       num_of_epochs               10000\n",
      "2                  num_of_simulations                 100\n",
      "3                           grid_size                   3\n",
      "4                      queue_capacity                  10\n",
      "5                     congestion_rate                0.07\n",
      "6                       with_hotspots                True\n",
      "7                           wage_time                  10\n",
      "8                      credit_balance                   5\n",
      "9           shared_auction_parameters                None\n",
      "10  adaptive_auction_action_selection                zero\n",
      "11               bid_calculation_rule              linear\n",
      "12       adaptive_auction_update_rule       simple_bandit\n",
      "13             auction_episode_length                  10\n",
      "14   action_selection_hyperparameters                None\n",
      "15    adaptive_auction_discretization                  25\n",
      "16             only_winning_bid_moves                None\n",
      "17           intersection_reward_type   mixed_metric_rank\n",
      "18                  inact_rank_weight                 0.5\n",
      "19                    bid_rank_weight                 0.5\n",
      "20                       all_cars_bid                True\n",
      "21               shared_bid_generator                None\n",
      "22                 bidders_proportion     [1, 0, 0, 0, 1]\n",
      "23       bidders_urgency_distribution            gaussian\n",
      "24                     results_folder        results/Zero\n",
      "25                         print_grid                None\n",
      "26                         sweep_mode                None\n",
      "27                            low_dpi                None\n"
     ]
    }
   ],
   "source": [
    "# Show all the all_sim_results in the notebook\n",
    "for set_of_results in results_to_use:\n",
    "    print(\"Results: \" + set_of_results)\n",
    "    print(all_sim_results[set_of_results]['configuration'])"
   ]
  },
  {
   "attachments": {},
   "cell_type": "markdown",
   "metadata": {},
   "source": [
    "## 1. Average Total Number of Trips  <a class=\"anchor\" id=\"1\"></a>\n",
    "\n",
    "This t-test compares the average total number of trips between the two experiments, for all sims."
   ]
  },
  {
   "cell_type": "code",
   "execution_count": 254,
   "metadata": {},
   "outputs": [
    {
     "name": "stdout",
     "output_type": "stream",
     "text": [
      "TtestResult(statistic=13.714458244223117, pvalue=1.566958989649871e-30, df=198.0)\n",
      "The average number of trips for the first two simulations are: 26645.57 and 26276.88\n",
      "the standard deviation of number of trips for the first two simulations are: 187.71687484080914 and 190.5541539825359\n",
      "in latex: $(M= 26645.57 , SD= 187.717 )$ $(M= 26276.88 , SD= 190.554 )$\n",
      "in latex: t( 198.0 )= 13.714 , p= 0.0\n"
     ]
    }
   ],
   "source": [
    "all_average_number_of_trips = []\n",
    "for sim in results_to_use:\n",
    "    all_average_number_of_trips.append(\n",
    "        all_sim_results[sim]['stat_num_of_trips_per_simulation'])\n",
    "\n",
    "results = stats.ttest_ind(all_average_number_of_trips[0], all_average_number_of_trips[1])\n",
    "print(results)\n",
    "#present the results nicely\n",
    "print(\"The average number of trips for the first two simulations are: \" + str(np.mean(all_average_number_of_trips[0])) + \" and \" + str(np.mean(all_average_number_of_trips[1])))\n",
    "print(\"the standard deviation of number of trips for the first two simulations are: \" + str(np.std(all_average_number_of_trips[0])) + \" and \" + str(np.std(all_average_number_of_trips[1])))\n",
    "mean_1 = round(np.mean(all_average_number_of_trips[0]),3)\n",
    "mean_2 = round(np.mean(all_average_number_of_trips[1]),3)\n",
    "std_1 = round(np.std(all_average_number_of_trips[0]),3)\n",
    "std_2 = round(np.std(all_average_number_of_trips[1]),3)\n",
    "print(\"in latex:\",\"$(M=\",mean_1,\", SD=\",std_1,\")$\",\"$(M=\",mean_2,\", SD=\",std_2,\")$\")\n",
    "print(\"in latex:\", \"t(\", results.df, \")=\", round(results[0], 3), \", p=\", round(results[1], 3))\n",
    "\n"
   ]
  },
  {
   "attachments": {},
   "cell_type": "markdown",
   "metadata": {},
   "source": [
    "## 2. Average Congestion of Central Intersection\n",
    "\n",
    "This t-test is between the 2 experiments, for all sims. It does not process individual epochs"
   ]
  },
  {
   "cell_type": "code",
   "execution_count": 255,
   "metadata": {},
   "outputs": [
    {
     "name": "stdout",
     "output_type": "stream",
     "text": [
      "TtestResult(statistic=-14.916641587979491, pvalue=3.2044169388347188e-34, df=198.0)\n",
      "The average congestion for the first two simulations are: 0.37817357499999993 and 0.39273030000000014\n",
      "The p-value is: 3.2044169388347188e-34\n",
      "The difference is significant\n",
      "in latex: $(M= 0.378 ,\\ SD= 0.008 )$ $(M= 0.393 ,\\ SD= 0.006 )$\n",
      "in latex: $t( 198.0 )= -14.917 , p= 0.0 $\n"
     ]
    }
   ],
   "source": [
    "average_congestion_per_intersection = []\n",
    "for exp in results_to_use:\n",
    "    average_congestion_per_intersection.append(\n",
    "        all_sim_results[exp]['stat_average_congestion_per_intersection'])\n",
    "\n",
    "results = stats.ttest_ind(average_congestion_per_intersection[0][:,1,1], average_congestion_per_intersection[1][:,1,1])\n",
    "print(results)\n",
    "print(\"The average congestion for the first two simulations are: \" + str(np.mean(average_congestion_per_intersection[0][:,1,1])) + \" and \" + str(np.mean(average_congestion_per_intersection[1][:,1,1])))\n",
    "print(\"The p-value is: \" + str(results[1]))\n",
    "if results[1] < 0.05:\n",
    "    print(\"The difference is significant\")\n",
    "else:\n",
    "    print(\"The difference is not significant\")\n",
    "    \n",
    "mean_1 = round(np.mean(average_congestion_per_intersection[0][:,1,1]),3)\n",
    "mean_2 = round(np.mean(average_congestion_per_intersection[1][:,1,1]),3)\n",
    "std_1 = round(np.std(average_congestion_per_intersection[0][:,1,1]),3)\n",
    "std_2 = round(np.std(average_congestion_per_intersection[1][:,1,1]),3)\n",
    "print(\"in latex:\",\"$(M=\",mean_1,\",\\ SD=\",std_1,\")$\",\"$(M=\",mean_2,\",\\ SD=\",std_2,\")$\")\n",
    "print(\"in latex:\", \"$t(\", results.df, \")=\", round(results[0], 3), \", p=\", round(results[1], 3), \"$\")"
   ]
  },
  {
   "attachments": {},
   "cell_type": "markdown",
   "metadata": {},
   "source": [
    "## 3. Average Time Waited <a id=\"3\"></a>\n",
    "\n",
    "agent, intersection and grid based"
   ]
  },
  {
   "cell_type": "code",
   "execution_count": 256,
   "metadata": {},
   "outputs": [
    {
     "name": "stdout",
     "output_type": "stream",
     "text": [
      "TtestResult(statistic=-153.0906781500825, pvalue=1.3904670900221146e-207, df=198.0)\n",
      "The average time waited for the first two simulations are: 0.23138099999999998 and 0.5158373888888889\n",
      "The p-value is: 1.3904670900221146e-207\n",
      "in latex: $(M= 0.231 ,\\ SD= 0.005 )$ $(M= 0.516 ,\\ SD= 0.018 )$\n",
      "in latex: $t( 198.0 )= -153.091 , p= 0.0 $\n",
      "TtestResult(statistic=-147.10191250324314, pvalue=3.50606829956014e-204, df=198.0)\n",
      "The max time waited for the first two simulations are: 0.5864358888888889 and 1.4047065555555553\n",
      "The p-value is: 3.50606829956014e-204\n",
      "in latex: $(M= 0.586 ,\\ SD= 0.012 )$ $(M= 1.405 ,\\ SD= 0.054 )$\n",
      "in latex: $t( 198.0 )= -147.102 ,\\ p= 0.0 $\n"
     ]
    }
   ],
   "source": [
    "######Agent based######\n",
    "# Average time\n",
    "average_time_agent = []\n",
    "for exp in results_to_use:\n",
    "    average_time_agent.append(\n",
    "        all_sim_results[exp]['stat_average_time_waited_per_simulation_agent'])\n",
    "    \n",
    "results = stats.ttest_ind(average_time_agent[0], average_time_agent[1])\n",
    "print(results)\n",
    "print(\"The average time waited for the first two simulations are: \" + str(np.mean(average_time_agent[0])) + \" and \" + str(np.mean(average_time_agent[1])))\n",
    "print(\"The p-value is: \" + str(results[1]))\n",
    "mean_1 = round(np.mean(average_time_agent[0]),3)\n",
    "mean_2 = round(np.mean(average_time_agent[1]),3)\n",
    "std_1 = round(np.std(average_time_agent[0]),3)\n",
    "std_2 = round(np.std(average_time_agent[1]),3)\n",
    "print(\"in latex:\",\"$(M=\",mean_1,\",\\ SD=\",std_1,\")$\",\"$(M=\",mean_2,\",\\ SD=\",std_2,\")$\")\n",
    "print(\"in latex:\", \"$t(\", results.df, \")=\", round(results[0], 3), \", p=\", round(results[1], 3), \"$\")\n",
    "\n",
    "# Max time\n",
    "max_time_agent = []\n",
    "for exp in results_to_use:\n",
    "    max_time_agent.append(\n",
    "        all_sim_results[exp]['stat_max_time_waited_per_simulation_agent'])\n",
    "    \n",
    "results = stats.ttest_ind(max_time_agent[0], max_time_agent[1])\n",
    "print(results)\n",
    "print(\"The max time waited for the first two simulations are: \" + str(np.mean(max_time_agent[0])) + \" and \" + str(np.mean(max_time_agent[1])))\n",
    "print(\"The p-value is: \" + str(results[1]))\n",
    "mean_1 = round(np.mean(max_time_agent[0]),3)\n",
    "mean_2 = round(np.mean(max_time_agent[1]),3)\n",
    "std_1 = round(np.std(max_time_agent[0]),3)\n",
    "std_2 = round(np.std(max_time_agent[1]),3)\n",
    "print(\"in latex:\",\"$(M=\",mean_1,\",\\ SD=\",std_1,\")$\",\"$(M=\",mean_2,\",\\ SD=\",std_2,\")$\")\n",
    "print(\"in latex:\", \"$t(\", results.df, \")=\", round(results[0], 3), \",\\ p=\", round(results[1], 3), \"$\")"
   ]
  },
  {
   "cell_type": "code",
   "execution_count": 257,
   "metadata": {},
   "outputs": [
    {
     "name": "stdout",
     "output_type": "stream",
     "text": [
      "\\item [{[ 0 , 0 ]}]:  Adaptive $(M= 0.024 ,\\ SD= 0.002 )$ , Zero $(M= 0.03 ,\\ SD= 0.004 ),$newline$\\  t( 198 )= -14.92 ,\\ p= 0.0 $\n",
      "\\item [{[ 0 , 1 ]}]:  Adaptive $(M= 0.185 ,\\ SD= 0.02 )$ , Zero $(M= 0.388 ,\\ SD= 0.05 ),$newline$\\  t( 198 )= -37.98 ,\\ p= 0.0 $\n",
      "\\item [{[ 0 , 2 ]}]:  Adaptive $(M= 0.025 ,\\ SD= 0.002 )$ , Zero $(M= 0.03 ,\\ SD= 0.003 ),$newline$\\  t( 198 )= -14.41 ,\\ p= 0.0 $\n",
      "\\item [{[ 1 , 0 ]}]:  Adaptive $(M= 0.18 ,\\ SD= 0.02 )$ , Zero $(M= 0.378 ,\\ SD= 0.048 ),$newline$\\  t( 198 )= -38.22 ,\\ p= 0.0 $\n",
      "\\item [{[ 1 , 1 ]}]:  Adaptive $(M= 1.198 ,\\ SD= 0.057 )$ , Zero $(M= 2.802 ,\\ SD= 0.112 ),$newline$\\  t( 198 )= -126.65 ,\\ p= 0.0 $\n",
      "\\item [{[ 1 , 2 ]}]:  Adaptive $(M= 0.223 ,\\ SD= 0.027 )$ , Zero $(M= 0.522 ,\\ SD= 0.075 ),$newline$\\  t( 198 )= -37.13 ,\\ p= 0.0 $\n",
      "\\item [{[ 2 , 0 ]}]:  Adaptive $(M= 0.025 ,\\ SD= 0.002 )$ , Zero $(M= 0.031 ,\\ SD= 0.004 ),$newline$\\  t( 198 )= -15.19 ,\\ p= 0.0 $\n",
      "\\item [{[ 2 , 1 ]}]:  Adaptive $(M= 0.2 ,\\ SD= 0.018 )$ , Zero $(M= 0.434 ,\\ SD= 0.05 ),$newline$\\  t( 198 )= -43.37 ,\\ p= 0.0 $\n",
      "\\item [{[ 2 , 2 ]}]:  Adaptive $(M= 0.024 ,\\ SD= 0.002 )$ , Zero $(M= 0.029 ,\\ SD= 0.004 ),$newline$\\  t( 198 )= -12.27 ,\\ p= 0.0 $\n"
     ]
    }
   ],
   "source": [
    "######Intersection based - Average Time######\n",
    "\n",
    "average_time_intersection = []\n",
    "for exp in results_to_use:\n",
    "    average_time_intersection.append(\n",
    "        all_sim_results[exp]['stat_average_time_waited_per_intersection'])\n",
    "    \n",
    "for i in range(len(average_time_intersection[0][0])):\n",
    "    for j in range(len(average_time_intersection[0][0])):\n",
    "        # print(\"Intersection [\", i, \"][\", j, \"]\")\n",
    "        results = stats.ttest_ind(average_time_intersection[0][:,i,j], average_time_intersection[1][:,i,j])\n",
    "        # print(results)\n",
    "        # print(\"The average time waited for the first two simulations are: \" + str(np.mean(average_time_intersection[0][:,i,j])) + \" and \" + str(np.mean(average_time_intersection[1][:,i,j])))\n",
    "        # print(\"The p-value is: \" + str(results[1]))\n",
    "        mean_1 = round(np.mean(average_time_intersection[0][:,i,j]),3)\n",
    "        mean_2 = round(np.mean(average_time_intersection[1][:,i,j]),3)\n",
    "        std_1 = round(np.std(average_time_intersection[0][:,i,j]),3)\n",
    "        std_2 = round(np.std(average_time_intersection[1][:,i,j]),3)\n",
    "        print(\"\\item [{[\", i, \",\", j, \"]}]: \", \"Adaptive $(M=\",mean_1,\",\\ SD=\",std_1,\")$\",\", Zero $(M=\",mean_2,\",\\ SD=\",std_2,\"),$newline$\\  t(\", int(results.df), \")=\", round(results[0], 2), \",\\ p=\", round(results[1], 3), \"$\")\n",
    "        # \\item [{[0, 0]}]: Adaptive $(M= 0.027 ,\\ SD= 0.005 )$ , Random $(M= 0.024 ,\\ SD= 0.004 ),$\\newline$\\ t( 198 )= 5.81 ,\\ p<.001 $\n"
   ]
  },
  {
   "cell_type": "code",
   "execution_count": 264,
   "metadata": {},
   "outputs": [
    {
     "name": "stdout",
     "output_type": "stream",
     "text": [
      "\\item [{[ 0 , 0 ]}]:  Adaptive $(M= 0.086 ,\\ SD= 0.007 )$ , Zero $(M= 0.11 ,\\ SD= 0.012 ),$newline$\\  t( 198 )= -17.51 ,\\ p= 0.0 $\n",
      "\\item [{[ 0 , 1 ]}]:  Adaptive $(M= 0.543 ,\\ SD= 0.049 )$ , Zero $(M= 1.172 ,\\ SD= 0.146 ),$newline$\\  t( 198 )= -40.6 ,\\ p= 0.0 $\n",
      "\\item [{[ 0 , 2 ]}]:  Adaptive $(M= 0.089 ,\\ SD= 0.007 )$ , Zero $(M= 0.11 ,\\ SD= 0.01 ),$newline$\\  t( 198 )= -16.91 ,\\ p= 0.0 $\n",
      "\\item [{[ 1 , 0 ]}]:  Adaptive $(M= 0.531 ,\\ SD= 0.05 )$ , Zero $(M= 1.14 ,\\ SD= 0.139 ),$newline$\\  t( 198 )= -41.18 ,\\ p= 0.0 $\n",
      "\\item [{[ 1 , 1 ]}]:  Adaptive $(M= 2.632 ,\\ SD= 0.135 )$ , Zero $(M= 7.019 ,\\ SD= 0.334 ),$newline$\\  t( 198 )= -121.1 ,\\ p= 0.0 $\n",
      "\\item [{[ 1 , 2 ]}]:  Adaptive $(M= 0.637 ,\\ SD= 0.071 )$ , Zero $(M= 1.571 ,\\ SD= 0.25 ),$newline$\\  t( 198 )= -35.79 ,\\ p= 0.0 $\n",
      "\\item [{[ 2 , 0 ]}]:  Adaptive $(M= 0.089 ,\\ SD= 0.005 )$ , Zero $(M= 0.113 ,\\ SD= 0.012 ),$newline$\\  t( 198 )= -18.17 ,\\ p= 0.0 $\n",
      "\\item [{[ 2 , 1 ]}]:  Adaptive $(M= 0.584 ,\\ SD= 0.048 )$ , Zero $(M= 1.301 ,\\ SD= 0.148 ),$newline$\\  t( 198 )= -45.96 ,\\ p= 0.0 $\n",
      "\\item [{[ 2 , 2 ]}]:  Adaptive $(M= 0.086 ,\\ SD= 0.007 )$ , Zero $(M= 0.107 ,\\ SD= 0.012 ),$newline$\\  t( 198 )= -14.35 ,\\ p= 0.0 $\n"
     ]
    }
   ],
   "source": [
    "######Intersection based - Max Time######\n",
    "\n",
    "max_time_intersection = []\n",
    "for exp in results_to_use:\n",
    "    max_time_intersection.append(\n",
    "        all_sim_results[exp]['stat_max_time_waited_per_intersection'])\n",
    "    \n",
    "for i in range(len(max_time_intersection[0][0])):\n",
    "    for j in range(len(max_time_intersection[0][0])):\n",
    "        results = stats.ttest_ind(max_time_intersection[0][:,i,j], max_time_intersection[1][:,i,j])\n",
    "        mean_1 = round(np.mean(max_time_intersection[0][:,i,j]),3)\n",
    "        mean_2 = round(np.mean(max_time_intersection[1][:,i,j]),3)\n",
    "        std_1 = round(np.std(max_time_intersection[0][:,i,j]),3)\n",
    "        std_2 = round(np.std(max_time_intersection[1][:,i,j]),3)\n",
    "        print(\"\\item [{[\", i, \",\", j, \"]}]: \", \"Adaptive $(M=\",mean_1,\",\\ SD=\",std_1,\")$\",\", Zero $(M=\",mean_2,\",\\ SD=\",std_2,\"),$newline$\\  t(\", int(results.df), \")=\", round(results[0], 2), \",\\ p=\", round(results[1], 3), \"$\")\n"
   ]
  },
  {
   "cell_type": "code",
   "execution_count": 259,
   "metadata": {},
   "outputs": [],
   "source": [
    "# ###### Grid based###### DEPRECATED/NOT USED\n",
    "\n",
    "# # Average time\n",
    "# print(\"AVERAGE TIME WAITED\")\n",
    "# average_time_grid = []\n",
    "# for exp in results_to_use:\n",
    "#     average_time_grid.append(\n",
    "#         all_sim_results[exp]['stat_average_time_waited_grid'])\n",
    "\n",
    "# means_1 = []\n",
    "# for i in range(len(average_time_grid[0])):\n",
    "#     means_1.append(np.mean(average_time_grid[0][i]))\n",
    "# means_2 = []\n",
    "# for i in range(len(average_time_grid[1])):\n",
    "#     means_2.append(np.mean(average_time_grid[1][i]))\n",
    "\n",
    "# print(np.mean(average_time_grid[0], axis=0))\n",
    "# # print(\"mean = \", np.mean(np.mean(average_time_grid[0], axis=0)))\n",
    "# # print(\"std = \", np.std(np.mean(average_time_grid[0], axis=0)))\n",
    "\n",
    "# results = stats.ttest_ind(means_1, means_2)\n",
    "# print(results)\n",
    "# print(\"The average time waited for the first two simulations are: \" +\n",
    "#       str(np.mean(means_1)) + \" and \" + str(np.mean(means_2)))\n",
    "# print(\"The p-value is: \" + str(results[1]))\n",
    "# mean_1 = round(np.mean(means_1), 3)\n",
    "# mean_2 = round(np.mean(means_2), 3)\n",
    "# std_1 = round(np.std(means_1), 3)\n",
    "# std_2 = round(np.std(means_2), 3)\n",
    "# print(\"in latex:\", \"$(M=\", mean_1, \",\\ SD=\", std_1, \")$\",\n",
    "#       \"$(M=\", mean_2, \",\\ SD=\", std_2, \")$\")\n",
    "# print(\"in latex:\", \"$t(\", results.df, \")=\", round(\n",
    "#     results[0], 3), \", p=\", round(results[1], 3), \"$\")\n",
    "\n",
    "# # Max time\n",
    "# print(\"MAX TIME WAITED\")\n",
    "# max_time_grid = []\n",
    "# for exp in results_to_use:\n",
    "#     max_time_grid.append(\n",
    "#         all_sim_results[exp]['stat_max_time_waited_grid'])\n",
    "\n",
    "# means_1 = []\n",
    "# for i in range(len(max_time_grid[0])):\n",
    "#     means_1.append(np.mean(max_time_grid[0][i]))\n",
    "# means_2 = []\n",
    "# for i in range(len(max_time_grid[1])):\n",
    "#     means_2.append(np.mean(max_time_grid[1][i]))\n",
    "\n",
    "\n",
    "# results = stats.ttest_ind(means_1, means_2)\n",
    "# print(results)\n",
    "# print(\"The max time waited for the first two simulations are: \" +\n",
    "#       str(np.mean(means_1)) + \" and \" + str(np.mean(means_2)))\n",
    "# print(\"The p-value is: \" + str(results[1]))\n",
    "# mean_1 = round(np.mean(means_1), 3)\n",
    "# mean_2 = round(np.mean(means_2), 3)\n",
    "# std_1 = round(np.std(means_1), 3)\n",
    "# std_2 = round(np.std(means_2), 3)\n",
    "# print(\"in latex:\", \"$(M=\", mean_1, \",\\ SD=\", std_1, \")$\",\n",
    "#       \"$(M=\", mean_2, \",\\ SD=\", std_2, \")$\")\n",
    "# print(\"in latex:\", \"$t(\", results.df, \")=\", round(\n",
    "#     results[0], 3), \", p=\", round(results[1], 3), \"$\")"
   ]
  },
  {
   "cell_type": "markdown",
   "metadata": {},
   "source": [
    "## 4. Gini coefficient <a id=\"4\"></a>"
   ]
  },
  {
   "cell_type": "code",
   "execution_count": 260,
   "metadata": {},
   "outputs": [
    {
     "name": "stdout",
     "output_type": "stream",
     "text": [
      "TtestResult(statistic=4.140836409376089, pvalue=5.11996481651638e-05, df=198.0)\n",
      "The average gini of time waited for the first two simulations are: 0.13611684867377347 and 0.1345962417872545\n",
      "The p-value is: 5.11996481651638e-05\n",
      "in latex: $(M= 0.136 ,\\ SD= 0.003 )$ $(M= 0.135 ,\\ SD= 0.002 )$\n",
      "in latex: $t( 198.0 )= 4.141 , p= 0.0 $\n"
     ]
    }
   ],
   "source": [
    "# Average Time Waited.\n",
    "#Averaged over epochs and intersections: the gini of each intersection, and average of all the ginis per epoch.\n",
    "all_ginis_time_waited = []\n",
    "for sim in results_to_use:\n",
    "    all_ginis_time_waited.append(\n",
    "        all_sim_results[sim]['stat_time_waited_gini'])\n",
    "\n",
    "results = stats.ttest_ind(all_ginis_time_waited[0], all_ginis_time_waited[1])\n",
    "print(results)\n",
    "# Present the results nicely\n",
    "print(\"The average gini of time waited for the first two simulations are: \" + str(np.mean(all_ginis_time_waited[0])) + \" and \" + str(np.mean(all_ginis_time_waited[1])))\n",
    "print(\"The p-value is: \" + str(results[1]))\n",
    "mean_1 = round(np.mean(all_ginis_time_waited[0]),3)\n",
    "mean_2 = round(np.mean(all_ginis_time_waited[1]),3)\n",
    "std_1 = round(np.std(all_ginis_time_waited[0]),3)\n",
    "std_2 = round(np.std(all_ginis_time_waited[1]),3)\n",
    "print(\"in latex:\",\"$(M=\",mean_1,\",\\ SD=\",std_1,\")$\",\"$(M=\",mean_2,\",\\ SD=\",std_2,\")$\")\n",
    "print(\"in latex:\", \"$t(\", results.df, \")=\", round(results[0], 3), \", p=\", round(results[1], 3), \"$\")\n",
    "\n"
   ]
  },
  {
   "cell_type": "code",
   "execution_count": 261,
   "metadata": {},
   "outputs": [
    {
     "name": "stdout",
     "output_type": "stream",
     "text": [
      "TtestResult(statistic=4.140836409376089, pvalue=5.11996481651638e-05, df=198.0)\n",
      "The average gini of satisfaction for the first two simulations are: 0.416427199608096 and 0.43277987740882523\n",
      "The p-value is: 5.11996481651638e-05\n",
      "in latex: $(M= 0.416 ,\\ SD= 0.002 )$ $(M= 0.433 ,\\ SD= 0.002 )$\n",
      "in latex: $t( 198.0 )= 4.141 , p= 0.0 $\n"
     ]
    }
   ],
   "source": [
    "# Average Satisfaction.\n",
    "#Averaged over epochs and intersections: the gini of each intersection, and average of all the ginis per epoch.\n",
    "all_ginis_satisfaction = []\n",
    "for sim in results_to_use:\n",
    "    all_ginis_satisfaction.append(\n",
    "        all_sim_results[sim]['stat_satisfaction_gini'])\n",
    "\n",
    "results = stats.ttest_ind(all_ginis_time_waited[0], all_ginis_time_waited[1])\n",
    "print(results)\n",
    "#present the results nicely\n",
    "print(\"The average gini of satisfaction for the first two simulations are: \" + str(np.mean(all_ginis_satisfaction[0])) + \" and \" + str(np.mean(all_ginis_satisfaction[1])))\n",
    "print(\"The p-value is: \" + str(results[1]))\n",
    "mean_1 = round(np.mean(all_ginis_satisfaction[0]),3)\n",
    "mean_2 = round(np.mean(all_ginis_satisfaction[1]),3)\n",
    "std_1 = round(np.std(all_ginis_satisfaction[0]),3)\n",
    "std_2 = round(np.std(all_ginis_satisfaction[1]),3)\n",
    "print(\"in latex:\",\"$(M=\",mean_1,\",\\ SD=\",std_1,\")$\",\"$(M=\",mean_2,\",\\ SD=\",std_2,\")$\")\n",
    "print(\"in latex:\", \"$t(\", results.df, \")=\", round(results[0], 3), \", p=\", round(results[1], 3), \"$\")\n",
    "\n"
   ]
  },
  {
   "cell_type": "markdown",
   "metadata": {},
   "source": [
    "## 5. Trip Satisfaction <a id=\"5\"></a>"
   ]
  },
  {
   "cell_type": "code",
   "execution_count": 262,
   "metadata": {},
   "outputs": [
    {
     "name": "stdout",
     "output_type": "stream",
     "text": [
      "TtestResult(statistic=-31.09588171217335, pvalue=3.966040874432894e-78, df=198.0)\n",
      "The average satisfaction for the first two simulations are: 0.16730737462014328 and 0.171140287643533\n",
      "The p-value is: 3.966040874432894e-78\n",
      "in latex: $(M= 0.167 ,\\ SD= 0.001 )$ $(M= 0.171 ,\\ SD= 0.001 )$\n",
      "in latex: $t( 198.0 )= -31.096 , p= 0.0 $\n"
     ]
    }
   ],
   "source": [
    "all_satisfactions = []\n",
    "for sim in results_to_use:\n",
    "    all_satisfactions.append(\n",
    "        all_sim_results[sim]['stat_satisfaction_mean'])\n",
    "\n",
    "results = stats.ttest_ind(all_satisfactions[0], all_satisfactions[1])\n",
    "print(results)\n",
    "#present the results nicely\n",
    "print(\"The average satisfaction for the first two simulations are: \" + str(np.mean(all_satisfactions[0])) + \" and \" + str(np.mean(all_satisfactions[1])))\n",
    "print(\"The p-value is: \" + str(results[1]))\n",
    "mean_1 = round(np.mean(all_satisfactions[0]),3)\n",
    "mean_2 = round(np.mean(all_satisfactions[1]),3)\n",
    "std_1 = round(np.std(all_satisfactions[0]),3)\n",
    "std_2 = round(np.std(all_satisfactions[1]),3)\n",
    "print(\"in latex:\",\"$(M=\",mean_1,\",\\ SD=\",std_1,\")$\",\"$(M=\",mean_2,\",\\ SD=\",std_2,\")$\")\n",
    "print(\"in latex:\", \"$t(\", results.df, \")=\", round(results[0], 3), \", p=\", round(results[1], 3), \"$\")\n"
   ]
  },
  {
   "cell_type": "markdown",
   "metadata": {},
   "source": [
    "## 6. Auction Reward <a id=\"5\"></a>"
   ]
  },
  {
   "cell_type": "code",
   "execution_count": 263,
   "metadata": {},
   "outputs": [
    {
     "name": "stdout",
     "output_type": "stream",
     "text": [
      "Intersection [ 0 ][ 0 ]\n",
      "TtestResult(statistic=7.5331445955037, pvalue=1.7246661327693324e-12, df=198.0)\n",
      "The average auction reward for the first two simulations are: 0.05584549999999999 and 0.05214416666666666\n",
      "The p-value is: 1.7246661327693324e-12\n",
      "Intersection [ 0 ][ 1 ]\n",
      "TtestResult(statistic=13.25673829150372, pvalue=3.9795329120912693e-29, df=198.0)\n",
      "The average auction reward for the first two simulations are: 0.24500391666666663 and 0.2241783333333333\n",
      "The p-value is: 3.9795329120912693e-29\n",
      "Intersection [ 0 ][ 2 ]\n",
      "TtestResult(statistic=11.149214566188803, pvalue=1.0185295004992555e-22, df=198.0)\n",
      "The average auction reward for the first two simulations are: 0.057355166666666665 and 0.05233858333333334\n",
      "The p-value is: 1.0185295004992555e-22\n",
      "Intersection [ 1 ][ 0 ]\n",
      "TtestResult(statistic=15.580296837372465, pvalue=2.99269292167578e-36, df=198.0)\n",
      "The average auction reward for the first two simulations are: 0.24614458333333328 and 0.22419475\n",
      "The p-value is: 2.99269292167578e-36\n",
      "Intersection [ 1 ][ 1 ]\n",
      "TtestResult(statistic=17.57976834539367, pvalue=2.686359457172895e-42, df=198.0)\n",
      "The average auction reward for the first two simulations are: 0.7485832499999999 and 0.7312378333333334\n",
      "The p-value is: 2.686359457172895e-42\n",
      "Intersection [ 1 ][ 2 ]\n",
      "TtestResult(statistic=17.320181816690543, pvalue=1.609975826324657e-41, df=198.0)\n",
      "The average auction reward for the first two simulations are: 0.26917674999999996 and 0.24380449999999995\n",
      "The p-value is: 1.609975826324657e-41\n",
      "Intersection [ 2 ][ 0 ]\n",
      "TtestResult(statistic=9.50529529274017, pvalue=6.888120367040581e-18, df=198.0)\n",
      "The average auction reward for the first two simulations are: 0.057981583333333336 and 0.05354091666666666\n",
      "The p-value is: 6.888120367040581e-18\n",
      "Intersection [ 2 ][ 1 ]\n",
      "TtestResult(statistic=15.276450961598698, pvalue=2.537188143640896e-35, df=198.0)\n",
      "The average auction reward for the first two simulations are: 0.2663460833333333 and 0.24421458333333335\n",
      "The p-value is: 2.537188143640896e-35\n",
      "Intersection [ 2 ][ 2 ]\n",
      "TtestResult(statistic=8.595726249915227, pvalue=2.487757292535754e-15, df=198.0)\n",
      "The average auction reward for the first two simulations are: 0.055425583333333334 and 0.050951416666666666\n",
      "The p-value is: 2.487757292535754e-15\n"
     ]
    }
   ],
   "source": [
    "######Intersection based - Average Auction Reward######\n",
    "\n",
    "average_reward_intersection = []\n",
    "for exp in results_to_use:\n",
    "    average_reward_intersection.append(\n",
    "        all_sim_results[exp]['stat_average_auction_reward_per_intersection'])\n",
    "    \n",
    "for i in range(len(average_reward_intersection[0][0])):\n",
    "    for j in range(len(average_reward_intersection[0][0])):\n",
    "        print(\"Intersection [\", i, \"][\", j, \"]\")\n",
    "        results = stats.ttest_ind(average_reward_intersection[0][:,i,j], average_reward_intersection[1][:,i,j])\n",
    "        print(results)\n",
    "        print(\"The average auction reward for the first two simulations are: \" + str(np.mean(average_reward_intersection[0][:,i,j])) + \" and \" + str(np.mean(average_reward_intersection[1][:,i,j])))\n",
    "        print(\"The p-value is: \" + str(results[1]))"
   ]
  }
 ],
 "metadata": {
  "kernelspec": {
   "display_name": "cars",
   "language": "python",
   "name": "python3"
  },
  "language_info": {
   "codemirror_mode": {
    "name": "ipython",
    "version": 3
   },
   "file_extension": ".py",
   "mimetype": "text/x-python",
   "name": "python",
   "nbconvert_exporter": "python",
   "pygments_lexer": "ipython3",
   "version": "3.9.16"
  },
  "orig_nbformat": 4
 },
 "nbformat": 4,
 "nbformat_minor": 2
}
